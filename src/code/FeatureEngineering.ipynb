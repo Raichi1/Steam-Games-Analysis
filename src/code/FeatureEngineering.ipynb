{
 "cells": [
  {
   "cell_type": "markdown",
   "metadata": {},
   "source": [
    "# Import Libraries"
   ]
  },
  {
   "cell_type": "code",
   "execution_count": 241,
   "metadata": {},
   "outputs": [],
   "source": [
    "from sklearn.preprocessing import StandardScaler, MinMaxScaler, RobustScaler, Normalizer\n",
    "from category_encoders import OrdinalEncoder, OneHotEncoder\n",
    "from sklearn.feature_selection import mutual_info_classif\n",
    "from sklearn.decomposition import PCA\n",
    "from sklearn.cluster import KMeans\n",
    "import matplotlib.pyplot as plt\n",
    "import seaborn as sns\n",
    "import pandas as pd\n",
    "import numpy as np\n",
    "import ast\n",
    "import re"
   ]
  },
  {
   "cell_type": "markdown",
   "metadata": {},
   "source": [
    "# Load Dataset"
   ]
  },
  {
   "cell_type": "code",
   "execution_count": 207,
   "metadata": {},
   "outputs": [],
   "source": [
    "games = pd.read_csv('../data/games_clean.csv')"
   ]
  },
  {
   "cell_type": "code",
   "execution_count": 208,
   "metadata": {},
   "outputs": [],
   "source": [
    "games['Release date'] = pd.to_datetime(games['Release date'])"
   ]
  },
  {
   "cell_type": "markdown",
   "metadata": {},
   "source": [
    "# Feature Engineering"
   ]
  },
  {
   "cell_type": "markdown",
   "metadata": {},
   "source": [
    "## Functions"
   ]
  },
  {
   "cell_type": "code",
   "execution_count": 209,
   "metadata": {},
   "outputs": [],
   "source": [
    "def scores_class(features : pd.DataFrame, target : pd.Series, discrete_features : str):\n",
    "  score_classify = mutual_info_classif(features, target, discrete_features=discrete_features)\n",
    "  scores = pd.DataFrame({\n",
    "    'Feature': features.columns,\n",
    "    'MI Score (Classify)': score_classify\n",
    "  })\n",
    "  return scores.sort_values(by = 'MI Score (Classify)', ascending = False)\n",
    "\n",
    "def count_languages(word : str):\n",
    "  word.replace(\"'\", '')\n",
    "  word.replace(\"[\", '').replace(\"]\", '')\n",
    "  return len(word.split(','))"
   ]
  },
  {
   "cell_type": "markdown",
   "metadata": {},
   "source": [
    "## Encode - Feature Categorical"
   ]
  },
  {
   "cell_type": "code",
   "execution_count": 210,
   "metadata": {},
   "outputs": [
    {
     "name": "stdout",
     "output_type": "stream",
     "text": [
      "33\n"
     ]
    }
   ],
   "source": [
    "categories = []\n",
    "for i, row in games.iterrows():\n",
    "    if type(row['Genres'].split(',')) == list:\n",
    "        for cat in row['Genres'].split(','): categories.append(cat)\n",
    "\n",
    "print(len(set(categories)))"
   ]
  },
  {
   "cell_type": "code",
   "execution_count": 211,
   "metadata": {},
   "outputs": [
    {
     "data": {
      "text/html": [
       "<div>\n",
       "<style scoped>\n",
       "    .dataframe tbody tr th:only-of-type {\n",
       "        vertical-align: middle;\n",
       "    }\n",
       "\n",
       "    .dataframe tbody tr th {\n",
       "        vertical-align: top;\n",
       "    }\n",
       "\n",
       "    .dataframe thead th {\n",
       "        text-align: right;\n",
       "    }\n",
       "</style>\n",
       "<table border=\"1\" class=\"dataframe\">\n",
       "  <thead>\n",
       "    <tr style=\"text-align: right;\">\n",
       "      <th></th>\n",
       "      <th>Episodic</th>\n",
       "      <th>Utilities</th>\n",
       "      <th>Photo Editing</th>\n",
       "      <th>360 Video</th>\n",
       "      <th>Sports</th>\n",
       "      <th>Documentary</th>\n",
       "      <th>Education</th>\n",
       "      <th>Design &amp; Illustration</th>\n",
       "      <th>Casual</th>\n",
       "      <th>Violent</th>\n",
       "      <th>...</th>\n",
       "      <th>Software Training</th>\n",
       "      <th>Early Access</th>\n",
       "      <th>Accounting</th>\n",
       "      <th>Racing</th>\n",
       "      <th>Adventure</th>\n",
       "      <th>Simulation</th>\n",
       "      <th>Indie</th>\n",
       "      <th>Nudity</th>\n",
       "      <th>RPG</th>\n",
       "      <th>Movie</th>\n",
       "    </tr>\n",
       "  </thead>\n",
       "  <tbody>\n",
       "    <tr>\n",
       "      <th>0</th>\n",
       "      <td>0</td>\n",
       "      <td>0</td>\n",
       "      <td>0</td>\n",
       "      <td>0</td>\n",
       "      <td>1</td>\n",
       "      <td>0</td>\n",
       "      <td>0</td>\n",
       "      <td>0</td>\n",
       "      <td>1</td>\n",
       "      <td>0</td>\n",
       "      <td>...</td>\n",
       "      <td>0</td>\n",
       "      <td>0</td>\n",
       "      <td>0</td>\n",
       "      <td>0</td>\n",
       "      <td>0</td>\n",
       "      <td>0</td>\n",
       "      <td>1</td>\n",
       "      <td>0</td>\n",
       "      <td>0</td>\n",
       "      <td>0</td>\n",
       "    </tr>\n",
       "    <tr>\n",
       "      <th>1</th>\n",
       "      <td>0</td>\n",
       "      <td>0</td>\n",
       "      <td>0</td>\n",
       "      <td>0</td>\n",
       "      <td>0</td>\n",
       "      <td>0</td>\n",
       "      <td>0</td>\n",
       "      <td>0</td>\n",
       "      <td>0</td>\n",
       "      <td>0</td>\n",
       "      <td>...</td>\n",
       "      <td>0</td>\n",
       "      <td>0</td>\n",
       "      <td>0</td>\n",
       "      <td>0</td>\n",
       "      <td>0</td>\n",
       "      <td>0</td>\n",
       "      <td>1</td>\n",
       "      <td>0</td>\n",
       "      <td>0</td>\n",
       "      <td>0</td>\n",
       "    </tr>\n",
       "    <tr>\n",
       "      <th>2</th>\n",
       "      <td>0</td>\n",
       "      <td>0</td>\n",
       "      <td>0</td>\n",
       "      <td>0</td>\n",
       "      <td>0</td>\n",
       "      <td>0</td>\n",
       "      <td>0</td>\n",
       "      <td>0</td>\n",
       "      <td>0</td>\n",
       "      <td>0</td>\n",
       "      <td>...</td>\n",
       "      <td>0</td>\n",
       "      <td>0</td>\n",
       "      <td>0</td>\n",
       "      <td>0</td>\n",
       "      <td>1</td>\n",
       "      <td>0</td>\n",
       "      <td>1</td>\n",
       "      <td>0</td>\n",
       "      <td>0</td>\n",
       "      <td>0</td>\n",
       "    </tr>\n",
       "    <tr>\n",
       "      <th>3</th>\n",
       "      <td>0</td>\n",
       "      <td>0</td>\n",
       "      <td>0</td>\n",
       "      <td>0</td>\n",
       "      <td>0</td>\n",
       "      <td>0</td>\n",
       "      <td>0</td>\n",
       "      <td>0</td>\n",
       "      <td>1</td>\n",
       "      <td>0</td>\n",
       "      <td>...</td>\n",
       "      <td>0</td>\n",
       "      <td>0</td>\n",
       "      <td>0</td>\n",
       "      <td>0</td>\n",
       "      <td>1</td>\n",
       "      <td>0</td>\n",
       "      <td>1</td>\n",
       "      <td>0</td>\n",
       "      <td>0</td>\n",
       "      <td>0</td>\n",
       "    </tr>\n",
       "    <tr>\n",
       "      <th>4</th>\n",
       "      <td>0</td>\n",
       "      <td>0</td>\n",
       "      <td>0</td>\n",
       "      <td>0</td>\n",
       "      <td>0</td>\n",
       "      <td>0</td>\n",
       "      <td>0</td>\n",
       "      <td>0</td>\n",
       "      <td>0</td>\n",
       "      <td>0</td>\n",
       "      <td>...</td>\n",
       "      <td>0</td>\n",
       "      <td>0</td>\n",
       "      <td>0</td>\n",
       "      <td>0</td>\n",
       "      <td>1</td>\n",
       "      <td>0</td>\n",
       "      <td>1</td>\n",
       "      <td>0</td>\n",
       "      <td>0</td>\n",
       "      <td>0</td>\n",
       "    </tr>\n",
       "  </tbody>\n",
       "</table>\n",
       "<p>5 rows × 33 columns</p>\n",
       "</div>"
      ],
      "text/plain": [
       "   Episodic  Utilities  Photo Editing  360 Video  Sports  Documentary  \\\n",
       "0         0          0              0          0       1            0   \n",
       "1         0          0              0          0       0            0   \n",
       "2         0          0              0          0       0            0   \n",
       "3         0          0              0          0       0            0   \n",
       "4         0          0              0          0       0            0   \n",
       "\n",
       "   Education  Design & Illustration  Casual  Violent  ...  Software Training  \\\n",
       "0          0                      0       1        0  ...                  0   \n",
       "1          0                      0       0        0  ...                  0   \n",
       "2          0                      0       0        0  ...                  0   \n",
       "3          0                      0       1        0  ...                  0   \n",
       "4          0                      0       0        0  ...                  0   \n",
       "\n",
       "   Early Access  Accounting  Racing  Adventure  Simulation  Indie  Nudity  \\\n",
       "0             0           0       0          0           0      1       0   \n",
       "1             0           0       0          0           0      1       0   \n",
       "2             0           0       0          1           0      1       0   \n",
       "3             0           0       0          1           0      1       0   \n",
       "4             0           0       0          1           0      1       0   \n",
       "\n",
       "   RPG  Movie  \n",
       "0    0      0  \n",
       "1    0      0  \n",
       "2    0      0  \n",
       "3    0      0  \n",
       "4    0      0  \n",
       "\n",
       "[5 rows x 33 columns]"
      ]
     },
     "execution_count": 211,
     "metadata": {},
     "output_type": "execute_result"
    }
   ],
   "source": [
    "one_hot_encode = pd.DataFrame()\n",
    "\n",
    "for category in set(categories):\n",
    "    cat = []\n",
    "    for _, row in games.iterrows():\n",
    "        cat.append(np.int64(category in row['Genres'].split(',')))\n",
    "    one_hot_encode[category] = cat\n",
    "\n",
    "one_hot_encode.head()"
   ]
  },
  {
   "cell_type": "code",
   "execution_count": 212,
   "metadata": {},
   "outputs": [],
   "source": [
    "games = pd.concat((games, one_hot_encode), axis = 1)"
   ]
  },
  {
   "cell_type": "code",
   "execution_count": 213,
   "metadata": {},
   "outputs": [],
   "source": [
    "games = games.drop(columns= ['Genres'])"
   ]
  },
  {
   "cell_type": "code",
   "execution_count": 214,
   "metadata": {},
   "outputs": [],
   "source": [
    "ordinal_cols = ['Estimated owners']"
   ]
  },
  {
   "cell_type": "code",
   "execution_count": 215,
   "metadata": {},
   "outputs": [],
   "source": [
    "mappings = [\n",
    "    {\n",
    "        'col' : 'Estimated owners',\n",
    "        'mapping' : {\n",
    "            '0 - 0'                 : 0,\n",
    "            '0 - 20000'             : 1,\n",
    "            '20000 - 50000'         : 2,\n",
    "            '50000 - 100000'        : 3,\n",
    "            '100000 - 200000'       : 4,\n",
    "            '200000 - 500000'       : 5,\n",
    "            '500000 - 1000000'      : 6,\n",
    "            '1000000 - 2000000'     : 7,\n",
    "            '2000000 - 5000000'     : 8,\n",
    "            '5000000 - 10000000'    : 9,\n",
    "            '10000000 - 20000000'   : 10,\n",
    "            '20000000 - 50000000'   : 11,\n",
    "            '50000000 - 100000000'  : 12,\n",
    "            '100000000 - 200000000' : 13\n",
    "        }\n",
    "    }\n",
    "]"
   ]
  },
  {
   "cell_type": "code",
   "execution_count": 216,
   "metadata": {},
   "outputs": [],
   "source": [
    "ordinal_enc = OrdinalEncoder(cols = ordinal_cols, mapping= mappings)"
   ]
  },
  {
   "cell_type": "code",
   "execution_count": 217,
   "metadata": {},
   "outputs": [],
   "source": [
    "games = ordinal_enc.fit_transform(games)"
   ]
  },
  {
   "cell_type": "markdown",
   "metadata": {},
   "source": [
    "## New Features"
   ]
  },
  {
   "cell_type": "code",
   "execution_count": 218,
   "metadata": {},
   "outputs": [],
   "source": [
    "games['Platform_count'] = games[['Windows', 'Mac', 'Linux']].sum(axis = 1)"
   ]
  },
  {
   "cell_type": "code",
   "execution_count": 219,
   "metadata": {},
   "outputs": [],
   "source": [
    "games['Achievements_per_hour'] = games.apply(\n",
    "    lambda x : \n",
    "        x['Achievements'] \n",
    "        if x['Average playtime forever'] == 0 \n",
    "        else x['Achievements'] / x['Average playtime forever'],\n",
    "    axis = 1\n",
    ")"
   ]
  },
  {
   "cell_type": "code",
   "execution_count": 220,
   "metadata": {},
   "outputs": [],
   "source": [
    "games['Genre_count'] = games[list(set(categories))].sum(axis = 1)"
   ]
  },
  {
   "cell_type": "code",
   "execution_count": 221,
   "metadata": {},
   "outputs": [],
   "source": [
    "games['Recent_playtime_ratio'] = games.apply(\n",
    "    lambda x : \n",
    "        x['Average playtime two weeks'] \n",
    "        if x['Average playtime forever'] == 0 \n",
    "        else x['Average playtime two weeks'] / x['Average playtime forever'],\n",
    "    axis = 1\n",
    ")"
   ]
  },
  {
   "cell_type": "code",
   "execution_count": 222,
   "metadata": {},
   "outputs": [],
   "source": [
    "games['Language_count'] = games['Supported languages'].apply(count_languages)"
   ]
  },
  {
   "cell_type": "code",
   "execution_count": 223,
   "metadata": {},
   "outputs": [],
   "source": [
    "games['OS_ratio'] = games[['Windows', 'Mac', 'Linux']].sum(axis = 1) / 3"
   ]
  },
  {
   "cell_type": "code",
   "execution_count": 224,
   "metadata": {},
   "outputs": [],
   "source": [
    "games['Antiquity'] = (pd.to_datetime('today') - games['Release date']).dt.days"
   ]
  },
  {
   "cell_type": "markdown",
   "metadata": {},
   "source": [
    "### Clustering"
   ]
  },
  {
   "cell_type": "code",
   "execution_count": 225,
   "metadata": {},
   "outputs": [],
   "source": [
    "features = games[list(games.select_dtypes(include = 'number').columns)]"
   ]
  },
  {
   "cell_type": "code",
   "execution_count": 226,
   "metadata": {},
   "outputs": [],
   "source": [
    "scaler = StandardScaler()\n",
    "features_scaled = scaler.fit_transform(features)\n",
    "\n",
    "kmeans = KMeans(n_clusters = 3, random_state= 42)\n",
    "games['Cluster'] = kmeans.fit_predict(features_scaled)"
   ]
  },
  {
   "cell_type": "code",
   "execution_count": 227,
   "metadata": {},
   "outputs": [
    {
     "name": "stderr",
     "output_type": "stream",
     "text": [
      "C:\\Users\\HP\\AppData\\Local\\Temp\\ipykernel_19500\\3976155345.py:1: FutureWarning: \n",
      "\n",
      "Passing `palette` without assigning `hue` is deprecated and will be removed in v0.14.0. Assign the `x` variable to `hue` and set `legend=False` for the same effect.\n",
      "\n",
      "  sns.boxplot(x = 'Cluster', y = 'Price', data = games, palette = 'pastel')\n"
     ]
    },
    {
     "data": {
      "text/plain": [
       "<Axes: xlabel='Cluster', ylabel='Price'>"
      ]
     },
     "execution_count": 227,
     "metadata": {},
     "output_type": "execute_result"
    },
    {
     "data": {
      "image/png": "[encoded data removed]",
      "text/plain": [
       "<Figure size 640x480 with 1 Axes>"
      ]
     },
     "metadata": {},
     "output_type": "display_data"
    }
   ],
   "source": [
    "sns.boxplot(x = 'Cluster', y = 'Price', data = games, palette = 'pastel')"
   ]
  },
  {
   "cell_type": "markdown",
   "metadata": {},
   "source": [
    "### Mutual Information"
   ]
  },
  {
   "cell_type": "code",
   "execution_count": 228,
   "metadata": {},
   "outputs": [],
   "source": [
    "features = games.drop(columns=['Estimated owners', 'Release date', 'Supported languages'])\n",
    "target = games['Estimated owners']"
   ]
  },
  {
   "cell_type": "code",
   "execution_count": 229,
   "metadata": {},
   "outputs": [],
   "source": [
    "scores = scores_class(features, target, discrete_features = 'auto')"
   ]
  },
  {
   "cell_type": "code",
   "execution_count": 230,
   "metadata": {},
   "outputs": [],
   "source": [
    "drop_columns = scores[scores['MI Score (Classify)'] < 0.01]"
   ]
  },
  {
   "cell_type": "code",
   "execution_count": 231,
   "metadata": {},
   "outputs": [],
   "source": [
    "games.drop(columns = drop_columns['Feature'].values, inplace = True)"
   ]
  },
  {
   "cell_type": "markdown",
   "metadata": {},
   "source": [
    "### PCA"
   ]
  },
  {
   "cell_type": "code",
   "execution_count": 232,
   "metadata": {},
   "outputs": [],
   "source": [
    "features = games[games.select_dtypes(include = 'number').columns]"
   ]
  },
  {
   "cell_type": "code",
   "execution_count": 239,
   "metadata": {},
   "outputs": [],
   "source": [
    "scaler = StandardScaler()\n",
    "features_scaled = scaler.fit_transform(features)\n",
    "\n",
    "# Create PCA object\n",
    "pca = PCA(n_components = 5)\n",
    "principal_components = pca.fit_transform(features_scaled)\n",
    "\n",
    "pca_df = pd.DataFrame(data=principal_components, columns=['PC1', 'PC2', 'PC3', 'PC4', 'PC5', 'PC6'])\n",
    "\n",
    "pca_df = pd.concat([pca_df, games[['Estimated owners']]], axis=1)"
   ]
  },
  {
   "cell_type": "code",
   "execution_count": 240,
   "metadata": {},
   "outputs": [
    {
     "data": {
      "text/plain": [
       "array([0.15412046, 0.1159463 , 0.09980874, 0.07652521, 0.07423593,\n",
       "       0.07045361])"
      ]
     },
     "execution_count": 240,
     "metadata": {},
     "output_type": "execute_result"
    }
   ],
   "source": [
    "pca.explained_variance_ratio_"
   ]
  },
  {
   "cell_type": "code",
   "execution_count": 235,
   "metadata": {},
   "outputs": [
    {
     "data": {
      "text/html": [
       "<div>\n",
       "<style scoped>\n",
       "    .dataframe tbody tr th:only-of-type {\n",
       "        vertical-align: middle;\n",
       "    }\n",
       "\n",
       "    .dataframe tbody tr th {\n",
       "        vertical-align: top;\n",
       "    }\n",
       "\n",
       "    .dataframe thead th {\n",
       "        text-align: right;\n",
       "    }\n",
       "</style>\n",
       "<table border=\"1\" class=\"dataframe\">\n",
       "  <thead>\n",
       "    <tr style=\"text-align: right;\">\n",
       "      <th></th>\n",
       "      <th>PC1</th>\n",
       "      <th>PC2</th>\n",
       "      <th>PC3</th>\n",
       "      <th>PC4</th>\n",
       "      <th>PC5</th>\n",
       "      <th>Estimated owners</th>\n",
       "    </tr>\n",
       "  </thead>\n",
       "  <tbody>\n",
       "    <tr>\n",
       "      <th>0</th>\n",
       "      <td>0.197985</td>\n",
       "      <td>0.265933</td>\n",
       "      <td>0.028763</td>\n",
       "      <td>-0.918563</td>\n",
       "      <td>0.466334</td>\n",
       "      <td>1</td>\n",
       "    </tr>\n",
       "    <tr>\n",
       "      <th>1</th>\n",
       "      <td>0.900746</td>\n",
       "      <td>1.699968</td>\n",
       "      <td>-0.879967</td>\n",
       "      <td>0.564626</td>\n",
       "      <td>-0.222953</td>\n",
       "      <td>1</td>\n",
       "    </tr>\n",
       "    <tr>\n",
       "      <th>2</th>\n",
       "      <td>-0.861932</td>\n",
       "      <td>-0.759040</td>\n",
       "      <td>0.168772</td>\n",
       "      <td>0.197418</td>\n",
       "      <td>-0.189326</td>\n",
       "      <td>1</td>\n",
       "    </tr>\n",
       "    <tr>\n",
       "      <th>3</th>\n",
       "      <td>1.246381</td>\n",
       "      <td>2.627537</td>\n",
       "      <td>-1.532022</td>\n",
       "      <td>2.230349</td>\n",
       "      <td>-0.567823</td>\n",
       "      <td>1</td>\n",
       "    </tr>\n",
       "    <tr>\n",
       "      <th>4</th>\n",
       "      <td>-0.136971</td>\n",
       "      <td>0.525480</td>\n",
       "      <td>-0.532572</td>\n",
       "      <td>0.569249</td>\n",
       "      <td>-0.206240</td>\n",
       "      <td>1</td>\n",
       "    </tr>\n",
       "  </tbody>\n",
       "</table>\n",
       "</div>"
      ],
      "text/plain": [
       "        PC1       PC2       PC3       PC4       PC5  Estimated owners\n",
       "0  0.197985  0.265933  0.028763 -0.918563  0.466334                 1\n",
       "1  0.900746  1.699968 -0.879967  0.564626 -0.222953                 1\n",
       "2 -0.861932 -0.759040  0.168772  0.197418 -0.189326                 1\n",
       "3  1.246381  2.627537 -1.532022  2.230349 -0.567823                 1\n",
       "4 -0.136971  0.525480 -0.532572  0.569249 -0.206240                 1"
      ]
     },
     "execution_count": 235,
     "metadata": {},
     "output_type": "execute_result"
    }
   ],
   "source": [
    "pca_df.head()"
   ]
  }
 ],
 "metadata": {
  "kernelspec": {
   "display_name": "ML",
   "language": "python",
   "name": "python3"
  },
  "language_info": {
   "codemirror_mode": {
    "name": "ipython",
    "version": 3
   },
   "file_extension": ".py",
   "mimetype": "text/x-python",
   "name": "python",
   "nbconvert_exporter": "python",
   "pygments_lexer": "ipython3",
   "version": "3.10.14"
  }
 },
 "nbformat": 4,
 "nbformat_minor": 2
}
