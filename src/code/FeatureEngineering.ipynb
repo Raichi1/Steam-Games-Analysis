{
 "cells": [
  {
   "cell_type": "markdown",
   "metadata": {},
   "source": [
    "# Import Libraries"
   ]
  },
  {
   "cell_type": "code",
   "execution_count": 130,
   "metadata": {},
   "outputs": [],
   "source": [
    "from sklearn.feature_selection import mutual_info_regression\n",
    "from category_encoders import OrdinalEncoder, OneHotEncoder\n",
    "import pandas as pd\n",
    "import numpy as np\n",
    "import ast\n",
    "import re"
   ]
  },
  {
   "cell_type": "markdown",
   "metadata": {},
   "source": [
    "# Load Dataset"
   ]
  },
  {
   "cell_type": "code",
   "execution_count": 22,
   "metadata": {},
   "outputs": [],
   "source": [
    "games = pd.read_csv('../data/games_clean.csv')"
   ]
  },
  {
   "cell_type": "code",
   "execution_count": 99,
   "metadata": {},
   "outputs": [],
   "source": [
    "games_ax = pd.read_csv('../data/games.csv')"
   ]
  },
  {
   "cell_type": "code",
   "execution_count": 23,
   "metadata": {},
   "outputs": [],
   "source": [
    "games['Release date'] = pd.to_datetime(games['Release date'])"
   ]
  },
  {
   "cell_type": "markdown",
   "metadata": {},
   "source": [
    "# Feature Engineering"
   ]
  },
  {
   "cell_type": "markdown",
   "metadata": {},
   "source": [
    "## Functions"
   ]
  },
  {
   "cell_type": "code",
   "execution_count": 139,
   "metadata": {},
   "outputs": [],
   "source": [
    "def make_mi_scores(X, y, discrete_features):\n",
    "  mi_scores = mutual_info_regression(X, y, discrete_features=discrete_features)\n",
    "  mi_scores = pd.Series(mi_scores, name=\"MI Scores\", index=X.columns)\n",
    "  mi_scores = mi_scores.sort_values(ascending=False)\n",
    "  return mi_scores\n",
    "\n",
    "def clean_str(word : str):\n",
    "  cleaned = re.sub(r\"[^'\\[\\],]+\", '', word)\n",
    "  return cleaned\n",
    "\n",
    "def count_languages(x):\n",
    "  try:\n",
    "    return len(ast.literal_eval(x))\n",
    "  except (ValueError, SyntaxError):\n",
    "    return 0"
   ]
  },
  {
   "cell_type": "markdown",
   "metadata": {},
   "source": [
    "## Encode - Feature Categorical"
   ]
  },
  {
   "cell_type": "code",
   "execution_count": 50,
   "metadata": {},
   "outputs": [
    {
     "name": "stdout",
     "output_type": "stream",
     "text": [
      "33\n"
     ]
    }
   ],
   "source": [
    "categories = []\n",
    "for i, row in games.iterrows():\n",
    "    if type(row['Genres'].split(',')) == list:\n",
    "        for cat in row['Genres'].split(','): categories.append(cat)\n",
    "    # break\n",
    "\n",
    "print(len(set(categories)))"
   ]
  },
  {
   "cell_type": "code",
   "execution_count": 52,
   "metadata": {},
   "outputs": [
    {
     "data": {
      "text/html": [
       "<div>\n",
       "<style scoped>\n",
       "    .dataframe tbody tr th:only-of-type {\n",
       "        vertical-align: middle;\n",
       "    }\n",
       "\n",
       "    .dataframe tbody tr th {\n",
       "        vertical-align: top;\n",
       "    }\n",
       "\n",
       "    .dataframe thead th {\n",
       "        text-align: right;\n",
       "    }\n",
       "</style>\n",
       "<table border=\"1\" class=\"dataframe\">\n",
       "  <thead>\n",
       "    <tr style=\"text-align: right;\">\n",
       "      <th></th>\n",
       "      <th>Sports</th>\n",
       "      <th>Tutorial</th>\n",
       "      <th>Early Access</th>\n",
       "      <th>Photo Editing</th>\n",
       "      <th>Nudity</th>\n",
       "      <th>Game Development</th>\n",
       "      <th>Adventure</th>\n",
       "      <th>Short</th>\n",
       "      <th>Action</th>\n",
       "      <th>Audio Production</th>\n",
       "      <th>Indie</th>\n",
       "      <th>Free to Play</th>\n",
       "      <th>Education</th>\n",
       "      <th>Web Publishing</th>\n",
       "      <th>Gore</th>\n",
       "      <th>Utilities</th>\n",
       "      <th>Documentary</th>\n",
       "      <th>Strategy</th>\n",
       "      <th>Accounting</th>\n",
       "      <th>RPG</th>\n",
       "      <th>Software Training</th>\n",
       "      <th>Massively Multiplayer</th>\n",
       "      <th>Video Production</th>\n",
       "      <th>Animation &amp; Modeling</th>\n",
       "      <th>Violent</th>\n",
       "      <th>Sexual Content</th>\n",
       "      <th>360 Video</th>\n",
       "      <th>Episodic</th>\n",
       "      <th>Simulation</th>\n",
       "      <th>Casual</th>\n",
       "      <th>Racing</th>\n",
       "      <th>Design &amp; Illustration</th>\n",
       "      <th>Movie</th>\n",
       "    </tr>\n",
       "  </thead>\n",
       "  <tbody>\n",
       "    <tr>\n",
       "      <th>0</th>\n",
       "      <td>1</td>\n",
       "      <td>0</td>\n",
       "      <td>0</td>\n",
       "      <td>0</td>\n",
       "      <td>0</td>\n",
       "      <td>0</td>\n",
       "      <td>0</td>\n",
       "      <td>0</td>\n",
       "      <td>0</td>\n",
       "      <td>0</td>\n",
       "      <td>1</td>\n",
       "      <td>0</td>\n",
       "      <td>0</td>\n",
       "      <td>0</td>\n",
       "      <td>0</td>\n",
       "      <td>0</td>\n",
       "      <td>0</td>\n",
       "      <td>0</td>\n",
       "      <td>0</td>\n",
       "      <td>0</td>\n",
       "      <td>0</td>\n",
       "      <td>0</td>\n",
       "      <td>0</td>\n",
       "      <td>0</td>\n",
       "      <td>0</td>\n",
       "      <td>0</td>\n",
       "      <td>0</td>\n",
       "      <td>0</td>\n",
       "      <td>0</td>\n",
       "      <td>1</td>\n",
       "      <td>0</td>\n",
       "      <td>0</td>\n",
       "      <td>0</td>\n",
       "    </tr>\n",
       "    <tr>\n",
       "      <th>1</th>\n",
       "      <td>0</td>\n",
       "      <td>0</td>\n",
       "      <td>0</td>\n",
       "      <td>0</td>\n",
       "      <td>0</td>\n",
       "      <td>0</td>\n",
       "      <td>0</td>\n",
       "      <td>0</td>\n",
       "      <td>1</td>\n",
       "      <td>0</td>\n",
       "      <td>1</td>\n",
       "      <td>0</td>\n",
       "      <td>0</td>\n",
       "      <td>0</td>\n",
       "      <td>0</td>\n",
       "      <td>0</td>\n",
       "      <td>0</td>\n",
       "      <td>0</td>\n",
       "      <td>0</td>\n",
       "      <td>0</td>\n",
       "      <td>0</td>\n",
       "      <td>0</td>\n",
       "      <td>0</td>\n",
       "      <td>0</td>\n",
       "      <td>0</td>\n",
       "      <td>0</td>\n",
       "      <td>0</td>\n",
       "      <td>0</td>\n",
       "      <td>0</td>\n",
       "      <td>0</td>\n",
       "      <td>0</td>\n",
       "      <td>0</td>\n",
       "      <td>0</td>\n",
       "    </tr>\n",
       "    <tr>\n",
       "      <th>2</th>\n",
       "      <td>0</td>\n",
       "      <td>0</td>\n",
       "      <td>0</td>\n",
       "      <td>0</td>\n",
       "      <td>0</td>\n",
       "      <td>0</td>\n",
       "      <td>1</td>\n",
       "      <td>0</td>\n",
       "      <td>1</td>\n",
       "      <td>0</td>\n",
       "      <td>1</td>\n",
       "      <td>0</td>\n",
       "      <td>0</td>\n",
       "      <td>0</td>\n",
       "      <td>0</td>\n",
       "      <td>0</td>\n",
       "      <td>0</td>\n",
       "      <td>1</td>\n",
       "      <td>0</td>\n",
       "      <td>0</td>\n",
       "      <td>0</td>\n",
       "      <td>0</td>\n",
       "      <td>0</td>\n",
       "      <td>0</td>\n",
       "      <td>0</td>\n",
       "      <td>0</td>\n",
       "      <td>0</td>\n",
       "      <td>0</td>\n",
       "      <td>0</td>\n",
       "      <td>0</td>\n",
       "      <td>0</td>\n",
       "      <td>0</td>\n",
       "      <td>0</td>\n",
       "    </tr>\n",
       "    <tr>\n",
       "      <th>3</th>\n",
       "      <td>0</td>\n",
       "      <td>0</td>\n",
       "      <td>0</td>\n",
       "      <td>0</td>\n",
       "      <td>0</td>\n",
       "      <td>0</td>\n",
       "      <td>1</td>\n",
       "      <td>0</td>\n",
       "      <td>0</td>\n",
       "      <td>0</td>\n",
       "      <td>1</td>\n",
       "      <td>0</td>\n",
       "      <td>0</td>\n",
       "      <td>0</td>\n",
       "      <td>0</td>\n",
       "      <td>0</td>\n",
       "      <td>0</td>\n",
       "      <td>0</td>\n",
       "      <td>0</td>\n",
       "      <td>0</td>\n",
       "      <td>0</td>\n",
       "      <td>0</td>\n",
       "      <td>0</td>\n",
       "      <td>0</td>\n",
       "      <td>0</td>\n",
       "      <td>0</td>\n",
       "      <td>0</td>\n",
       "      <td>0</td>\n",
       "      <td>0</td>\n",
       "      <td>1</td>\n",
       "      <td>0</td>\n",
       "      <td>0</td>\n",
       "      <td>0</td>\n",
       "    </tr>\n",
       "    <tr>\n",
       "      <th>4</th>\n",
       "      <td>0</td>\n",
       "      <td>0</td>\n",
       "      <td>0</td>\n",
       "      <td>0</td>\n",
       "      <td>0</td>\n",
       "      <td>0</td>\n",
       "      <td>1</td>\n",
       "      <td>0</td>\n",
       "      <td>0</td>\n",
       "      <td>0</td>\n",
       "      <td>1</td>\n",
       "      <td>0</td>\n",
       "      <td>0</td>\n",
       "      <td>0</td>\n",
       "      <td>0</td>\n",
       "      <td>0</td>\n",
       "      <td>0</td>\n",
       "      <td>0</td>\n",
       "      <td>0</td>\n",
       "      <td>0</td>\n",
       "      <td>0</td>\n",
       "      <td>0</td>\n",
       "      <td>0</td>\n",
       "      <td>0</td>\n",
       "      <td>0</td>\n",
       "      <td>0</td>\n",
       "      <td>0</td>\n",
       "      <td>0</td>\n",
       "      <td>0</td>\n",
       "      <td>0</td>\n",
       "      <td>0</td>\n",
       "      <td>0</td>\n",
       "      <td>0</td>\n",
       "    </tr>\n",
       "  </tbody>\n",
       "</table>\n",
       "</div>"
      ],
      "text/plain": [
       "   Sports  Tutorial  Early Access  Photo Editing  Nudity  Game Development  \\\n",
       "0       1         0             0              0       0                 0   \n",
       "1       0         0             0              0       0                 0   \n",
       "2       0         0             0              0       0                 0   \n",
       "3       0         0             0              0       0                 0   \n",
       "4       0         0             0              0       0                 0   \n",
       "\n",
       "   Adventure  Short  Action  Audio Production  Indie  Free to Play  Education  \\\n",
       "0          0      0       0                 0      1             0          0   \n",
       "1          0      0       1                 0      1             0          0   \n",
       "2          1      0       1                 0      1             0          0   \n",
       "3          1      0       0                 0      1             0          0   \n",
       "4          1      0       0                 0      1             0          0   \n",
       "\n",
       "   Web Publishing  Gore  Utilities  Documentary  Strategy  Accounting  RPG  \\\n",
       "0               0     0          0            0         0           0    0   \n",
       "1               0     0          0            0         0           0    0   \n",
       "2               0     0          0            0         1           0    0   \n",
       "3               0     0          0            0         0           0    0   \n",
       "4               0     0          0            0         0           0    0   \n",
       "\n",
       "   Software Training  Massively Multiplayer  Video Production  \\\n",
       "0                  0                      0                 0   \n",
       "1                  0                      0                 0   \n",
       "2                  0                      0                 0   \n",
       "3                  0                      0                 0   \n",
       "4                  0                      0                 0   \n",
       "\n",
       "   Animation & Modeling  Violent  Sexual Content  360 Video  Episodic  \\\n",
       "0                     0        0               0          0         0   \n",
       "1                     0        0               0          0         0   \n",
       "2                     0        0               0          0         0   \n",
       "3                     0        0               0          0         0   \n",
       "4                     0        0               0          0         0   \n",
       "\n",
       "   Simulation  Casual  Racing  Design & Illustration  Movie  \n",
       "0           0       1       0                      0      0  \n",
       "1           0       0       0                      0      0  \n",
       "2           0       0       0                      0      0  \n",
       "3           0       1       0                      0      0  \n",
       "4           0       0       0                      0      0  "
      ]
     },
     "execution_count": 52,
     "metadata": {},
     "output_type": "execute_result"
    }
   ],
   "source": [
    "one_hot_encode = pd.DataFrame()\n",
    "\n",
    "for category in set(categories):\n",
    "    cat = []\n",
    "    for _, row in games.iterrows():\n",
    "        cat.append(np.int64(category in row['Genres'].split(',')))\n",
    "    one_hot_encode[category] = cat\n",
    "\n",
    "one_hot_encode.head()"
   ]
  },
  {
   "cell_type": "code",
   "execution_count": 60,
   "metadata": {},
   "outputs": [],
   "source": [
    "games = pd.concat((games, one_hot_encode), axis = 1)"
   ]
  },
  {
   "cell_type": "code",
   "execution_count": 62,
   "metadata": {},
   "outputs": [],
   "source": [
    "games = games.drop(columns= ['Genres'])"
   ]
  },
  {
   "cell_type": "code",
   "execution_count": 64,
   "metadata": {},
   "outputs": [],
   "source": [
    "ordinal_cols = ['Estimated owners']"
   ]
  },
  {
   "cell_type": "code",
   "execution_count": 28,
   "metadata": {},
   "outputs": [],
   "source": [
    "mappings = [\n",
    "    {\n",
    "        'col' : 'Estimated owners',\n",
    "        'mapping' : {\n",
    "            '0 - 0'                 : 0,\n",
    "            '0 - 20000'             : 1,\n",
    "            '20000 - 50000'         : 2,\n",
    "            '50000 - 100000'        : 3,\n",
    "            '100000 - 200000'       : 4,\n",
    "            '200000 - 500000'       : 5,\n",
    "            '500000 - 1000000'      : 6,\n",
    "            '1000000 - 2000000'     : 7,\n",
    "            '2000000 - 5000000'     : 8,\n",
    "            '5000000 - 10000000'    : 9,\n",
    "            '10000000 - 20000000'   : 10,\n",
    "            '20000000 - 50000000'   : 11,\n",
    "            '50000000 - 100000000'  : 12,\n",
    "            '100000000 - 200000000' : 13\n",
    "        }\n",
    "    }\n",
    "]"
   ]
  },
  {
   "cell_type": "code",
   "execution_count": 65,
   "metadata": {},
   "outputs": [],
   "source": [
    "ordinal_enc = OrdinalEncoder(cols = ordinal_cols, mapping= mappings)"
   ]
  },
  {
   "cell_type": "code",
   "execution_count": 70,
   "metadata": {},
   "outputs": [],
   "source": [
    "games = ordinal_enc.fit_transform(games)"
   ]
  },
  {
   "cell_type": "markdown",
   "metadata": {},
   "source": [
    "## New Features"
   ]
  },
  {
   "cell_type": "code",
   "execution_count": 79,
   "metadata": {},
   "outputs": [],
   "source": [
    "games['Platform_count'] = games[['Windows', 'Mac', 'Linux']].sum(axis = 1)"
   ]
  },
  {
   "cell_type": "code",
   "execution_count": 89,
   "metadata": {},
   "outputs": [],
   "source": [
    "games['Achievements_per_hour'] = games.apply(\n",
    "    lambda x : \n",
    "        x['Achievements'] \n",
    "        if x['Average playtime forever'] == 0 \n",
    "        else x['Achievements'] / x['Average playtime forever'],\n",
    "    axis = 1\n",
    ")"
   ]
  },
  {
   "cell_type": "code",
   "execution_count": 92,
   "metadata": {},
   "outputs": [],
   "source": [
    "games['Genre_count'] = games[list(set(categories))].sum(axis = 1)"
   ]
  },
  {
   "cell_type": "code",
   "execution_count": 94,
   "metadata": {},
   "outputs": [],
   "source": [
    "games['Recent_playtime_ratio'] = games['Average playtime two weeks'] / games['Average playtime forever']"
   ]
  },
  {
   "cell_type": "code",
   "execution_count": 96,
   "metadata": {},
   "outputs": [],
   "source": [
    "games['Recent_playtime_ratio'] = games.apply(\n",
    "    lambda x : \n",
    "        x['Average playtime two weeks'] \n",
    "        if x['Average playtime forever'] == 0 \n",
    "        else x['Average playtime two weeks'] / x['Average playtime forever'],\n",
    "    axis = 1\n",
    ")"
   ]
  },
  {
   "cell_type": "code",
   "execution_count": 129,
   "metadata": {},
   "outputs": [
    {
     "data": {
      "text/plain": [
       "str"
      ]
     },
     "execution_count": 129,
     "metadata": {},
     "output_type": "execute_result"
    }
   ],
   "source": [
    "type(ast.literal_eval(games_ax['Supported languages'][1])[0])"
   ]
  },
  {
   "cell_type": "code",
   "execution_count": 135,
   "metadata": {},
   "outputs": [],
   "source": [
    "games_ax['Supported languages'] = games_ax['Supported languages'].apply(clean_str)"
   ]
  },
  {
   "cell_type": "code",
   "execution_count": 140,
   "metadata": {},
   "outputs": [],
   "source": [
    "games_ax['Language_count'] = games_ax['Supported languages'].apply(count_languages)"
   ]
  },
  {
   "cell_type": "code",
   "execution_count": 142,
   "metadata": {},
   "outputs": [
    {
     "data": {
      "text/plain": [
       "71715    0\n",
       "21767    0\n",
       "55194    0\n",
       "21764    0\n",
       "21763    0\n",
       "        ..\n",
       "27180    1\n",
       "27181    1\n",
       "27182    1\n",
       "27221    1\n",
       "35857    1\n",
       "Name: Language_count, Length: 71716, dtype: int64"
      ]
     },
     "execution_count": 142,
     "metadata": {},
     "output_type": "execute_result"
    }
   ],
   "source": [
    "games_ax['Language_count'].sort_values()"
   ]
  }
 ],
 "metadata": {
  "kernelspec": {
   "display_name": "ML",
   "language": "python",
   "name": "python3"
  },
  "language_info": {
   "codemirror_mode": {
    "name": "ipython",
    "version": 3
   },
   "file_extension": ".py",
   "mimetype": "text/x-python",
   "name": "python",
   "nbconvert_exporter": "python",
   "pygments_lexer": "ipython3",
   "version": "3.10.14"
  }
 },
 "nbformat": 4,
 "nbformat_minor": 2
}
