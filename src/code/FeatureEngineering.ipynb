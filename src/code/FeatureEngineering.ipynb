{
 "cells": [
  {
   "cell_type": "markdown",
   "metadata": {},
   "source": [
    "# Import Libraries"
   ]
  },
  {
   "cell_type": "code",
   "execution_count": 43,
   "metadata": {},
   "outputs": [],
   "source": [
    "from sklearn.preprocessing import MinMaxScaler, RobustScaler\n",
    "from category_encoders import OrdinalEncoder\n",
    "from sklearn.feature_selection import mutual_info_classif\n",
    "from sklearn.decomposition import PCA\n",
    "import matplotlib.pyplot as plt\n",
    "import pandas as pd\n",
    "import numpy as np"
   ]
  },
  {
   "cell_type": "markdown",
   "metadata": {},
   "source": [
    "# Configuration"
   ]
  },
  {
   "cell_type": "code",
   "execution_count": 44,
   "metadata": {},
   "outputs": [],
   "source": [
    "colors = [\"#283149\", \"#404B69\", \"#DBEDF3\", \"#DBDBDB\", \"#FFFFFF\"]"
   ]
  },
  {
   "cell_type": "markdown",
   "metadata": {},
   "source": [
    "# Load Dataset"
   ]
  },
  {
   "cell_type": "code",
   "execution_count": 45,
   "metadata": {},
   "outputs": [],
   "source": [
    "games = pd.read_csv('../data/games_clean.csv')"
   ]
  },
  {
   "cell_type": "code",
   "execution_count": 46,
   "metadata": {},
   "outputs": [],
   "source": [
    "games['Release date'] = pd.to_datetime(games['Release date'])"
   ]
  },
  {
   "cell_type": "code",
   "execution_count": 47,
   "metadata": {},
   "outputs": [],
   "source": [
    "games['Mac'] = games['Mac'].astype(int)"
   ]
  },
  {
   "cell_type": "markdown",
   "metadata": {},
   "source": [
    "# Feature Engineering"
   ]
  },
  {
   "cell_type": "markdown",
   "metadata": {},
   "source": [
    "## Functions"
   ]
  },
  {
   "cell_type": "code",
   "execution_count": 48,
   "metadata": {},
   "outputs": [],
   "source": [
    "def scores_class(features : pd.DataFrame, target : pd.Series, discrete_features : str):\n",
    "  score_classify = mutual_info_classif(features, target, discrete_features=discrete_features)\n",
    "  scores = pd.DataFrame({\n",
    "    'Feature': features.columns,\n",
    "    'MI Score (Classify)': score_classify\n",
    "  })\n",
    "  return scores.sort_values(by = 'MI Score (Classify)', ascending = False)\n",
    "\n",
    "def count_languages(word : str):\n",
    "  word.replace(\"'\", '')\n",
    "  word.replace(\"[\", '').replace(\"]\", '')\n",
    "  return len(word.split(','))"
   ]
  },
  {
   "cell_type": "markdown",
   "metadata": {},
   "source": [
    "## Encode - Feature Categorical"
   ]
  },
  {
   "cell_type": "code",
   "execution_count": 49,
   "metadata": {},
   "outputs": [
    {
     "name": "stdout",
     "output_type": "stream",
     "text": [
      "33\n"
     ]
    }
   ],
   "source": [
    "categories = []\n",
    "for i, row in games.iterrows():\n",
    "    if type(row['Genres'].split(',')) == list:\n",
    "        for cat in row['Genres'].split(','): categories.append(cat)\n",
    "\n",
    "print(len(set(categories)))"
   ]
  },
  {
   "cell_type": "code",
   "execution_count": 50,
   "metadata": {},
   "outputs": [
    {
     "data": {
      "text/html": [
       "<div>\n",
       "<style scoped>\n",
       "    .dataframe tbody tr th:only-of-type {\n",
       "        vertical-align: middle;\n",
       "    }\n",
       "\n",
       "    .dataframe tbody tr th {\n",
       "        vertical-align: top;\n",
       "    }\n",
       "\n",
       "    .dataframe thead th {\n",
       "        text-align: right;\n",
       "    }\n",
       "</style>\n",
       "<table border=\"1\" class=\"dataframe\">\n",
       "  <thead>\n",
       "    <tr style=\"text-align: right;\">\n",
       "      <th></th>\n",
       "      <th>Photo Editing</th>\n",
       "      <th>Game Development</th>\n",
       "      <th>Massively Multiplayer</th>\n",
       "      <th>Audio Production</th>\n",
       "      <th>Tutorial</th>\n",
       "      <th>Software Training</th>\n",
       "      <th>Sexual Content</th>\n",
       "      <th>Documentary</th>\n",
       "      <th>Strategy</th>\n",
       "      <th>Free to Play</th>\n",
       "      <th>...</th>\n",
       "      <th>RPG</th>\n",
       "      <th>Action</th>\n",
       "      <th>Video Production</th>\n",
       "      <th>Adventure</th>\n",
       "      <th>Racing</th>\n",
       "      <th>Early Access</th>\n",
       "      <th>Utilities</th>\n",
       "      <th>Education</th>\n",
       "      <th>Gore</th>\n",
       "      <th>Animation &amp; Modeling</th>\n",
       "    </tr>\n",
       "  </thead>\n",
       "  <tbody>\n",
       "    <tr>\n",
       "      <th>0</th>\n",
       "      <td>0</td>\n",
       "      <td>0</td>\n",
       "      <td>0</td>\n",
       "      <td>0</td>\n",
       "      <td>0</td>\n",
       "      <td>0</td>\n",
       "      <td>0</td>\n",
       "      <td>0</td>\n",
       "      <td>0</td>\n",
       "      <td>0</td>\n",
       "      <td>...</td>\n",
       "      <td>0</td>\n",
       "      <td>0</td>\n",
       "      <td>0</td>\n",
       "      <td>0</td>\n",
       "      <td>0</td>\n",
       "      <td>0</td>\n",
       "      <td>0</td>\n",
       "      <td>0</td>\n",
       "      <td>0</td>\n",
       "      <td>0</td>\n",
       "    </tr>\n",
       "    <tr>\n",
       "      <th>1</th>\n",
       "      <td>0</td>\n",
       "      <td>0</td>\n",
       "      <td>0</td>\n",
       "      <td>0</td>\n",
       "      <td>0</td>\n",
       "      <td>0</td>\n",
       "      <td>0</td>\n",
       "      <td>0</td>\n",
       "      <td>0</td>\n",
       "      <td>0</td>\n",
       "      <td>...</td>\n",
       "      <td>0</td>\n",
       "      <td>1</td>\n",
       "      <td>0</td>\n",
       "      <td>0</td>\n",
       "      <td>0</td>\n",
       "      <td>0</td>\n",
       "      <td>0</td>\n",
       "      <td>0</td>\n",
       "      <td>0</td>\n",
       "      <td>0</td>\n",
       "    </tr>\n",
       "    <tr>\n",
       "      <th>2</th>\n",
       "      <td>0</td>\n",
       "      <td>0</td>\n",
       "      <td>0</td>\n",
       "      <td>0</td>\n",
       "      <td>0</td>\n",
       "      <td>0</td>\n",
       "      <td>0</td>\n",
       "      <td>0</td>\n",
       "      <td>1</td>\n",
       "      <td>0</td>\n",
       "      <td>...</td>\n",
       "      <td>0</td>\n",
       "      <td>1</td>\n",
       "      <td>0</td>\n",
       "      <td>1</td>\n",
       "      <td>0</td>\n",
       "      <td>0</td>\n",
       "      <td>0</td>\n",
       "      <td>0</td>\n",
       "      <td>0</td>\n",
       "      <td>0</td>\n",
       "    </tr>\n",
       "    <tr>\n",
       "      <th>3</th>\n",
       "      <td>0</td>\n",
       "      <td>0</td>\n",
       "      <td>0</td>\n",
       "      <td>0</td>\n",
       "      <td>0</td>\n",
       "      <td>0</td>\n",
       "      <td>0</td>\n",
       "      <td>0</td>\n",
       "      <td>0</td>\n",
       "      <td>0</td>\n",
       "      <td>...</td>\n",
       "      <td>0</td>\n",
       "      <td>0</td>\n",
       "      <td>0</td>\n",
       "      <td>1</td>\n",
       "      <td>0</td>\n",
       "      <td>0</td>\n",
       "      <td>0</td>\n",
       "      <td>0</td>\n",
       "      <td>0</td>\n",
       "      <td>0</td>\n",
       "    </tr>\n",
       "    <tr>\n",
       "      <th>4</th>\n",
       "      <td>0</td>\n",
       "      <td>0</td>\n",
       "      <td>0</td>\n",
       "      <td>0</td>\n",
       "      <td>0</td>\n",
       "      <td>0</td>\n",
       "      <td>0</td>\n",
       "      <td>0</td>\n",
       "      <td>0</td>\n",
       "      <td>0</td>\n",
       "      <td>...</td>\n",
       "      <td>0</td>\n",
       "      <td>0</td>\n",
       "      <td>0</td>\n",
       "      <td>1</td>\n",
       "      <td>0</td>\n",
       "      <td>0</td>\n",
       "      <td>0</td>\n",
       "      <td>0</td>\n",
       "      <td>0</td>\n",
       "      <td>0</td>\n",
       "    </tr>\n",
       "  </tbody>\n",
       "</table>\n",
       "<p>5 rows × 33 columns</p>\n",
       "</div>"
      ],
      "text/plain": [
       "   Photo Editing  Game Development  Massively Multiplayer  Audio Production  \\\n",
       "0              0                 0                      0                 0   \n",
       "1              0                 0                      0                 0   \n",
       "2              0                 0                      0                 0   \n",
       "3              0                 0                      0                 0   \n",
       "4              0                 0                      0                 0   \n",
       "\n",
       "   Tutorial  Software Training  Sexual Content  Documentary  Strategy  \\\n",
       "0         0                  0               0            0         0   \n",
       "1         0                  0               0            0         0   \n",
       "2         0                  0               0            0         1   \n",
       "3         0                  0               0            0         0   \n",
       "4         0                  0               0            0         0   \n",
       "\n",
       "   Free to Play  ...  RPG  Action  Video Production  Adventure  Racing  \\\n",
       "0             0  ...    0       0                 0          0       0   \n",
       "1             0  ...    0       1                 0          0       0   \n",
       "2             0  ...    0       1                 0          1       0   \n",
       "3             0  ...    0       0                 0          1       0   \n",
       "4             0  ...    0       0                 0          1       0   \n",
       "\n",
       "   Early Access  Utilities  Education  Gore  Animation & Modeling  \n",
       "0             0          0          0     0                     0  \n",
       "1             0          0          0     0                     0  \n",
       "2             0          0          0     0                     0  \n",
       "3             0          0          0     0                     0  \n",
       "4             0          0          0     0                     0  \n",
       "\n",
       "[5 rows x 33 columns]"
      ]
     },
     "execution_count": 50,
     "metadata": {},
     "output_type": "execute_result"
    }
   ],
   "source": [
    "one_hot_encode = pd.DataFrame()\n",
    "\n",
    "for category in set(categories):\n",
    "    cat = []\n",
    "    for _, row in games.iterrows():\n",
    "        cat.append(np.int64(category in row['Genres'].split(',')))\n",
    "    one_hot_encode[category] = cat\n",
    "\n",
    "one_hot_encode.head()"
   ]
  },
  {
   "cell_type": "code",
   "execution_count": 51,
   "metadata": {},
   "outputs": [],
   "source": [
    "games = pd.concat((games, one_hot_encode), axis = 1)"
   ]
  },
  {
   "cell_type": "code",
   "execution_count": 52,
   "metadata": {},
   "outputs": [],
   "source": [
    "games = games.drop(columns= ['Genres'])"
   ]
  },
  {
   "cell_type": "code",
   "execution_count": 53,
   "metadata": {},
   "outputs": [],
   "source": [
    "ordinal_cols = ['Estimated owners']"
   ]
  },
  {
   "cell_type": "code",
   "execution_count": 54,
   "metadata": {},
   "outputs": [],
   "source": [
    "mappings = [\n",
    "    {\n",
    "        'col' : 'Estimated owners',\n",
    "        'mapping' : {\n",
    "            '0 - 0'                 : 0,\n",
    "            '0 - 20000'             : 1,\n",
    "            '20000 - 50000'         : 2,\n",
    "            '50000 - 100000'        : 3,\n",
    "            '100000 - 200000'       : 4,\n",
    "            '200000 - 500000'       : 5,\n",
    "            '500000 - 1000000'      : 6,\n",
    "            '1000000 - 2000000'     : 7,\n",
    "            '2000000 - 5000000'     : 8,\n",
    "            '5000000 - 10000000'    : 9,\n",
    "            '10000000 - 20000000'   : 10,\n",
    "            '20000000 - 50000000'   : 11,\n",
    "            '50000000 - 100000000'  : 12,\n",
    "            '100000000 - 200000000' : 13\n",
    "        }\n",
    "    }\n",
    "]"
   ]
  },
  {
   "cell_type": "code",
   "execution_count": 55,
   "metadata": {},
   "outputs": [],
   "source": [
    "ordinal_enc = OrdinalEncoder(cols = ordinal_cols, mapping= mappings)"
   ]
  },
  {
   "cell_type": "code",
   "execution_count": 56,
   "metadata": {},
   "outputs": [],
   "source": [
    "games = ordinal_enc.fit_transform(games)"
   ]
  },
  {
   "cell_type": "markdown",
   "metadata": {},
   "source": [
    "## New Features"
   ]
  },
  {
   "cell_type": "code",
   "execution_count": 57,
   "metadata": {},
   "outputs": [],
   "source": [
    "# Count the number of operating systems the game is available on\n",
    "games['Platform_count'] = games[['Windows', 'Mac', 'Linux']].sum(axis = 1)"
   ]
  },
  {
   "cell_type": "code",
   "execution_count": 58,
   "metadata": {},
   "outputs": [],
   "source": [
    "# Number of achievements per hour of playtime\n",
    "games['Achievements_per_hour'] = games.apply(\n",
    "    lambda x : \n",
    "        x['Achievements'] \n",
    "        if x['Average playtime forever'] == 0 \n",
    "        else x['Achievements'] / x['Average playtime forever'],\n",
    "    axis = 1\n",
    ")"
   ]
  },
  {
   "cell_type": "code",
   "execution_count": 59,
   "metadata": {},
   "outputs": [],
   "source": [
    "# Amount of genres the game is available in\n",
    "games['Genre_count'] = games[list(set(categories))].sum(axis = 1)"
   ]
  },
  {
   "cell_type": "code",
   "execution_count": 60,
   "metadata": {},
   "outputs": [],
   "source": [
    "# Ratio of recent playtime to total playtime\n",
    "games['Recent_playtime_ratio'] = games.apply(\n",
    "    lambda x : \n",
    "        x['Average playtime two weeks'] \n",
    "        if x['Average playtime forever'] == 0 \n",
    "        else x['Average playtime two weeks'] / x['Average playtime forever'],\n",
    "    axis = 1\n",
    ")"
   ]
  },
  {
   "cell_type": "code",
   "execution_count": 61,
   "metadata": {},
   "outputs": [],
   "source": [
    "# Count the number of languages the game is available in\n",
    "games['Language_count'] = games['Supported languages'].apply(count_languages)"
   ]
  },
  {
   "cell_type": "code",
   "execution_count": 62,
   "metadata": {},
   "outputs": [],
   "source": [
    "# Ratio of quantity of operating systems the game is available on\n",
    "games['OS_ratio'] = games[['Windows', 'Mac', 'Linux']].sum(axis = 1) / 3"
   ]
  },
  {
   "cell_type": "code",
   "execution_count": 63,
   "metadata": {},
   "outputs": [],
   "source": [
    "# Antiquity of the game\n",
    "games['Antiquity'] = (pd.to_datetime('today') - games['Release date']).dt.days"
   ]
  },
  {
   "cell_type": "code",
   "execution_count": 64,
   "metadata": {},
   "outputs": [],
   "source": [
    "# Recommendations user based on the genre\n",
    "games['Recommendation_per_genre'] = games['Recommendations'] / games['Genre_count']"
   ]
  },
  {
   "cell_type": "code",
   "execution_count": 65,
   "metadata": {},
   "outputs": [],
   "source": [
    "games.drop(columns = ['Supported languages', 'Release date'], inplace = True)"
   ]
  },
  {
   "cell_type": "markdown",
   "metadata": {},
   "source": [
    "## Normalization"
   ]
  },
  {
   "cell_type": "markdown",
   "metadata": {},
   "source": [
    "### Robust Scaler"
   ]
  },
  {
   "cell_type": "code",
   "execution_count": 66,
   "metadata": {},
   "outputs": [],
   "source": [
    "robust_columns = ['Negative', 'Achievements', 'Recommendations', 'Average playtime forever',\n",
    "                  'Average playtime two weeks', 'Median playtime forever', 'Median playtime two weeks',\n",
    "                  'Metacritic score', 'Positive', 'DLC count', 'Peak CCU']"
   ]
  },
  {
   "cell_type": "code",
   "execution_count": 67,
   "metadata": {},
   "outputs": [],
   "source": [
    "robust_scaler = RobustScaler()\n",
    "features_scaled = robust_scaler.fit_transform(games[robust_columns])"
   ]
  },
  {
   "cell_type": "code",
   "execution_count": 68,
   "metadata": {},
   "outputs": [],
   "source": [
    "robust_df = pd.DataFrame(features_scaled, columns = robust_columns)"
   ]
  },
  {
   "cell_type": "markdown",
   "metadata": {},
   "source": [
    "### Min-Max Scaler"
   ]
  },
  {
   "cell_type": "code",
   "execution_count": 69,
   "metadata": {},
   "outputs": [],
   "source": [
    "min_max_columns = [ 'Price', 'Platform_count', 'Achievements_per_hour', \n",
    "                   'Genre_count', 'Recent_playtime_ratio', 'Language_count',\n",
    "                   'OS_ratio', 'Antiquity', 'Recommendation_per_genre']"
   ]
  },
  {
   "cell_type": "code",
   "execution_count": 70,
   "metadata": {},
   "outputs": [],
   "source": [
    "min_max_scaler = MinMaxScaler()\n",
    "features_scaled = min_max_scaler.fit_transform(games[min_max_columns])"
   ]
  },
  {
   "cell_type": "code",
   "execution_count": 71,
   "metadata": {},
   "outputs": [],
   "source": [
    "min_max_df = pd.DataFrame(features_scaled, columns= min_max_columns)"
   ]
  },
  {
   "cell_type": "code",
   "execution_count": 72,
   "metadata": {},
   "outputs": [],
   "source": [
    "df_result = pd.concat((robust_df, min_max_df, games.drop(columns = robust_columns + min_max_columns)), axis = 1)"
   ]
  },
  {
   "cell_type": "markdown",
   "metadata": {},
   "source": [
    "### Mutual Information"
   ]
  },
  {
   "cell_type": "code",
   "execution_count": 73,
   "metadata": {},
   "outputs": [],
   "source": [
    "features = df_result.drop(columns=['Estimated owners'])\n",
    "target = df_result['Estimated owners']"
   ]
  },
  {
   "cell_type": "code",
   "execution_count": 74,
   "metadata": {},
   "outputs": [],
   "source": [
    "scores = scores_class(features, target, discrete_features = 'auto')"
   ]
  },
  {
   "cell_type": "code",
   "execution_count": 85,
   "metadata": {},
   "outputs": [
    {
     "data": {
      "text/html": [
       "<div>\n",
       "<style scoped>\n",
       "    .dataframe tbody tr th:only-of-type {\n",
       "        vertical-align: middle;\n",
       "    }\n",
       "\n",
       "    .dataframe tbody tr th {\n",
       "        vertical-align: top;\n",
       "    }\n",
       "\n",
       "    .dataframe thead th {\n",
       "        text-align: right;\n",
       "    }\n",
       "</style>\n",
       "<table border=\"1\" class=\"dataframe\">\n",
       "  <thead>\n",
       "    <tr style=\"text-align: right;\">\n",
       "      <th></th>\n",
       "      <th>Feature</th>\n",
       "      <th>MI Score (Classify)</th>\n",
       "    </tr>\n",
       "  </thead>\n",
       "  <tbody>\n",
       "    <tr>\n",
       "      <th>8</th>\n",
       "      <td>Positive</td>\n",
       "      <td>0.506482</td>\n",
       "    </tr>\n",
       "    <tr>\n",
       "      <th>0</th>\n",
       "      <td>Negative</td>\n",
       "      <td>0.447164</td>\n",
       "    </tr>\n",
       "    <tr>\n",
       "      <th>2</th>\n",
       "      <td>Recommendations</td>\n",
       "      <td>0.238176</td>\n",
       "    </tr>\n",
       "    <tr>\n",
       "      <th>19</th>\n",
       "      <td>Recommendation_per_genre</td>\n",
       "      <td>0.230844</td>\n",
       "    </tr>\n",
       "    <tr>\n",
       "      <th>3</th>\n",
       "      <td>Average playtime forever</td>\n",
       "      <td>0.226855</td>\n",
       "    </tr>\n",
       "    <tr>\n",
       "      <th>5</th>\n",
       "      <td>Median playtime forever</td>\n",
       "      <td>0.211896</td>\n",
       "    </tr>\n",
       "    <tr>\n",
       "      <th>18</th>\n",
       "      <td>Antiquity</td>\n",
       "      <td>0.193824</td>\n",
       "    </tr>\n",
       "    <tr>\n",
       "      <th>10</th>\n",
       "      <td>Peak CCU</td>\n",
       "      <td>0.185545</td>\n",
       "    </tr>\n",
       "    <tr>\n",
       "      <th>11</th>\n",
       "      <td>Price</td>\n",
       "      <td>0.171639</td>\n",
       "    </tr>\n",
       "    <tr>\n",
       "      <th>13</th>\n",
       "      <td>Achievements_per_hour</td>\n",
       "      <td>0.147026</td>\n",
       "    </tr>\n",
       "    <tr>\n",
       "      <th>7</th>\n",
       "      <td>Metacritic score</td>\n",
       "      <td>0.066335</td>\n",
       "    </tr>\n",
       "    <tr>\n",
       "      <th>15</th>\n",
       "      <td>Recent_playtime_ratio</td>\n",
       "      <td>0.056368</td>\n",
       "    </tr>\n",
       "    <tr>\n",
       "      <th>16</th>\n",
       "      <td>Language_count</td>\n",
       "      <td>0.055287</td>\n",
       "    </tr>\n",
       "    <tr>\n",
       "      <th>4</th>\n",
       "      <td>Average playtime two weeks</td>\n",
       "      <td>0.052527</td>\n",
       "    </tr>\n",
       "    <tr>\n",
       "      <th>6</th>\n",
       "      <td>Median playtime two weeks</td>\n",
       "      <td>0.051011</td>\n",
       "    </tr>\n",
       "    <tr>\n",
       "      <th>1</th>\n",
       "      <td>Achievements</td>\n",
       "      <td>0.046261</td>\n",
       "    </tr>\n",
       "    <tr>\n",
       "      <th>34</th>\n",
       "      <td>Free to Play</td>\n",
       "      <td>0.042718</td>\n",
       "    </tr>\n",
       "    <tr>\n",
       "      <th>9</th>\n",
       "      <td>DLC count</td>\n",
       "      <td>0.038741</td>\n",
       "    </tr>\n",
       "    <tr>\n",
       "      <th>35</th>\n",
       "      <td>Casual</td>\n",
       "      <td>0.020919</td>\n",
       "    </tr>\n",
       "    <tr>\n",
       "      <th>21</th>\n",
       "      <td>Mac</td>\n",
       "      <td>0.015185</td>\n",
       "    </tr>\n",
       "    <tr>\n",
       "      <th>17</th>\n",
       "      <td>OS_ratio</td>\n",
       "      <td>0.013868</td>\n",
       "    </tr>\n",
       "    <tr>\n",
       "      <th>12</th>\n",
       "      <td>Platform_count</td>\n",
       "      <td>0.012296</td>\n",
       "    </tr>\n",
       "    <tr>\n",
       "      <th>49</th>\n",
       "      <td>Action</td>\n",
       "      <td>0.012154</td>\n",
       "    </tr>\n",
       "    <tr>\n",
       "      <th>51</th>\n",
       "      <td>Adventure</td>\n",
       "      <td>0.011811</td>\n",
       "    </tr>\n",
       "    <tr>\n",
       "      <th>22</th>\n",
       "      <td>Linux</td>\n",
       "      <td>0.011713</td>\n",
       "    </tr>\n",
       "    <tr>\n",
       "      <th>41</th>\n",
       "      <td>Indie</td>\n",
       "      <td>0.011686</td>\n",
       "    </tr>\n",
       "    <tr>\n",
       "      <th>14</th>\n",
       "      <td>Genre_count</td>\n",
       "      <td>0.009791</td>\n",
       "    </tr>\n",
       "    <tr>\n",
       "      <th>24</th>\n",
       "      <td>+15</td>\n",
       "      <td>0.008653</td>\n",
       "    </tr>\n",
       "    <tr>\n",
       "      <th>27</th>\n",
       "      <td>Massively Multiplayer</td>\n",
       "      <td>0.007732</td>\n",
       "    </tr>\n",
       "    <tr>\n",
       "      <th>20</th>\n",
       "      <td>Windows</td>\n",
       "      <td>0.006762</td>\n",
       "    </tr>\n",
       "    <tr>\n",
       "      <th>48</th>\n",
       "      <td>RPG</td>\n",
       "      <td>0.005286</td>\n",
       "    </tr>\n",
       "    <tr>\n",
       "      <th>44</th>\n",
       "      <td>Simulation</td>\n",
       "      <td>0.004836</td>\n",
       "    </tr>\n",
       "    <tr>\n",
       "      <th>53</th>\n",
       "      <td>Early Access</td>\n",
       "      <td>0.004650</td>\n",
       "    </tr>\n",
       "    <tr>\n",
       "      <th>47</th>\n",
       "      <td>Accounting</td>\n",
       "      <td>0.003739</td>\n",
       "    </tr>\n",
       "    <tr>\n",
       "      <th>30</th>\n",
       "      <td>Software Training</td>\n",
       "      <td>0.002880</td>\n",
       "    </tr>\n",
       "    <tr>\n",
       "      <th>31</th>\n",
       "      <td>Sexual Content</td>\n",
       "      <td>0.002533</td>\n",
       "    </tr>\n",
       "    <tr>\n",
       "      <th>38</th>\n",
       "      <td>Short</td>\n",
       "      <td>0.002148</td>\n",
       "    </tr>\n",
       "    <tr>\n",
       "      <th>40</th>\n",
       "      <td>360 Video</td>\n",
       "      <td>0.002142</td>\n",
       "    </tr>\n",
       "    <tr>\n",
       "      <th>39</th>\n",
       "      <td>Violent</td>\n",
       "      <td>0.001938</td>\n",
       "    </tr>\n",
       "    <tr>\n",
       "      <th>54</th>\n",
       "      <td>Utilities</td>\n",
       "      <td>0.001823</td>\n",
       "    </tr>\n",
       "    <tr>\n",
       "      <th>25</th>\n",
       "      <td>Photo Editing</td>\n",
       "      <td>0.001667</td>\n",
       "    </tr>\n",
       "    <tr>\n",
       "      <th>55</th>\n",
       "      <td>Education</td>\n",
       "      <td>0.001508</td>\n",
       "    </tr>\n",
       "    <tr>\n",
       "      <th>36</th>\n",
       "      <td>Design &amp; Illustration</td>\n",
       "      <td>0.001429</td>\n",
       "    </tr>\n",
       "    <tr>\n",
       "      <th>57</th>\n",
       "      <td>Animation &amp; Modeling</td>\n",
       "      <td>0.001345</td>\n",
       "    </tr>\n",
       "    <tr>\n",
       "      <th>23</th>\n",
       "      <td>User score</td>\n",
       "      <td>0.001282</td>\n",
       "    </tr>\n",
       "    <tr>\n",
       "      <th>56</th>\n",
       "      <td>Gore</td>\n",
       "      <td>0.001227</td>\n",
       "    </tr>\n",
       "    <tr>\n",
       "      <th>29</th>\n",
       "      <td>Tutorial</td>\n",
       "      <td>0.000936</td>\n",
       "    </tr>\n",
       "    <tr>\n",
       "      <th>33</th>\n",
       "      <td>Strategy</td>\n",
       "      <td>0.000902</td>\n",
       "    </tr>\n",
       "    <tr>\n",
       "      <th>46</th>\n",
       "      <td>Episodic</td>\n",
       "      <td>0.000727</td>\n",
       "    </tr>\n",
       "    <tr>\n",
       "      <th>50</th>\n",
       "      <td>Video Production</td>\n",
       "      <td>0.000369</td>\n",
       "    </tr>\n",
       "    <tr>\n",
       "      <th>42</th>\n",
       "      <td>Sports</td>\n",
       "      <td>0.000052</td>\n",
       "    </tr>\n",
       "    <tr>\n",
       "      <th>43</th>\n",
       "      <td>Movie</td>\n",
       "      <td>0.000000</td>\n",
       "    </tr>\n",
       "    <tr>\n",
       "      <th>45</th>\n",
       "      <td>Web Publishing</td>\n",
       "      <td>0.000000</td>\n",
       "    </tr>\n",
       "    <tr>\n",
       "      <th>37</th>\n",
       "      <td>Nudity</td>\n",
       "      <td>0.000000</td>\n",
       "    </tr>\n",
       "    <tr>\n",
       "      <th>32</th>\n",
       "      <td>Documentary</td>\n",
       "      <td>0.000000</td>\n",
       "    </tr>\n",
       "    <tr>\n",
       "      <th>52</th>\n",
       "      <td>Racing</td>\n",
       "      <td>0.000000</td>\n",
       "    </tr>\n",
       "    <tr>\n",
       "      <th>28</th>\n",
       "      <td>Audio Production</td>\n",
       "      <td>0.000000</td>\n",
       "    </tr>\n",
       "    <tr>\n",
       "      <th>26</th>\n",
       "      <td>Game Development</td>\n",
       "      <td>0.000000</td>\n",
       "    </tr>\n",
       "  </tbody>\n",
       "</table>\n",
       "</div>"
      ],
      "text/plain": [
       "                       Feature  MI Score (Classify)\n",
       "8                     Positive             0.506482\n",
       "0                     Negative             0.447164\n",
       "2              Recommendations             0.238176\n",
       "19    Recommendation_per_genre             0.230844\n",
       "3     Average playtime forever             0.226855\n",
       "5      Median playtime forever             0.211896\n",
       "18                   Antiquity             0.193824\n",
       "10                    Peak CCU             0.185545\n",
       "11                       Price             0.171639\n",
       "13       Achievements_per_hour             0.147026\n",
       "7             Metacritic score             0.066335\n",
       "15       Recent_playtime_ratio             0.056368\n",
       "16              Language_count             0.055287\n",
       "4   Average playtime two weeks             0.052527\n",
       "6    Median playtime two weeks             0.051011\n",
       "1                 Achievements             0.046261\n",
       "34                Free to Play             0.042718\n",
       "9                    DLC count             0.038741\n",
       "35                      Casual             0.020919\n",
       "21                         Mac             0.015185\n",
       "17                    OS_ratio             0.013868\n",
       "12              Platform_count             0.012296\n",
       "49                      Action             0.012154\n",
       "51                   Adventure             0.011811\n",
       "22                       Linux             0.011713\n",
       "41                       Indie             0.011686\n",
       "14                 Genre_count             0.009791\n",
       "24                         +15             0.008653\n",
       "27       Massively Multiplayer             0.007732\n",
       "20                     Windows             0.006762\n",
       "48                         RPG             0.005286\n",
       "44                  Simulation             0.004836\n",
       "53                Early Access             0.004650\n",
       "47                  Accounting             0.003739\n",
       "30           Software Training             0.002880\n",
       "31              Sexual Content             0.002533\n",
       "38                       Short             0.002148\n",
       "40                   360 Video             0.002142\n",
       "39                     Violent             0.001938\n",
       "54                   Utilities             0.001823\n",
       "25               Photo Editing             0.001667\n",
       "55                   Education             0.001508\n",
       "36       Design & Illustration             0.001429\n",
       "57        Animation & Modeling             0.001345\n",
       "23                  User score             0.001282\n",
       "56                        Gore             0.001227\n",
       "29                    Tutorial             0.000936\n",
       "33                    Strategy             0.000902\n",
       "46                    Episodic             0.000727\n",
       "50            Video Production             0.000369\n",
       "42                      Sports             0.000052\n",
       "43                       Movie             0.000000\n",
       "45              Web Publishing             0.000000\n",
       "37                      Nudity             0.000000\n",
       "32                 Documentary             0.000000\n",
       "52                      Racing             0.000000\n",
       "28            Audio Production             0.000000\n",
       "26            Game Development             0.000000"
      ]
     },
     "execution_count": 85,
     "metadata": {},
     "output_type": "execute_result"
    }
   ],
   "source": [
    "scores"
   ]
  },
  {
   "cell_type": "code",
   "execution_count": 75,
   "metadata": {},
   "outputs": [],
   "source": [
    "drop_columns = scores[scores['MI Score (Classify)'] < 0.01]"
   ]
  },
  {
   "cell_type": "code",
   "execution_count": 76,
   "metadata": {},
   "outputs": [],
   "source": [
    "games.drop(columns = drop_columns['Feature'].values, inplace = True)"
   ]
  },
  {
   "cell_type": "markdown",
   "metadata": {},
   "source": [
    "### PCA"
   ]
  },
  {
   "cell_type": "code",
   "execution_count": 77,
   "metadata": {},
   "outputs": [],
   "source": [
    "features = df_result[df_result.select_dtypes(include = 'number').columns]"
   ]
  },
  {
   "cell_type": "code",
   "execution_count": 78,
   "metadata": {},
   "outputs": [],
   "source": [
    "pca = PCA(n_components = 5)\n",
    "principal_components = pca.fit_transform(features_scaled)\n",
    "\n",
    "pca_df = pd.DataFrame(data=principal_components, columns=['PC1', 'PC2', 'PC3', 'PC4', 'PC5'])\n",
    "\n",
    "pca_df = pd.concat([pca_df, games[['Estimated owners']]], axis=1)"
   ]
  },
  {
   "cell_type": "code",
   "execution_count": 79,
   "metadata": {},
   "outputs": [
    {
     "data": {
      "text/plain": [
       "0.9986912311770977"
      ]
     },
     "execution_count": 79,
     "metadata": {},
     "output_type": "execute_result"
    }
   ],
   "source": [
    "sum(pca.explained_variance_ratio_)"
   ]
  },
  {
   "cell_type": "code",
   "execution_count": 80,
   "metadata": {},
   "outputs": [
    {
     "data": {
      "text/html": [
       "<div>\n",
       "<style scoped>\n",
       "    .dataframe tbody tr th:only-of-type {\n",
       "        vertical-align: middle;\n",
       "    }\n",
       "\n",
       "    .dataframe tbody tr th {\n",
       "        vertical-align: top;\n",
       "    }\n",
       "\n",
       "    .dataframe thead th {\n",
       "        text-align: right;\n",
       "    }\n",
       "</style>\n",
       "<table border=\"1\" class=\"dataframe\">\n",
       "  <thead>\n",
       "    <tr style=\"text-align: right;\">\n",
       "      <th></th>\n",
       "      <th>PC1</th>\n",
       "      <th>PC2</th>\n",
       "      <th>PC3</th>\n",
       "      <th>PC4</th>\n",
       "      <th>PC5</th>\n",
       "      <th>Estimated owners</th>\n",
       "    </tr>\n",
       "  </thead>\n",
       "  <tbody>\n",
       "    <tr>\n",
       "      <th>0</th>\n",
       "      <td>-0.194399</td>\n",
       "      <td>0.591831</td>\n",
       "      <td>0.388165</td>\n",
       "      <td>0.082425</td>\n",
       "      <td>-0.022716</td>\n",
       "      <td>1</td>\n",
       "    </tr>\n",
       "    <tr>\n",
       "      <th>1</th>\n",
       "      <td>0.455894</td>\n",
       "      <td>-0.255638</td>\n",
       "      <td>0.061793</td>\n",
       "      <td>-0.032873</td>\n",
       "      <td>0.069561</td>\n",
       "      <td>1</td>\n",
       "    </tr>\n",
       "    <tr>\n",
       "      <th>2</th>\n",
       "      <td>-0.247619</td>\n",
       "      <td>-0.052989</td>\n",
       "      <td>-0.073033</td>\n",
       "      <td>0.052059</td>\n",
       "      <td>-0.019081</td>\n",
       "      <td>1</td>\n",
       "    </tr>\n",
       "    <tr>\n",
       "      <th>3</th>\n",
       "      <td>1.168471</td>\n",
       "      <td>-0.082740</td>\n",
       "      <td>-0.078531</td>\n",
       "      <td>-0.001368</td>\n",
       "      <td>0.057441</td>\n",
       "      <td>1</td>\n",
       "    </tr>\n",
       "    <tr>\n",
       "      <th>4</th>\n",
       "      <td>0.449222</td>\n",
       "      <td>-0.300635</td>\n",
       "      <td>-0.015254</td>\n",
       "      <td>-0.054143</td>\n",
       "      <td>-0.010328</td>\n",
       "      <td>1</td>\n",
       "    </tr>\n",
       "  </tbody>\n",
       "</table>\n",
       "</div>"
      ],
      "text/plain": [
       "        PC1       PC2       PC3       PC4       PC5  Estimated owners\n",
       "0 -0.194399  0.591831  0.388165  0.082425 -0.022716                 1\n",
       "1  0.455894 -0.255638  0.061793 -0.032873  0.069561                 1\n",
       "2 -0.247619 -0.052989 -0.073033  0.052059 -0.019081                 1\n",
       "3  1.168471 -0.082740 -0.078531 -0.001368  0.057441                 1\n",
       "4  0.449222 -0.300635 -0.015254 -0.054143 -0.010328                 1"
      ]
     },
     "execution_count": 80,
     "metadata": {},
     "output_type": "execute_result"
    }
   ],
   "source": [
    "pca_df.head()"
   ]
  },
  {
   "cell_type": "code",
   "execution_count": 81,
   "metadata": {},
   "outputs": [],
   "source": [
    "# Calculate percentage variation\n",
    "per_var = np.round(pca.explained_variance_ratio_ * 100, decimals=1)\n",
    "labels = ['PC' + str(x) for x in range(1, len(per_var) + 1)]"
   ]
  },
  {
   "cell_type": "code",
   "execution_count": 82,
   "metadata": {},
   "outputs": [
    {
     "data": {
      "image/png": "[encoded data removed]",
      "text/plain": [
       "<Figure size 1200x400 with 1 Axes>"
      ]
     },
     "metadata": {},
     "output_type": "display_data"
    }
   ],
   "source": [
    "# Variance explained by each dimension\n",
    "fig, ax = plt.subplots(figsize=(12, 4))\n",
    "bars = ax.bar(x=range(1, len(per_var) + 1), height=per_var, tick_label=labels, color = colors, edgecolor='black', hatch='//')\n",
    "plt.ylabel('Percentage of Explained Variance')\n",
    "plt.xlabel('Principal Component')\n",
    "for i, bar in enumerate(bars):\n",
    "    ax.text(bar.get_x() + bar.get_width() / 2, bar.get_height(),\n",
    "            f'{per_var[i]}%', ha='center', va='bottom', color='black', fontweight='bold')\n",
    "plt.show()"
   ]
  },
  {
   "cell_type": "code",
   "execution_count": 83,
   "metadata": {},
   "outputs": [],
   "source": [
    "df_result = pd.concat((df_result, pca_df), axis = 1)"
   ]
  },
  {
   "cell_type": "markdown",
   "metadata": {},
   "source": [
    "# Save dataset"
   ]
  },
  {
   "cell_type": "code",
   "execution_count": 84,
   "metadata": {},
   "outputs": [],
   "source": [
    "df_result.to_csv('../data/games_normalized_clean.csv', index = False)"
   ]
  }
 ],
 "metadata": {
  "kernelspec": {
   "display_name": "ML",
   "language": "python",
   "name": "python3"
  },
  "language_info": {
   "codemirror_mode": {
    "name": "ipython",
    "version": 3
   },
   "file_extension": ".py",
   "mimetype": "text/x-python",
   "name": "python",
   "nbconvert_exporter": "python",
   "pygments_lexer": "ipython3",
   "version": "3.8.19"
  }
 },
 "nbformat": 4,
 "nbformat_minor": 2
}
