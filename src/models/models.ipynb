{
 "cells": [
  {
   "cell_type": "markdown",
   "metadata": {},
   "source": [
    "# IMPORT LIBRARIES"
   ]
  },
  {
   "cell_type": "code",
   "execution_count": 176,
   "metadata": {},
   "outputs": [],
   "source": [
    "import pandas as pd\n",
    "import numpy as np\n",
    "\n",
    "import matplotlib.pyplot as plt\n",
    "import seaborn as sns\n",
    "\n",
    "from sklearn.model_selection import train_test_split, cross_val_score, GridSearchCV, RandomizedSearchCV\n",
    "from sklearn.metrics import accuracy_score # root_mean_squared_error, mean_absolute_error\n",
    "from sklearn.ensemble import RandomForestClassifier, HistGradientBoostingClassifier\n",
    "from catboost import CatBoostClassifier\n",
    "from sklearn.linear_model import LogisticRegression\n",
    "from sklearn.svm import SVC\n",
    "\n",
    "from tensorflow.keras.wrappers.scikit_learn import KerasClassifier\n",
    "from tensorflow.keras.models import Sequential\n",
    "from tensorflow.keras.layers import Dense, Dropout\n",
    "from tensorflow.keras.optimizers import Adam\n",
    "from tensorflow.keras.utils import to_categorical\n",
    "\n",
    "from skopt.space import Real, Integer\n",
    "from sklearn.ensemble import AdaBoostClassifier, BaggingClassifier\n",
    "from sklearn.tree import DecisionTreeClassifier\n",
    "\n",
    "# library for hyperparameter tuning\n",
    "import optuna\n",
    "from skopt import BayesSearchCV\n",
    "from optimizers.PSO import particle_swarm_optimization\n",
    "\n",
    "# library for save model\n",
    "import joblib\n",
    "\n",
    "import warnings\n",
    "warnings.filterwarnings('ignore')"
   ]
  },
  {
   "cell_type": "markdown",
   "metadata": {},
   "source": [
    "# GET DATA"
   ]
  },
  {
   "cell_type": "code",
   "execution_count": 4,
   "metadata": {},
   "outputs": [],
   "source": [
    "games = pd.read_csv(\"../data/games_normalized_clean.csv\")"
   ]
  },
  {
   "cell_type": "markdown",
   "metadata": {},
   "source": [
    "# Models"
   ]
  },
  {
   "cell_type": "code",
   "execution_count": 6,
   "metadata": {},
   "outputs": [],
   "source": [
    "games_labels = games[\"Estimated owners\"]\n",
    "games = games.drop(\"Estimated owners\", axis = 1)"
   ]
  },
  {
   "cell_type": "code",
   "execution_count": 7,
   "metadata": {},
   "outputs": [],
   "source": [
    "X_train, X_test, y_train, y_test = train_test_split(games, games_labels, test_size = 0.2, random_state= 42)"
   ]
  },
  {
   "cell_type": "markdown",
   "metadata": {},
   "source": [
    "# Models"
   ]
  },
  {
   "cell_type": "markdown",
   "metadata": {},
   "source": [
    "## HistGradientBoosting"
   ]
  },
  {
   "cell_type": "code",
   "execution_count": 49,
   "metadata": {},
   "outputs": [
    {
     "data": {
      "text/plain": [
       "HistGradientBoostingClassifier(max_depth=100, random_state=42)"
      ]
     },
     "execution_count": 49,
     "metadata": {},
     "output_type": "execute_result"
    }
   ],
   "source": [
    "model = HistGradientBoostingClassifier(max_iter = 100, max_depth = 100, random_state=42)\n",
    "model.fit(X_train, y_train)"
   ]
  },
  {
   "cell_type": "code",
   "execution_count": 50,
   "metadata": {},
   "outputs": [],
   "source": [
    "y_predict = model.predict(X_test)"
   ]
  },
  {
   "cell_type": "code",
   "execution_count": 51,
   "metadata": {},
   "outputs": [
    {
     "data": {
      "text/plain": [
       "0.6611495216146379"
      ]
     },
     "execution_count": 51,
     "metadata": {},
     "output_type": "execute_result"
    }
   ],
   "source": [
    "accuracy_score(y_test, y_predict)"
   ]
  },
  {
   "cell_type": "markdown",
   "metadata": {},
   "source": [
    "## CatBoost"
   ]
  },
  {
   "cell_type": "code",
   "execution_count": 100,
   "metadata": {},
   "outputs": [],
   "source": [
    "model = CatBoostClassifier(iterations=1000, \n",
    "                           depth= 10, \n",
    "                           learning_rate=0.1, \n",
    "                           loss_function='MultiClass', \n",
    "                           cat_features=[],\n",
    "                           random_seed=42,\n",
    "                           verbose=100)"
   ]
  },
  {
   "cell_type": "code",
   "execution_count": 101,
   "metadata": {},
   "outputs": [
    {
     "name": "stdout",
     "output_type": "stream",
     "text": [
      "0:\tlearn: 1.2708429\ttotal: 353ms\tremaining: 5m 52s\n",
      "100:\tlearn: 0.6374149\ttotal: 34.9s\tremaining: 5m 10s\n",
      "200:\tlearn: 0.5767463\ttotal: 1m 17s\tremaining: 5m 7s\n",
      "300:\tlearn: 0.5279396\ttotal: 1m 52s\tremaining: 4m 21s\n",
      "400:\tlearn: 0.4857458\ttotal: 2m 29s\tremaining: 3m 43s\n",
      "500:\tlearn: 0.4529652\ttotal: 3m 6s\tremaining: 3m 5s\n",
      "600:\tlearn: 0.4242904\ttotal: 3m 40s\tremaining: 2m 26s\n",
      "700:\tlearn: 0.3981516\ttotal: 4m 16s\tremaining: 1m 49s\n",
      "800:\tlearn: 0.3756271\ttotal: 4m 52s\tremaining: 1m 12s\n",
      "900:\tlearn: 0.3552434\ttotal: 5m 26s\tremaining: 35.9s\n",
      "999:\tlearn: 0.3365368\ttotal: 6m 1s\tremaining: 0us\n"
     ]
    },
    {
     "data": {
      "text/plain": [
       "<catboost.core.CatBoostClassifier at 0x1f8f70c7dc8>"
      ]
     },
     "execution_count": 101,
     "metadata": {},
     "output_type": "execute_result"
    }
   ],
   "source": [
    "model.fit(X_train, y_train)"
   ]
  },
  {
   "cell_type": "code",
   "execution_count": 102,
   "metadata": {},
   "outputs": [],
   "source": [
    "y_pred = model.predict(X_test)"
   ]
  },
  {
   "cell_type": "code",
   "execution_count": 103,
   "metadata": {},
   "outputs": [
    {
     "data": {
      "text/plain": [
       "0.6354494028912634"
      ]
     },
     "execution_count": 103,
     "metadata": {},
     "output_type": "execute_result"
    }
   ],
   "source": [
    "accuracy_score(y_test, y_pred)"
   ]
  },
  {
   "cell_type": "markdown",
   "metadata": {},
   "source": [
    "## Hyper-parameter Optimizer"
   ]
  },
  {
   "cell_type": "markdown",
   "metadata": {},
   "source": [
    "## Bayesian-Search"
   ]
  },
  {
   "cell_type": "markdown",
   "metadata": {},
   "source": [
    "### Gaussian Process"
   ]
  },
  {
   "cell_type": "markdown",
   "metadata": {},
   "source": [
    "#### HistGradientBoosting"
   ]
  },
  {
   "cell_type": "code",
   "execution_count": 114,
   "metadata": {},
   "outputs": [],
   "source": [
    "param_space = {\n",
    "    'learning_rate': Real(0.01, 0.2),\n",
    "    'max_iter': Integer(50, 500),\n",
    "    'max_depth': Integer(3, 15),\n",
    "    'min_samples_leaf': Integer(1, 20),\n",
    "}"
   ]
  },
  {
   "cell_type": "code",
   "execution_count": 118,
   "metadata": {},
   "outputs": [],
   "source": [
    "bayes_search = BayesSearchCV(\n",
    "    estimator = HistGradientBoostingClassifier(),\n",
    "    search_spaces = param_space,\n",
    "    n_iter = 32, \n",
    "    scoring = 'accuracy',\n",
    "    cv = 5,\n",
    "    n_jobs = 4,\n",
    "    verbose = 0,\n",
    "    random_state = 42,\n",
    "    optimizer_kwargs = {'base_estimator': 'GP'}\n",
    ")"
   ]
  },
  {
   "cell_type": "code",
   "execution_count": 119,
   "metadata": {},
   "outputs": [
    {
     "data": {
      "text/plain": [
       "BayesSearchCV(cv=5, estimator=HistGradientBoostingClassifier(), n_iter=32,\n",
       "              n_jobs=4, optimizer_kwargs={'base_estimator': 'GP'},\n",
       "              random_state=42, scoring='accuracy',\n",
       "              search_spaces={'learning_rate': Real(low=0.01, high=0.2, prior='uniform', transform='normalize'),\n",
       "                             'max_depth': Integer(low=3, high=15, prior='uniform', transform='normalize'),\n",
       "                             'max_iter': Integer(low=50, high=500, prior='uniform', transform='normalize'),\n",
       "                             'min_samples_leaf': Integer(low=1, high=20, prior='uniform', transform='normalize')})"
      ]
     },
     "execution_count": 119,
     "metadata": {},
     "output_type": "execute_result"
    }
   ],
   "source": [
    "bayes_search.fit(X_train, y_train)"
   ]
  },
  {
   "cell_type": "code",
   "execution_count": 120,
   "metadata": {},
   "outputs": [
    {
     "name": "stdout",
     "output_type": "stream",
     "text": [
      "Best score: 0.6560683406962067\n",
      "Best parameters: OrderedDict([('learning_rate', 0.01), ('max_depth', 5), ('max_iter', 500), ('min_samples_leaf', 5)])\n"
     ]
    }
   ],
   "source": [
    "# Best parameters\n",
    "print(\"Best score:\", bayes_search.best_score_)\n",
    "print(\"Best parameters:\", bayes_search.best_params_)"
   ]
  },
  {
   "cell_type": "code",
   "execution_count": 121,
   "metadata": {},
   "outputs": [
    {
     "name": "stdout",
     "output_type": "stream",
     "text": [
      "Test accuracy: 0.6631049654305469\n"
     ]
    }
   ],
   "source": [
    "# Evaluar el conjunto de datos de prueba\n",
    "print(\"Test accuracy:\", bayes_search.score(X_test, y_test))"
   ]
  },
  {
   "cell_type": "code",
   "execution_count": 128,
   "metadata": {},
   "outputs": [
    {
     "data": {
      "text/plain": [
       "['./models/bayes_search_hist_gradient_boosting.joblib']"
      ]
     },
     "execution_count": 128,
     "metadata": {},
     "output_type": "execute_result"
    }
   ],
   "source": [
    "joblib.dump(bayes_search, './models/bayes_search_hist_gradient_boosting.joblib')"
   ]
  },
  {
   "cell_type": "markdown",
   "metadata": {},
   "source": [
    "### Tree Structure Parzen"
   ]
  },
  {
   "cell_type": "markdown",
   "metadata": {},
   "source": [
    "#### HistGradientBoosting"
   ]
  },
  {
   "cell_type": "code",
   "execution_count": null,
   "metadata": {},
   "outputs": [],
   "source": [
    "def objective(trial):\n",
    "    max_iter = trial.suggest_int('max_iter', 100, 500)\n",
    "    learning_rate = trial.suggest_float('learning_rate', 0.01, 0.1)\n",
    "    max_depth = trial.suggest_int('max_depth', 3, 15) \n",
    "    min_samples_leaf = trial.suggest_int('min_samples_leaf', 1, 5)\n",
    "    max_bins = trial.suggest_int('max_bins', 8, 64)\n",
    "\n",
    "    model = HistGradientBoostingClassifier(\n",
    "        max_iter=max_iter,\n",
    "        learning_rate=learning_rate,\n",
    "        max_depth=max_depth,\n",
    "        min_samples_leaf=min_samples_leaf,\n",
    "        max_bins=max_bins,\n",
    "        random_state=42\n",
    "    )\n",
    "    \n",
    "    score = cross_val_score(model, games, games_labels, cv=5, scoring='accuracy')\n",
    "    \n",
    "    return np.mean(score)"
   ]
  },
  {
   "cell_type": "code",
   "execution_count": 147,
   "metadata": {},
   "outputs": [
    {
     "name": "stderr",
     "output_type": "stream",
     "text": [
      "[I 2024-11-13 16:58:59,664] A new study created in memory with name: no-name-5fe600e1-4e86-4c76-9c27-cab9a1b1fbe1\n"
     ]
    }
   ],
   "source": [
    "study = optuna.create_study(direction='maximize', sampler=optuna.samplers.TPESampler())"
   ]
  },
  {
   "cell_type": "code",
   "execution_count": 148,
   "metadata": {},
   "outputs": [
    {
     "name": "stderr",
     "output_type": "stream",
     "text": [
      "[I 2024-11-13 17:00:24,036] Trial 0 finished with value: 0.5844924863272235 and parameters: {'max_iter': 198, 'learning_rate': 0.06885694936128044, 'max_depth': 4, 'min_samples_leaf': 1, 'max_bins': 58}. Best is trial 0 with value: 0.5844924863272235.\n",
      "[I 2024-11-13 17:01:31,796] Trial 1 finished with value: 0.6216345755150383 and parameters: {'max_iter': 125, 'learning_rate': 0.06484953367802157, 'max_depth': 9, 'min_samples_leaf': 1, 'max_bins': 45}. Best is trial 1 with value: 0.6216345755150383.\n",
      "[I 2024-11-13 17:02:26,942] Trial 2 finished with value: 0.613365204652152 and parameters: {'max_iter': 409, 'learning_rate': 0.08905679339440613, 'max_depth': 4, 'min_samples_leaf': 1, 'max_bins': 56}. Best is trial 1 with value: 0.6216345755150383.\n",
      "[I 2024-11-13 17:03:19,103] Trial 3 finished with value: 0.6304626172965586 and parameters: {'max_iter': 110, 'learning_rate': 0.0682204173230295, 'max_depth': 10, 'min_samples_leaf': 4, 'max_bins': 11}. Best is trial 3 with value: 0.6304626172965586.\n",
      "[I 2024-11-13 17:04:12,824] Trial 4 finished with value: 0.6219977225379434 and parameters: {'max_iter': 154, 'learning_rate': 0.07794079511271385, 'max_depth': 10, 'min_samples_leaf': 5, 'max_bins': 55}. Best is trial 3 with value: 0.6304626172965586.\n",
      "[I 2024-11-13 17:05:41,402] Trial 5 finished with value: 0.6088534432749066 and parameters: {'max_iter': 238, 'learning_rate': 0.049434368006582, 'max_depth': 4, 'min_samples_leaf': 2, 'max_bins': 59}. Best is trial 3 with value: 0.6304626172965586.\n",
      "[I 2024-11-13 17:06:40,975] Trial 6 finished with value: 0.6286187931386527 and parameters: {'max_iter': 114, 'learning_rate': 0.02493656795294709, 'max_depth': 4, 'min_samples_leaf': 5, 'max_bins': 56}. Best is trial 3 with value: 0.6304626172965586.\n",
      "[I 2024-11-13 17:07:37,100] Trial 7 finished with value: 0.6071911658017293 and parameters: {'max_iter': 228, 'learning_rate': 0.07379586962165281, 'max_depth': 6, 'min_samples_leaf': 5, 'max_bins': 52}. Best is trial 3 with value: 0.6304626172965586.\n",
      "[I 2024-11-13 17:09:08,175] Trial 8 finished with value: 0.6242186933666516 and parameters: {'max_iter': 360, 'learning_rate': 0.05277546552054787, 'max_depth': 12, 'min_samples_leaf': 4, 'max_bins': 56}. Best is trial 3 with value: 0.6304626172965586.\n",
      "[I 2024-11-13 17:11:58,282] Trial 9 finished with value: 0.611786821661528 and parameters: {'max_iter': 265, 'learning_rate': 0.03136934180068969, 'max_depth': 12, 'min_samples_leaf': 2, 'max_bins': 35}. Best is trial 3 with value: 0.6304626172965586.\n",
      "[I 2024-11-13 17:12:49,395] Trial 10 finished with value: 0.6287026359187925 and parameters: {'max_iter': 346, 'learning_rate': 0.09868203500789435, 'max_depth': 15, 'min_samples_leaf': 3, 'max_bins': 8}. Best is trial 3 with value: 0.6304626172965586.\n",
      "[I 2024-11-13 17:13:39,094] Trial 11 finished with value: 0.6162986601046354 and parameters: {'max_iter': 485, 'learning_rate': 0.09899992608559048, 'max_depth': 15, 'min_samples_leaf': 3, 'max_bins': 9}. Best is trial 3 with value: 0.6304626172965586.\n",
      "[I 2024-11-13 17:14:32,740] Trial 12 finished with value: 0.61614499272708 and parameters: {'max_iter': 340, 'learning_rate': 0.09087125025675157, 'max_depth': 15, 'min_samples_leaf': 3, 'max_bins': 9}. Best is trial 3 with value: 0.6304626172965586.\n",
      "[I 2024-11-13 17:18:44,041] Trial 13 finished with value: 0.6277806687231156 and parameters: {'max_iter': 322, 'learning_rate': 0.015351679897143825, 'max_depth': 8, 'min_samples_leaf': 4, 'max_bins': 21}. Best is trial 3 with value: 0.6304626172965586.\n",
      "[I 2024-11-13 17:21:02,319] Trial 14 finished with value: 0.6235063160497725 and parameters: {'max_iter': 402, 'learning_rate': 0.039082608434733664, 'max_depth': 13, 'min_samples_leaf': 4, 'max_bins': 17}. Best is trial 3 with value: 0.6304626172965586.\n",
      "[I 2024-11-13 17:22:06,953] Trial 15 finished with value: 0.6239951935875429 and parameters: {'max_iter': 286, 'learning_rate': 0.0823556551635292, 'max_depth': 7, 'min_samples_leaf': 3, 'max_bins': 28}. Best is trial 3 with value: 0.6304626172965586.\n",
      "[I 2024-11-13 17:23:11,831] Trial 16 finished with value: 0.6201119696735883 and parameters: {'max_iter': 482, 'learning_rate': 0.09899869979040989, 'max_depth': 11, 'min_samples_leaf': 4, 'max_bins': 17}. Best is trial 3 with value: 0.6304626172965586.\n",
      "[I 2024-11-13 17:24:40,153] Trial 17 finished with value: 0.6116052525399029 and parameters: {'max_iter': 171, 'learning_rate': 0.059347911831661306, 'max_depth': 14, 'min_samples_leaf': 2, 'max_bins': 26}. Best is trial 3 with value: 0.6304626172965586.\n",
      "[I 2024-11-13 17:27:07,520] Trial 18 finished with value: 0.6310493265316759 and parameters: {'max_iter': 390, 'learning_rate': 0.04216010158064554, 'max_depth': 10, 'min_samples_leaf': 4, 'max_bins': 8}. Best is trial 18 with value: 0.6310493265316759.\n",
      "[I 2024-11-13 17:29:53,308] Trial 19 finished with value: 0.6240929716314416 and parameters: {'max_iter': 431, 'learning_rate': 0.043190742195197314, 'max_depth': 10, 'min_samples_leaf': 4, 'max_bins': 39}. Best is trial 18 with value: 0.6310493265316759.\n",
      "[I 2024-11-13 17:34:09,713] Trial 20 finished with value: 0.6354912506297817 and parameters: {'max_iter': 378, 'learning_rate': 0.010094036266227152, 'max_depth': 7, 'min_samples_leaf': 5, 'max_bins': 15}. Best is trial 20 with value: 0.6354912506297817.\n",
      "[I 2024-11-13 17:38:12,244] Trial 21 finished with value: 0.6329070732716169 and parameters: {'max_iter': 387, 'learning_rate': 0.011404817358490991, 'max_depth': 6, 'min_samples_leaf': 5, 'max_bins': 14}. Best is trial 20 with value: 0.6354912506297817.\n",
      "[I 2024-11-13 17:41:56,690] Trial 22 finished with value: 0.6355471175265417 and parameters: {'max_iter': 384, 'learning_rate': 0.010424389036450602, 'max_depth': 6, 'min_samples_leaf': 5, 'max_bins': 15}. Best is trial 22 with value: 0.6355471175265417.\n",
      "[I 2024-11-13 17:45:20,542] Trial 23 finished with value: 0.6314543525096512 and parameters: {'max_iter': 446, 'learning_rate': 0.01079413431791046, 'max_depth': 6, 'min_samples_leaf': 5, 'max_bins': 16}. Best is trial 22 with value: 0.6355471175265417.\n",
      "[I 2024-11-13 17:48:13,638] Trial 24 finished with value: 0.6239672733086455 and parameters: {'max_iter': 376, 'learning_rate': 0.02276957768813699, 'max_depth': 6, 'min_samples_leaf': 5, 'max_bins': 24}. Best is trial 22 with value: 0.6355471175265417.\n",
      "[I 2024-11-13 17:50:52,295] Trial 25 finished with value: 0.6284790824862356 and parameters: {'max_iter': 445, 'learning_rate': 0.018420380623953292, 'max_depth': 7, 'min_samples_leaf': 5, 'max_bins': 31}. Best is trial 22 with value: 0.6355471175265417.\n",
      "[I 2024-11-13 17:53:15,734] Trial 26 finished with value: 0.6387458785494109 and parameters: {'max_iter': 304, 'learning_rate': 0.010296400176459743, 'max_depth': 5, 'min_samples_leaf': 5, 'max_bins': 14}. Best is trial 26 with value: 0.6387458785494109.\n",
      "[I 2024-11-13 17:55:02,599] Trial 27 finished with value: 0.6241209280044767 and parameters: {'max_iter': 312, 'learning_rate': 0.030157639762040056, 'max_depth': 5, 'min_samples_leaf': 5, 'max_bins': 22}. Best is trial 26 with value: 0.6387458785494109.\n",
      "[I 2024-11-13 17:57:20,173] Trial 28 finished with value: 0.6288143287405885 and parameters: {'max_iter': 272, 'learning_rate': 0.020248605281031708, 'max_depth': 8, 'min_samples_leaf': 5, 'max_bins': 20}. Best is trial 26 with value: 0.6387458785494109.\n",
      "[I 2024-11-13 17:58:49,942] Trial 29 finished with value: 0.6308258540670499 and parameters: {'max_iter': 311, 'learning_rate': 0.03140428748010189, 'max_depth': 3, 'min_samples_leaf': 4, 'max_bins': 13}. Best is trial 26 with value: 0.6387458785494109.\n",
      "[I 2024-11-13 18:00:00,981] Trial 30 finished with value: 0.6307839409688765 and parameters: {'max_iter': 248, 'learning_rate': 0.0266677320626429, 'max_depth': 3, 'min_samples_leaf': 5, 'max_bins': 30}. Best is trial 26 with value: 0.6387458785494109.\n",
      "[I 2024-11-13 18:04:30,554] Trial 31 finished with value: 0.6366925103620173 and parameters: {'max_iter': 370, 'learning_rate': 0.010555686891011815, 'max_depth': 5, 'min_samples_leaf': 5, 'max_bins': 14}. Best is trial 26 with value: 0.6387458785494109.\n",
      "[I 2024-11-13 18:08:35,294] Trial 32 finished with value: 0.6239533009752314 and parameters: {'max_iter': 356, 'learning_rate': 0.0154625835002602, 'max_depth': 5, 'min_samples_leaf': 5, 'max_bins': 17}. Best is trial 26 with value: 0.6387458785494109.\n",
      "[I 2024-11-13 18:12:27,334] Trial 33 finished with value: 0.6331165880355873 and parameters: {'max_iter': 418, 'learning_rate': 0.011999447331596757, 'max_depth': 5, 'min_samples_leaf': 5, 'max_bins': 14}. Best is trial 26 with value: 0.6387458785494109.\n",
      "[I 2024-11-13 18:15:36,922] Trial 34 finished with value: 0.622193277650224 and parameters: {'max_iter': 366, 'learning_rate': 0.017583490022250535, 'max_depth': 8, 'min_samples_leaf': 4, 'max_bins': 45}. Best is trial 26 with value: 0.6387458785494109.\n",
      "[I 2024-11-13 18:18:50,865] Trial 35 finished with value: 0.6333541069729378 and parameters: {'max_iter': 334, 'learning_rate': 0.010119465889673015, 'max_depth': 5, 'min_samples_leaf': 5, 'max_bins': 19}. Best is trial 26 with value: 0.6387458785494109.\n",
      "[I 2024-11-13 18:20:16,676] Trial 36 finished with value: 0.631440427976582 and parameters: {'max_iter': 290, 'learning_rate': 0.035799425229898166, 'max_depth': 7, 'min_samples_leaf': 5, 'max_bins': 13}. Best is trial 26 with value: 0.6387458785494109.\n",
      "[I 2024-11-13 18:22:43,251] Trial 37 finished with value: 0.6243863506369313 and parameters: {'max_iter': 415, 'learning_rate': 0.022102276027410304, 'max_depth': 4, 'min_samples_leaf': 1, 'max_bins': 23}. Best is trial 26 with value: 0.6387458785494109.\n",
      "[I 2024-11-13 18:24:40,390] Trial 38 finished with value: 0.6304347028707649 and parameters: {'max_iter': 378, 'learning_rate': 0.02623493282749765, 'max_depth': 9, 'min_samples_leaf': 4, 'max_bins': 11}. Best is trial 26 with value: 0.6387458785494109.\n",
      "[I 2024-11-13 18:27:32,380] Trial 39 finished with value: 0.6195113359054016 and parameters: {'max_iter': 324, 'learning_rate': 0.015533811257406948, 'max_depth': 7, 'min_samples_leaf': 5, 'max_bins': 25}. Best is trial 26 with value: 0.6387458785494109.\n",
      "[I 2024-11-13 18:28:38,517] Trial 40 finished with value: 0.6106554362780873 and parameters: {'max_iter': 216, 'learning_rate': 0.02023709384120402, 'max_depth': 3, 'min_samples_leaf': 5, 'max_bins': 63}. Best is trial 26 with value: 0.6387458785494109.\n",
      "[I 2024-11-13 18:31:15,781] Trial 41 finished with value: 0.6325579044352291 and parameters: {'max_iter': 332, 'learning_rate': 0.01074315085219266, 'max_depth': 5, 'min_samples_leaf': 5, 'max_bins': 19}. Best is trial 26 with value: 0.6387458785494109.\n",
      "[I 2024-11-13 18:33:26,228] Trial 42 finished with value: 0.6362176724683506 and parameters: {'max_iter': 352, 'learning_rate': 0.01014835225884776, 'max_depth': 4, 'min_samples_leaf': 5, 'max_bins': 11}. Best is trial 26 with value: 0.6387458785494109.\n",
      "[I 2024-11-13 18:35:34,766] Trial 43 finished with value: 0.6316499485936558 and parameters: {'max_iter': 355, 'learning_rate': 0.015931766119142283, 'max_depth': 4, 'min_samples_leaf': 5, 'max_bins': 11}. Best is trial 26 with value: 0.6387458785494109.\n",
      "[I 2024-11-13 18:37:47,760] Trial 44 finished with value: 0.6305883107417686 and parameters: {'max_iter': 299, 'learning_rate': 0.024348803524881345, 'max_depth': 6, 'min_samples_leaf': 5, 'max_bins': 15}. Best is trial 26 with value: 0.6387458785494109.\n",
      "[I 2024-11-13 18:40:25,214] Trial 45 finished with value: 0.6318734356910405 and parameters: {'max_iter': 404, 'learning_rate': 0.014410406489138577, 'max_depth': 4, 'min_samples_leaf': 4, 'max_bins': 11}. Best is trial 26 with value: 0.6387458785494109.\n",
      "[I 2024-11-13 18:43:43,814] Trial 46 finished with value: 0.6295546790142956 and parameters: {'max_iter': 369, 'learning_rate': 0.01932289708979936, 'max_depth': 5, 'min_samples_leaf': 5, 'max_bins': 12}. Best is trial 26 with value: 0.6387458785494109.\n",
      "[I 2024-11-13 18:46:10,280] Trial 47 finished with value: 0.615139226649539 and parameters: {'max_iter': 462, 'learning_rate': 0.029690374936454888, 'max_depth': 3, 'min_samples_leaf': 4, 'max_bins': 46}. Best is trial 26 with value: 0.6387458785494109.\n",
      "[I 2024-11-13 18:47:43,142] Trial 48 finished with value: 0.6244282725147599 and parameters: {'max_iter': 267, 'learning_rate': 0.04839778394911271, 'max_depth': 4, 'min_samples_leaf': 5, 'max_bins': 19}. Best is trial 26 with value: 0.6387458785494109.\n",
      "[I 2024-11-13 18:49:32,497] Trial 49 finished with value: 0.6205031433067699 and parameters: {'max_iter': 343, 'learning_rate': 0.03457970240271016, 'max_depth': 8, 'min_samples_leaf': 3, 'max_bins': 36}. Best is trial 26 with value: 0.6387458785494109.\n"
     ]
    }
   ],
   "source": [
    "# Ready to optimize\n",
    "study.optimize(objective, n_trials=50)"
   ]
  },
  {
   "cell_type": "code",
   "execution_count": 149,
   "metadata": {},
   "outputs": [
    {
     "name": "stdout",
     "output_type": "stream",
     "text": [
      "Mejores hiperparámetros: {'max_iter': 304, 'learning_rate': 0.010296400176459743, 'max_depth': 5, 'min_samples_leaf': 5, 'max_bins': 14}\n",
      "Mejor valor de la función objetivo (precisión): 0.6387458785494109\n"
     ]
    }
   ],
   "source": [
    "# Imprimir los mejores resultados\n",
    "print(\"Mejores hiperparámetros:\", study.best_params)\n",
    "print(\"Mejor valor de la función objetivo (precisión):\", study.best_value)"
   ]
  },
  {
   "cell_type": "markdown",
   "metadata": {},
   "source": [
    "## Bagging - Adaboost"
   ]
  },
  {
   "cell_type": "code",
   "execution_count": 129,
   "metadata": {},
   "outputs": [],
   "source": [
    "base_estimator = DecisionTreeClassifier(max_depth = 10)"
   ]
  },
  {
   "cell_type": "code",
   "execution_count": 130,
   "metadata": {},
   "outputs": [],
   "source": [
    "adaboost = AdaBoostClassifier(base_estimator=base_estimator, n_estimators=100, random_state=42)"
   ]
  },
  {
   "cell_type": "code",
   "execution_count": 131,
   "metadata": {},
   "outputs": [],
   "source": [
    "bagging_adaboost = BaggingClassifier(\n",
    "    base_estimator = adaboost,\n",
    "    n_estimators = 20,\n",
    "    random_state = 42,\n",
    "    n_jobs = 4\n",
    ")"
   ]
  },
  {
   "cell_type": "code",
   "execution_count": 132,
   "metadata": {},
   "outputs": [
    {
     "data": {
      "text/plain": [
       "BaggingClassifier(base_estimator=AdaBoostClassifier(base_estimator=DecisionTreeClassifier(max_depth=10),\n",
       "                                                    n_estimators=100,\n",
       "                                                    random_state=42),\n",
       "                  n_estimators=20, n_jobs=4, random_state=42)"
      ]
     },
     "execution_count": 132,
     "metadata": {},
     "output_type": "execute_result"
    }
   ],
   "source": [
    "bagging_adaboost.fit(X_train, y_train)"
   ]
  },
  {
   "cell_type": "code",
   "execution_count": 133,
   "metadata": {},
   "outputs": [],
   "source": [
    "# Predicción\n",
    "y_pred = bagging_adaboost.predict(X_test)"
   ]
  },
  {
   "cell_type": "code",
   "execution_count": 134,
   "metadata": {},
   "outputs": [
    {
     "name": "stdout",
     "output_type": "stream",
     "text": [
      "Accuracy: 0.6390809414065228\n"
     ]
    }
   ],
   "source": [
    "# Calcular precisión\n",
    "accuracy = accuracy_score(y_test, y_pred)\n",
    "print(\"Accuracy:\", accuracy)"
   ]
  },
  {
   "cell_type": "code",
   "execution_count": 135,
   "metadata": {},
   "outputs": [
    {
     "data": {
      "text/plain": [
       "['./models/bagging_adaboost.joblib']"
      ]
     },
     "execution_count": 135,
     "metadata": {},
     "output_type": "execute_result"
    }
   ],
   "source": [
    "joblib.dump(bagging_adaboost, './models/bagging_adaboost.joblib')"
   ]
  },
  {
   "cell_type": "markdown",
   "metadata": {},
   "source": [
    "## PSO"
   ]
  },
  {
   "cell_type": "markdown",
   "metadata": {},
   "source": [
    "### Random Forest"
   ]
  },
  {
   "cell_type": "code",
   "execution_count": 177,
   "metadata": {},
   "outputs": [],
   "source": [
    "def objective_function(hyperparameters):\n",
    "    n_estimators, max_depth = int(hyperparameters[0]), int(hyperparameters[1])\n",
    "    \n",
    "    model = RandomForestClassifier(\n",
    "        n_estimators = n_estimators, \n",
    "        max_depth = max_depth, \n",
    "        random_state = 42\n",
    "    )\n",
    "\n",
    "    model.fit(X_train, y_train)\n",
    "    y_pred = model.predict(X_test)\n",
    "    accuracy = accuracy_score(y_test, y_pred)\n",
    "    return -accuracy  # Minimize function value (negative accuracy)\n"
   ]
  },
  {
   "cell_type": "code",
   "execution_count": 178,
   "metadata": {},
   "outputs": [],
   "source": [
    "# Parameters to optimize\n",
    "bounds = [(10, 200), (1, 20)]  # Example of parameter bounds\n",
    "dim = 2  # Quantity of parameters"
   ]
  },
  {
   "cell_type": "code",
   "execution_count": 179,
   "metadata": {},
   "outputs": [
    {
     "name": "stdout",
     "output_type": "stream",
     "text": [
      "Iteración 1/10, Mejor precisión: 0.6553530274460507\n",
      "Iteración 2/10, Mejor precisión: 0.6554228647251903\n",
      "Iteración 3/10, Mejor precisión: 0.6594035896361478\n",
      "Iteración 4/10, Mejor precisión: 0.6594035896361478\n",
      "Iteración 5/10, Mejor precisión: 0.659892450590125\n",
      "Iteración 6/10, Mejor precisión: 0.659892450590125\n",
      "Iteración 7/10, Mejor precisión: 0.6601717997066834\n",
      "Iteración 8/10, Mejor precisión: 0.6603813115441023\n",
      "Iteración 9/10, Mejor precisión: 0.6604511488232419\n",
      "Iteración 10/10, Mejor precisión: 0.6604511488232419\n",
      "Mejores hiperparámetros: [119.32477184  16.38262364]\n",
      "Mejor precisión obtenida: 0.6604511488232419\n"
     ]
    }
   ],
   "source": [
    "best_hyperparameters, best_score = particle_swarm_optimization(objective_function, bounds, dim)\n",
    "print(\"Mejores hiperparámetros:\", best_hyperparameters)\n",
    "print(\"Mejor precisión obtenida:\", best_score)"
   ]
  },
  {
   "cell_type": "code",
   "execution_count": 180,
   "metadata": {},
   "outputs": [],
   "source": [
    "# Train the model with the best hyperparameters\n",
    "best_n_estimators, best_max_depth = int(best_hyperparameters[0]), int(best_hyperparameters[1])\n",
    "\n",
    "best_model = RandomForestClassifier(\n",
    "    n_estimators=best_n_estimators, \n",
    "    max_depth=best_max_depth, \n",
    "    random_state=42\n",
    ")"
   ]
  },
  {
   "cell_type": "code",
   "execution_count": 181,
   "metadata": {},
   "outputs": [
    {
     "data": {
      "text/plain": [
       "RandomForestClassifier(max_depth=16, n_estimators=119, random_state=42)"
      ]
     },
     "execution_count": 181,
     "metadata": {},
     "output_type": "execute_result"
    }
   ],
   "source": [
    "best_model.fit(X_train, y_train)"
   ]
  },
  {
   "cell_type": "code",
   "execution_count": 182,
   "metadata": {},
   "outputs": [
    {
     "data": {
      "text/plain": [
       "['./models/random_forest_pso.joblib']"
      ]
     },
     "execution_count": 182,
     "metadata": {},
     "output_type": "execute_result"
    }
   ],
   "source": [
    "# Guardar el modelo entrenado\n",
    "joblib.dump(best_model, './models/random_forest_pso.joblib')"
   ]
  },
  {
   "cell_type": "markdown",
   "metadata": {},
   "source": [
    "### HistGradientBoosting"
   ]
  },
  {
   "cell_type": "code",
   "execution_count": 183,
   "metadata": {},
   "outputs": [],
   "source": [
    "def objective_function(hyperparameters):\n",
    "    max_iter = int(hyperparameters[0])\n",
    "    max_depth = int(hyperparameters[1])\n",
    "    learning_rate = hyperparameters[2]\n",
    "    min_samples_leaf = int(hyperparameters[3])\n",
    "    max_bins = int(hyperparameters[4])\n",
    "    \n",
    "    model = HistGradientBoostingClassifier(\n",
    "        max_iter=max_iter,\n",
    "        learning_rate=learning_rate,\n",
    "        max_depth=max_depth,\n",
    "        min_samples_leaf=min_samples_leaf,\n",
    "        max_bins=max_bins,\n",
    "        random_state=42\n",
    "    )\n",
    "\n",
    "    model.fit(X_train, y_train)\n",
    "    y_pred = model.predict(X_test)\n",
    "    accuracy = accuracy_score(y_test, y_pred)\n",
    "    return -accuracy  # Minimize the function value (negative accuracy)"
   ]
  },
  {
   "cell_type": "code",
   "execution_count": 184,
   "metadata": {},
   "outputs": [],
   "source": [
    "# Parámetros para PSO\n",
    "bounds = [(100, 200), (3, 15), (0.01, 0.1), (1, 5), (8, 64)] \n",
    "dim = 5 "
   ]
  },
  {
   "cell_type": "code",
   "execution_count": null,
   "metadata": {},
   "outputs": [],
   "source": [
    "best_hyperparameters, best_score = particle_swarm_optimization(objective_function, bounds, dim)\n",
    "print(\"Mejores hiperparámetros:\", best_hyperparameters)\n",
    "print(\"Mejor precisión obtenida:\", best_score)"
   ]
  }
 ],
 "metadata": {
  "kernelspec": {
   "display_name": "TFlow",
   "language": "python",
   "name": "python3"
  },
  "language_info": {
   "codemirror_mode": {
    "name": "ipython",
    "version": 3
   },
   "file_extension": ".py",
   "mimetype": "text/x-python",
   "name": "python",
   "nbconvert_exporter": "python",
   "pygments_lexer": "ipython3",
   "version": "3.7.12"
  }
 },
 "nbformat": 4,
 "nbformat_minor": 2
}
