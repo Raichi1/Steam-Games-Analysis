{
 "cells": [
  {
   "cell_type": "markdown",
   "metadata": {},
   "source": [
    "# IMPORT LIBRARIES"
   ]
  },
  {
   "cell_type": "code",
   "execution_count": 4,
   "metadata": {},
   "outputs": [],
   "source": [
    "import pandas as pd\n",
    "import numpy as np\n",
    "\n",
    "import matplotlib.pyplot as plt\n",
    "import seaborn as sns\n",
    "\n",
    "from sklearn.model_selection import train_test_split, cross_val_score, GridSearchCV, RandomizedSearchCV\n",
    "from sklearn.metrics import accuracy_score # root_mean_squared_error, mean_absolute_error\n",
    "from sklearn.ensemble import RandomForestClassifier, HistGradientBoostingClassifier\n",
    "from catboost import CatBoostClassifier\n",
    "from sklearn.linear_model import LogisticRegression\n",
    "from sklearn.svm import SVC\n",
    "\n",
    "from tensorflow.keras.wrappers.scikit_learn import KerasClassifier\n",
    "from tensorflow.keras.models import Sequential\n",
    "from tensorflow.keras.layers import Dense, Dropout\n",
    "from tensorflow.keras.optimizers import Adam\n",
    "from tensorflow.keras.utils import to_categorical\n",
    "\n",
    "from skopt.space import Real, Integer\n",
    "from sklearn.ensemble import AdaBoostClassifier, BaggingClassifier\n",
    "from sklearn.tree import DecisionTreeClassifier\n",
    "\n",
    "# library for hyperparameter tuning\n",
    "import optuna\n",
    "from skopt import BayesSearchCV\n",
    "from optimizers.PSO import particle_swarm_optimization\n",
    "\n",
    "# library for save model\n",
    "import joblib\n",
    "\n",
    "import warnings\n",
    "warnings.filterwarnings('ignore')"
   ]
  },
  {
   "cell_type": "markdown",
   "metadata": {},
   "source": [
    "# GET DATA"
   ]
  },
  {
   "cell_type": "code",
   "execution_count": 5,
   "metadata": {},
   "outputs": [],
   "source": [
    "games = pd.read_csv(\"../data/games_normalized_clean.csv\")"
   ]
  },
  {
   "cell_type": "markdown",
   "metadata": {},
   "source": [
    "# Models"
   ]
  },
  {
   "cell_type": "code",
   "execution_count": 6,
   "metadata": {},
   "outputs": [],
   "source": [
    "games_labels = games[\"Estimated owners\"]\n",
    "games = games.drop(\"Estimated owners\", axis = 1)"
   ]
  },
  {
   "cell_type": "code",
   "execution_count": 7,
   "metadata": {},
   "outputs": [],
   "source": [
    "X_train, X_test, y_train, y_test = train_test_split(games, games_labels, test_size = 0.2, random_state= 42)"
   ]
  },
  {
   "cell_type": "markdown",
   "metadata": {},
   "source": [
    "# Models"
   ]
  },
  {
   "cell_type": "markdown",
   "metadata": {},
   "source": [
    "## HistGradientBoosting"
   ]
  },
  {
   "cell_type": "code",
   "execution_count": 8,
   "metadata": {},
   "outputs": [
    {
     "data": {
      "text/plain": [
       "HistGradientBoostingClassifier(max_depth=100, random_state=42)"
      ]
     },
     "execution_count": 8,
     "metadata": {},
     "output_type": "execute_result"
    }
   ],
   "source": [
    "model = HistGradientBoostingClassifier(max_iter = 100, max_depth = 100, random_state=42)\n",
    "model.fit(X_train, y_train)"
   ]
  },
  {
   "cell_type": "code",
   "execution_count": 9,
   "metadata": {},
   "outputs": [],
   "source": [
    "y_predict = model.predict(X_test)"
   ]
  },
  {
   "cell_type": "code",
   "execution_count": 10,
   "metadata": {},
   "outputs": [
    {
     "data": {
      "text/plain": [
       "0.6594035896361478"
      ]
     },
     "execution_count": 10,
     "metadata": {},
     "output_type": "execute_result"
    }
   ],
   "source": [
    "accuracy_score(y_test, y_predict)"
   ]
  },
  {
   "cell_type": "markdown",
   "metadata": {},
   "source": [
    "## CatBoost"
   ]
  },
  {
   "cell_type": "code",
   "execution_count": 11,
   "metadata": {},
   "outputs": [],
   "source": [
    "model = CatBoostClassifier(iterations=1000, \n",
    "                           depth= 10, \n",
    "                           learning_rate=0.1, \n",
    "                           loss_function='MultiClass', \n",
    "                           cat_features=[],\n",
    "                           random_seed=42,\n",
    "                           verbose=100)"
   ]
  },
  {
   "cell_type": "code",
   "execution_count": 12,
   "metadata": {},
   "outputs": [
    {
     "name": "stdout",
     "output_type": "stream",
     "text": [
      "0:\tlearn: 1.2686582\ttotal: 439ms\tremaining: 7m 18s\n",
      "100:\tlearn: 0.6374868\ttotal: 38.5s\tremaining: 5m 42s\n",
      "200:\tlearn: 0.5747659\ttotal: 1m 19s\tremaining: 5m 14s\n",
      "300:\tlearn: 0.5229620\ttotal: 1m 54s\tremaining: 4m 26s\n",
      "400:\tlearn: 0.4826596\ttotal: 2m 30s\tremaining: 3m 44s\n",
      "500:\tlearn: 0.4483201\ttotal: 3m 6s\tremaining: 3m 5s\n",
      "600:\tlearn: 0.4178366\ttotal: 3m 42s\tremaining: 2m 27s\n",
      "700:\tlearn: 0.3907541\ttotal: 4m 23s\tremaining: 1m 52s\n",
      "800:\tlearn: 0.3668014\ttotal: 4m 58s\tremaining: 1m 14s\n",
      "900:\tlearn: 0.3451251\ttotal: 5m 34s\tremaining: 36.8s\n",
      "999:\tlearn: 0.3263820\ttotal: 6m 10s\tremaining: 0us\n"
     ]
    },
    {
     "data": {
      "text/plain": [
       "<catboost.core.CatBoostClassifier at 0x2311a55e348>"
      ]
     },
     "execution_count": 12,
     "metadata": {},
     "output_type": "execute_result"
    }
   ],
   "source": [
    "model.fit(X_train, y_train)"
   ]
  },
  {
   "cell_type": "code",
   "execution_count": 13,
   "metadata": {},
   "outputs": [],
   "source": [
    "y_pred = model.predict(X_test)"
   ]
  },
  {
   "cell_type": "code",
   "execution_count": 14,
   "metadata": {},
   "outputs": [
    {
     "data": {
      "text/plain": [
       "0.6360081011243802"
      ]
     },
     "execution_count": 14,
     "metadata": {},
     "output_type": "execute_result"
    }
   ],
   "source": [
    "accuracy_score(y_test, y_pred)"
   ]
  },
  {
   "cell_type": "markdown",
   "metadata": {},
   "source": [
    "## Hyper-parameter Optimizer"
   ]
  },
  {
   "cell_type": "markdown",
   "metadata": {},
   "source": [
    "## Bayesian-Search"
   ]
  },
  {
   "cell_type": "markdown",
   "metadata": {},
   "source": [
    "### Gaussian Process"
   ]
  },
  {
   "cell_type": "markdown",
   "metadata": {},
   "source": [
    "#### HistGradientBoosting"
   ]
  },
  {
   "cell_type": "code",
   "execution_count": 15,
   "metadata": {},
   "outputs": [],
   "source": [
    "param_space = {\n",
    "    'learning_rate': Real(0.01, 0.2),\n",
    "    'max_iter': Integer(50, 500),\n",
    "    'max_depth': Integer(3, 15),\n",
    "    'min_samples_leaf': Integer(1, 20),\n",
    "}"
   ]
  },
  {
   "cell_type": "code",
   "execution_count": 16,
   "metadata": {},
   "outputs": [],
   "source": [
    "bayes_search = BayesSearchCV(\n",
    "    estimator = HistGradientBoostingClassifier(),\n",
    "    search_spaces = param_space,\n",
    "    n_iter = 32, \n",
    "    scoring = 'accuracy',\n",
    "    cv = 5,\n",
    "    n_jobs = 4,\n",
    "    verbose = 0,\n",
    "    random_state = 42,\n",
    "    optimizer_kwargs = {'base_estimator': 'GP'}\n",
    ")"
   ]
  },
  {
   "cell_type": "code",
   "execution_count": 17,
   "metadata": {},
   "outputs": [
    {
     "data": {
      "text/plain": [
       "BayesSearchCV(cv=5, estimator=HistGradientBoostingClassifier(), n_iter=32,\n",
       "              n_jobs=4, optimizer_kwargs={'base_estimator': 'GP'},\n",
       "              random_state=42, scoring='accuracy',\n",
       "              search_spaces={'learning_rate': Real(low=0.01, high=0.2, prior='uniform', transform='normalize'),\n",
       "                             'max_depth': Integer(low=3, high=15, prior='uniform', transform='normalize'),\n",
       "                             'max_iter': Integer(low=50, high=500, prior='uniform', transform='normalize'),\n",
       "                             'min_samples_leaf': Integer(low=1, high=20, prior='uniform', transform='normalize')})"
      ]
     },
     "execution_count": 17,
     "metadata": {},
     "output_type": "execute_result"
    }
   ],
   "source": [
    "bayes_search.fit(X_train, y_train)"
   ]
  },
  {
   "cell_type": "code",
   "execution_count": 18,
   "metadata": {},
   "outputs": [
    {
     "name": "stdout",
     "output_type": "stream",
     "text": [
      "Best score: 0.6562778409483683\n",
      "Best parameters: OrderedDict([('learning_rate', 0.05079206891199923), ('max_depth', 3), ('max_iter', 393), ('min_samples_leaf', 15)])\n"
     ]
    }
   ],
   "source": [
    "# Best parameters\n",
    "print(\"Best score:\", bayes_search.best_score_)\n",
    "print(\"Best parameters:\", bayes_search.best_params_)"
   ]
  },
  {
   "cell_type": "code",
   "execution_count": 19,
   "metadata": {},
   "outputs": [
    {
     "name": "stdout",
     "output_type": "stream",
     "text": [
      "Test accuracy: 0.6626161044765696\n"
     ]
    }
   ],
   "source": [
    "# Evaluar el conjunto de datos de prueba\n",
    "print(\"Test accuracy:\", bayes_search.score(X_test, y_test))"
   ]
  },
  {
   "cell_type": "code",
   "execution_count": 20,
   "metadata": {},
   "outputs": [
    {
     "data": {
      "text/plain": [
       "['./models/bayes_search_hist_gradient_boosting.joblib']"
      ]
     },
     "execution_count": 20,
     "metadata": {},
     "output_type": "execute_result"
    }
   ],
   "source": [
    "joblib.dump(bayes_search, './models/bayes_search_hist_gradient_boosting.joblib')"
   ]
  },
  {
   "cell_type": "markdown",
   "metadata": {},
   "source": [
    "### Tree Structure Parzen"
   ]
  },
  {
   "cell_type": "markdown",
   "metadata": {},
   "source": [
    "#### HistGradientBoosting"
   ]
  },
  {
   "cell_type": "code",
   "execution_count": 21,
   "metadata": {},
   "outputs": [],
   "source": [
    "def objective(trial):\n",
    "    max_iter = trial.suggest_int('max_iter', 100, 500)\n",
    "    learning_rate = trial.suggest_float('learning_rate', 0.01, 0.1)\n",
    "    max_depth = trial.suggest_int('max_depth', 3, 15) \n",
    "    min_samples_leaf = trial.suggest_int('min_samples_leaf', 1, 5)\n",
    "    max_bins = trial.suggest_int('max_bins', 8, 64)\n",
    "\n",
    "    model = HistGradientBoostingClassifier(\n",
    "        max_iter=max_iter,\n",
    "        learning_rate=learning_rate,\n",
    "        max_depth=max_depth,\n",
    "        min_samples_leaf=min_samples_leaf,\n",
    "        max_bins=max_bins,\n",
    "        random_state=42\n",
    "    )\n",
    "    \n",
    "    score = cross_val_score(model, games, games_labels, cv=5, scoring='accuracy')\n",
    "    \n",
    "    return np.mean(score)"
   ]
  },
  {
   "cell_type": "code",
   "execution_count": 22,
   "metadata": {},
   "outputs": [
    {
     "name": "stderr",
     "output_type": "stream",
     "text": [
      "[I 2024-11-19 15:45:25,488] A new study created in memory with name: no-name-19a221e2-dcf7-4c61-bc43-2abc86e72337\n"
     ]
    }
   ],
   "source": [
    "study = optuna.create_study(direction='maximize', sampler=optuna.samplers.TPESampler())"
   ]
  },
  {
   "cell_type": "code",
   "execution_count": 23,
   "metadata": {},
   "outputs": [
    {
     "name": "stderr",
     "output_type": "stream",
     "text": [
      "[I 2024-11-19 15:46:18,964] Trial 0 finished with value: 0.6187291447217966 and parameters: {'max_iter': 483, 'learning_rate': 0.06615169772779768, 'max_depth': 3, 'min_samples_leaf': 5, 'max_bins': 33}. Best is trial 0 with value: 0.6187291447217966.\n",
      "[I 2024-11-19 15:48:11,384] Trial 1 finished with value: 0.6265234855141201 and parameters: {'max_iter': 371, 'learning_rate': 0.023792707572074932, 'max_depth': 13, 'min_samples_leaf': 2, 'max_bins': 56}. Best is trial 1 with value: 0.6265234855141201.\n",
      "[I 2024-11-19 15:49:09,982] Trial 2 finished with value: 0.6213551737205488 and parameters: {'max_iter': 303, 'learning_rate': 0.06354918105440405, 'max_depth': 11, 'min_samples_leaf': 3, 'max_bins': 55}. Best is trial 1 with value: 0.6265234855141201.\n",
      "[I 2024-11-19 15:51:03,934] Trial 3 finished with value: 0.5868531687838658 and parameters: {'max_iter': 231, 'learning_rate': 0.015760934632558343, 'max_depth': 5, 'min_samples_leaf': 3, 'max_bins': 51}. Best is trial 1 with value: 0.6265234855141201.\n",
      "[I 2024-11-19 15:52:13,623] Trial 4 finished with value: 0.6305604031445954 and parameters: {'max_iter': 136, 'learning_rate': 0.027045712210468476, 'max_depth': 8, 'min_samples_leaf': 3, 'max_bins': 20}. Best is trial 4 with value: 0.6305604031445954.\n",
      "[I 2024-11-19 15:53:01,943] Trial 5 finished with value: 0.6229755078545185 and parameters: {'max_iter': 260, 'learning_rate': 0.06482758510644375, 'max_depth': 10, 'min_samples_leaf': 1, 'max_bins': 33}. Best is trial 4 with value: 0.6305604031445954.\n",
      "[I 2024-11-19 15:53:50,053] Trial 6 finished with value: 0.630392828793281 and parameters: {'max_iter': 189, 'learning_rate': 0.05298574200116531, 'max_depth': 3, 'min_samples_leaf': 3, 'max_bins': 13}. Best is trial 4 with value: 0.6305604031445954.\n",
      "[I 2024-11-19 15:54:32,200] Trial 7 finished with value: 0.6211736045989238 and parameters: {'max_iter': 348, 'learning_rate': 0.09357939670234386, 'max_depth': 12, 'min_samples_leaf': 3, 'max_bins': 17}. Best is trial 4 with value: 0.6305604031445954.\n",
      "[I 2024-11-19 15:55:16,100] Trial 8 finished with value: 0.6253222413901605 and parameters: {'max_iter': 244, 'learning_rate': 0.06592148048925021, 'max_depth': 7, 'min_samples_leaf': 2, 'max_bins': 29}. Best is trial 4 with value: 0.6305604031445954.\n",
      "[I 2024-11-19 15:56:37,359] Trial 9 finished with value: 0.6303508747233836 and parameters: {'max_iter': 177, 'learning_rate': 0.02062574759943779, 'max_depth': 7, 'min_samples_leaf': 2, 'max_bins': 20}. Best is trial 4 with value: 0.6305604031445954.\n",
      "[I 2024-11-19 15:57:33,556] Trial 10 finished with value: 0.6337731560112235 and parameters: {'max_iter': 119, 'learning_rate': 0.03484409209090297, 'max_depth': 8, 'min_samples_leaf': 5, 'max_bins': 8}. Best is trial 10 with value: 0.6337731560112235.\n",
      "[I 2024-11-19 15:58:36,402] Trial 11 finished with value: 0.6327115366941638 and parameters: {'max_iter': 120, 'learning_rate': 0.04076370727589025, 'max_depth': 15, 'min_samples_leaf': 5, 'max_bins': 8}. Best is trial 10 with value: 0.6337731560112235.\n",
      "[I 2024-11-19 15:59:33,403] Trial 12 finished with value: 0.6330886823894487 and parameters: {'max_iter': 111, 'learning_rate': 0.041297216398079636, 'max_depth': 15, 'min_samples_leaf': 5, 'max_bins': 11}. Best is trial 10 with value: 0.6337731560112235.\n",
      "[I 2024-11-19 16:00:29,525] Trial 13 finished with value: 0.6189526025536642 and parameters: {'max_iter': 103, 'learning_rate': 0.04000291991428818, 'max_depth': 15, 'min_samples_leaf': 5, 'max_bins': 44}. Best is trial 10 with value: 0.6337731560112235.\n",
      "[I 2024-11-19 16:01:40,207] Trial 14 finished with value: 0.6185195733778264 and parameters: {'max_iter': 181, 'learning_rate': 0.04058628450157557, 'max_depth': 9, 'min_samples_leaf': 4, 'max_bins': 25}. Best is trial 10 with value: 0.6337731560112235.\n",
      "[I 2024-11-19 16:02:17,010] Trial 15 finished with value: 0.6160471902952501 and parameters: {'max_iter': 460, 'learning_rate': 0.08785940484949767, 'max_depth': 13, 'min_samples_leaf': 4, 'max_bins': 9}. Best is trial 10 with value: 0.6337731560112235.\n",
      "[I 2024-11-19 16:03:19,938] Trial 16 finished with value: 0.6161589514032528 and parameters: {'max_iter': 155, 'learning_rate': 0.04946181629569307, 'max_depth': 5, 'min_samples_leaf': 4, 'max_bins': 42}. Best is trial 10 with value: 0.6337731560112235.\n",
      "[I 2024-11-19 16:04:41,783] Trial 17 finished with value: 0.6244002937048283 and parameters: {'max_iter': 201, 'learning_rate': 0.0320818878180551, 'max_depth': 10, 'min_samples_leaf': 5, 'max_bins': 63}. Best is trial 10 with value: 0.6337731560112235.\n",
      "[I 2024-11-19 16:05:19,278] Trial 18 finished with value: 0.6232549155021112 and parameters: {'max_iter': 101, 'learning_rate': 0.08024452731780109, 'max_depth': 6, 'min_samples_leaf': 4, 'max_bins': 24}. Best is trial 10 with value: 0.6337731560112235.\n",
      "[I 2024-11-19 16:07:51,336] Trial 19 finished with value: 0.6354074419927452 and parameters: {'max_iter': 299, 'learning_rate': 0.012364234266435445, 'max_depth': 13, 'min_samples_leaf': 5, 'max_bins': 14}. Best is trial 19 with value: 0.6354074419927452.\n",
      "[I 2024-11-19 16:11:50,139] Trial 20 finished with value: 0.6246098455384538 and parameters: {'max_iter': 405, 'learning_rate': 0.010919023806220916, 'max_depth': 13, 'min_samples_leaf': 4, 'max_bins': 17}. Best is trial 19 with value: 0.6354074419927452.\n",
      "[I 2024-11-19 16:13:18,358] Trial 21 finished with value: 0.6312309346739905 and parameters: {'max_iter': 273, 'learning_rate': 0.0321868139770447, 'max_depth': 15, 'min_samples_leaf': 5, 'max_bins': 12}. Best is trial 19 with value: 0.6354074419927452.\n",
      "[I 2024-11-19 16:14:25,683] Trial 22 finished with value: 0.6323762826356731 and parameters: {'max_iter': 310, 'learning_rate': 0.04735097900617447, 'max_depth': 14, 'min_samples_leaf': 5, 'max_bins': 14}. Best is trial 19 with value: 0.6354074419927452.\n",
      "[I 2024-11-19 16:15:50,658] Trial 23 finished with value: 0.6421402727259398 and parameters: {'max_iter': 149, 'learning_rate': 0.011032974006294428, 'max_depth': 11, 'min_samples_leaf': 5, 'max_bins': 8}. Best is trial 23 with value: 0.6421402727259398.\n",
      "[I 2024-11-19 16:17:54,900] Trial 24 finished with value: 0.6306861424391157 and parameters: {'max_iter': 218, 'learning_rate': 0.011961585504640927, 'max_depth': 11, 'min_samples_leaf': 4, 'max_bins': 24}. Best is trial 23 with value: 0.6421402727259398.\n",
      "[I 2024-11-19 16:20:19,917] Trial 25 finished with value: 0.6325299344049526 and parameters: {'max_iter': 425, 'learning_rate': 0.016934964850393308, 'max_depth': 9, 'min_samples_leaf': 5, 'max_bins': 16}. Best is trial 23 with value: 0.6421402727259398.\n",
      "[I 2024-11-19 16:21:31,944] Trial 26 finished with value: 0.6337032797113944 and parameters: {'max_iter': 151, 'learning_rate': 0.03096595826724162, 'max_depth': 11, 'min_samples_leaf': 4, 'max_bins': 8}. Best is trial 23 with value: 0.6421402727259398.\n",
      "[I 2024-11-19 16:23:36,920] Trial 27 finished with value: 0.6268447896760933 and parameters: {'max_iter': 333, 'learning_rate': 0.022263254790307205, 'max_depth': 12, 'min_samples_leaf': 5, 'max_bins': 20}. Best is trial 23 with value: 0.6421402727259398.\n",
      "[I 2024-11-19 16:24:57,740] Trial 28 finished with value: 0.6308537363007748 and parameters: {'max_iter': 153, 'learning_rate': 0.01794185934178888, 'max_depth': 8, 'min_samples_leaf': 5, 'max_bins': 38}. Best is trial 23 with value: 0.6421402727259398.\n",
      "[I 2024-11-19 16:29:15,556] Trial 29 finished with value: 0.6292334031423225 and parameters: {'max_iter': 500, 'learning_rate': 0.011186768919895985, 'max_depth': 10, 'min_samples_leaf': 4, 'max_bins': 30}. Best is trial 23 with value: 0.6421402727259398.\n",
      "[I 2024-11-19 16:31:07,823] Trial 30 finished with value: 0.6313985714584084 and parameters: {'max_iter': 273, 'learning_rate': 0.02452800431862248, 'max_depth': 12, 'min_samples_leaf': 1, 'max_bins': 12}. Best is trial 23 with value: 0.6421402727259398.\n",
      "[I 2024-11-19 16:32:23,633] Trial 31 finished with value: 0.6308677018055683 and parameters: {'max_iter': 164, 'learning_rate': 0.033868134340071986, 'max_depth': 11, 'min_samples_leaf': 5, 'max_bins': 8}. Best is trial 23 with value: 0.6421402727259398.\n",
      "[I 2024-11-19 16:33:50,713] Trial 32 finished with value: 0.6364550831232874 and parameters: {'max_iter': 133, 'learning_rate': 0.026759253854292953, 'max_depth': 11, 'min_samples_leaf': 4, 'max_bins': 8}. Best is trial 23 with value: 0.6421402727259398.\n",
      "[I 2024-11-19 16:35:20,765] Trial 33 finished with value: 0.6371115886658203 and parameters: {'max_iter': 132, 'learning_rate': 0.02629781038548527, 'max_depth': 14, 'min_samples_leaf': 5, 'max_bins': 15}. Best is trial 23 with value: 0.6421402727259398.\n",
      "[I 2024-11-19 16:37:14,639] Trial 34 finished with value: 0.6312029665947486 and parameters: {'max_iter': 205, 'learning_rate': 0.028006162676070635, 'max_depth': 14, 'min_samples_leaf': 4, 'max_bins': 16}. Best is trial 23 with value: 0.6421402727259398.\n",
      "[I 2024-11-19 16:38:55,986] Trial 35 finished with value: 0.6331305798793462 and parameters: {'max_iter': 137, 'learning_rate': 0.016955773176673343, 'max_depth': 14, 'min_samples_leaf': 5, 'max_bins': 22}. Best is trial 23 with value: 0.6421402727259398.\n",
      "[I 2024-11-19 16:39:54,366] Trial 36 finished with value: 0.6319292840529729 and parameters: {'max_iter': 381, 'learning_rate': 0.05909861300142962, 'max_depth': 13, 'min_samples_leaf': 5, 'max_bins': 14}. Best is trial 23 with value: 0.6421402727259398.\n",
      "[I 2024-11-19 16:40:37,920] Trial 37 finished with value: 0.6153348012721642 and parameters: {'max_iter': 238, 'learning_rate': 0.07158411168372464, 'max_depth': 12, 'min_samples_leaf': 4, 'max_bins': 27}. Best is trial 23 with value: 0.6421402727259398.\n",
      "[I 2024-11-19 16:41:50,291] Trial 38 finished with value: 0.6198326615287539 and parameters: {'max_iter': 140, 'learning_rate': 0.02492902163336206, 'max_depth': 14, 'min_samples_leaf': 3, 'max_bins': 18}. Best is trial 23 with value: 0.6421402727259398.\n",
      "[I 2024-11-19 16:43:19,617] Trial 39 finished with value: 0.6379357729400121 and parameters: {'max_iter': 170, 'learning_rate': 0.0148120633277672, 'max_depth': 11, 'min_samples_leaf': 3, 'max_bins': 12}. Best is trial 23 with value: 0.6421402727259398.\n",
      "[I 2024-11-19 16:45:20,285] Trial 40 finished with value: 0.6349744411069074 and parameters: {'max_iter': 170, 'learning_rate': 0.0207695269605453, 'max_depth': 10, 'min_samples_leaf': 3, 'max_bins': 11}. Best is trial 23 with value: 0.6421402727259398.\n",
      "[I 2024-11-19 16:46:46,468] Trial 41 finished with value: 0.6418329682118634 and parameters: {'max_iter': 128, 'learning_rate': 0.010633759637026698, 'max_depth': 11, 'min_samples_leaf': 2, 'max_bins': 15}. Best is trial 23 with value: 0.6421402727259398.\n",
      "[I 2024-11-19 16:48:06,437] Trial 42 finished with value: 0.633396007389387 and parameters: {'max_iter': 130, 'learning_rate': 0.01589522278273133, 'max_depth': 11, 'min_samples_leaf': 2, 'max_bins': 20}. Best is trial 23 with value: 0.6421402727259398.\n",
      "[I 2024-11-19 16:49:54,353] Trial 43 finished with value: 0.6314683414268585 and parameters: {'max_iter': 189, 'learning_rate': 0.027948952208897582, 'max_depth': 10, 'min_samples_leaf': 2, 'max_bins': 11}. Best is trial 23 with value: 0.6421402727259398.\n",
      "[I 2024-11-19 16:51:07,817] Trial 44 finished with value: 0.5860569828299503 and parameters: {'max_iter': 122, 'learning_rate': 0.015103576742817523, 'max_depth': 12, 'min_samples_leaf': 1, 'max_bins': 51}. Best is trial 23 with value: 0.6421402727259398.\n",
      "[I 2024-11-19 16:53:03,796] Trial 45 finished with value: 0.6376703473810059 and parameters: {'max_iter': 215, 'learning_rate': 0.010529082463605809, 'max_depth': 11, 'min_samples_leaf': 2, 'max_bins': 15}. Best is trial 23 with value: 0.6421402727259398.\n",
      "[I 2024-11-19 16:55:19,750] Trial 46 finished with value: 0.6224028528962633 and parameters: {'max_iter': 210, 'learning_rate': 0.010516579979894695, 'max_depth': 9, 'min_samples_leaf': 2, 'max_bins': 18}. Best is trial 23 with value: 0.6421402727259398.\n",
      "[I 2024-11-19 16:57:15,017] Trial 47 finished with value: 0.6365109470934956 and parameters: {'max_iter': 189, 'learning_rate': 0.01982304738225805, 'max_depth': 8, 'min_samples_leaf': 3, 'max_bins': 15}. Best is trial 23 with value: 0.6421402727259398.\n",
      "[I 2024-11-19 16:59:15,458] Trial 48 finished with value: 0.6314963026774796 and parameters: {'max_iter': 225, 'learning_rate': 0.014485401625167392, 'max_depth': 12, 'min_samples_leaf': 2, 'max_bins': 32}. Best is trial 23 with value: 0.6421402727259398.\n",
      "[I 2024-11-19 17:01:05,729] Trial 49 finished with value: 0.6313146838044755 and parameters: {'max_iter': 158, 'learning_rate': 0.021146288181669824, 'max_depth': 11, 'min_samples_leaf': 2, 'max_bins': 22}. Best is trial 23 with value: 0.6421402727259398.\n"
     ]
    }
   ],
   "source": [
    "# Ready to optimize\n",
    "study.optimize(objective, n_trials=50)"
   ]
  },
  {
   "cell_type": "code",
   "execution_count": 24,
   "metadata": {},
   "outputs": [
    {
     "name": "stdout",
     "output_type": "stream",
     "text": [
      "Mejores hiperparámetros: {'max_iter': 149, 'learning_rate': 0.011032974006294428, 'max_depth': 11, 'min_samples_leaf': 5, 'max_bins': 8}\n",
      "Mejor valor de la función objetivo (precisión): 0.6421402727259398\n"
     ]
    }
   ],
   "source": [
    "# Imprimir los mejores resultados\n",
    "print(\"Mejores hiperparámetros:\", study.best_params)\n",
    "print(\"Mejor valor de la función objetivo (precisión):\", study.best_value)"
   ]
  },
  {
   "cell_type": "markdown",
   "metadata": {},
   "source": [
    "## Bagging - Adaboost"
   ]
  },
  {
   "cell_type": "code",
   "execution_count": 25,
   "metadata": {},
   "outputs": [],
   "source": [
    "base_estimator = DecisionTreeClassifier(max_depth = 10)"
   ]
  },
  {
   "cell_type": "code",
   "execution_count": 26,
   "metadata": {},
   "outputs": [],
   "source": [
    "adaboost = AdaBoostClassifier(base_estimator=base_estimator, n_estimators=100, random_state=42)"
   ]
  },
  {
   "cell_type": "code",
   "execution_count": 27,
   "metadata": {},
   "outputs": [],
   "source": [
    "bagging_adaboost = BaggingClassifier(\n",
    "    base_estimator = adaboost,\n",
    "    n_estimators = 20,\n",
    "    random_state = 42,\n",
    "    n_jobs = 4\n",
    ")"
   ]
  },
  {
   "cell_type": "code",
   "execution_count": 28,
   "metadata": {},
   "outputs": [
    {
     "data": {
      "text/plain": [
       "BaggingClassifier(base_estimator=AdaBoostClassifier(base_estimator=DecisionTreeClassifier(max_depth=10),\n",
       "                                                    n_estimators=100,\n",
       "                                                    random_state=42),\n",
       "                  n_estimators=20, n_jobs=4, random_state=42)"
      ]
     },
     "execution_count": 28,
     "metadata": {},
     "output_type": "execute_result"
    }
   ],
   "source": [
    "bagging_adaboost.fit(X_train, y_train)"
   ]
  },
  {
   "cell_type": "code",
   "execution_count": 29,
   "metadata": {},
   "outputs": [],
   "source": [
    "# Predicción\n",
    "y_pred = bagging_adaboost.predict(X_test)"
   ]
  },
  {
   "cell_type": "code",
   "execution_count": 30,
   "metadata": {},
   "outputs": [
    {
     "name": "stdout",
     "output_type": "stream",
     "text": [
      "Accuracy: 0.6364271247992178\n"
     ]
    }
   ],
   "source": [
    "# Calcular precisión\n",
    "accuracy = accuracy_score(y_test, y_pred)\n",
    "print(\"Accuracy:\", accuracy)"
   ]
  },
  {
   "cell_type": "code",
   "execution_count": 31,
   "metadata": {},
   "outputs": [
    {
     "data": {
      "text/plain": [
       "['./models/bagging_adaboost.joblib']"
      ]
     },
     "execution_count": 31,
     "metadata": {},
     "output_type": "execute_result"
    }
   ],
   "source": [
    "joblib.dump(bagging_adaboost, './models/bagging_adaboost.joblib')"
   ]
  },
  {
   "cell_type": "markdown",
   "metadata": {},
   "source": [
    "## PSO"
   ]
  },
  {
   "cell_type": "markdown",
   "metadata": {},
   "source": [
    "### Random Forest"
   ]
  },
  {
   "cell_type": "code",
   "execution_count": 32,
   "metadata": {},
   "outputs": [],
   "source": [
    "def objective_function(hyperparameters):\n",
    "    n_estimators, max_depth = int(hyperparameters[0]), int(hyperparameters[1])\n",
    "    \n",
    "    model = RandomForestClassifier(\n",
    "        n_estimators = n_estimators, \n",
    "        max_depth = max_depth, \n",
    "        random_state = 42\n",
    "    )\n",
    "\n",
    "    model.fit(X_train, y_train)\n",
    "    y_pred = model.predict(X_test)\n",
    "    accuracy = accuracy_score(y_test, y_pred)\n",
    "    return -accuracy  # Minimize function value (negative accuracy)\n"
   ]
  },
  {
   "cell_type": "code",
   "execution_count": 33,
   "metadata": {},
   "outputs": [],
   "source": [
    "# Parameters to optimize\n",
    "bounds = [(10, 200), (1, 20)]  # Example of parameter bounds\n",
    "dim = 2  # Quantity of parameters"
   ]
  },
  {
   "cell_type": "code",
   "execution_count": 34,
   "metadata": {},
   "outputs": [
    {
     "name": "stdout",
     "output_type": "stream",
     "text": [
      "Iteración 1/10, Mejor precisión: 0.6570989594245408\n",
      "Iteración 2/10, Mejor precisión: 0.6571687967036804\n",
      "Iteración 3/10, Mejor precisión: 0.6571687967036804\n",
      "Iteración 4/10, Mejor precisión: 0.6571687967036804\n",
      "Iteración 5/10, Mejor precisión: 0.6594035896361478\n",
      "Iteración 6/10, Mejor precisión: 0.6594035896361478\n",
      "Iteración 7/10, Mejor precisión: 0.6594035896361478\n",
      "Iteración 8/10, Mejor precisión: 0.6596829387527062\n",
      "Iteración 9/10, Mejor precisión: 0.659892450590125\n",
      "Iteración 10/10, Mejor precisión: 0.6608701724980794\n",
      "Mejores hiperparámetros: [78.65873191 14.66472286]\n",
      "Mejor precisión obtenida: 0.6608701724980794\n"
     ]
    }
   ],
   "source": [
    "best_hyperparameters, best_score = particle_swarm_optimization(objective_function, bounds, dim)\n",
    "print(\"Mejores hiperparámetros:\", best_hyperparameters)\n",
    "print(\"Mejor precisión obtenida:\", best_score)"
   ]
  },
  {
   "cell_type": "code",
   "execution_count": 35,
   "metadata": {},
   "outputs": [],
   "source": [
    "# Train the model with the best hyperparameters\n",
    "best_n_estimators, best_max_depth = int(best_hyperparameters[0]), int(best_hyperparameters[1])\n",
    "\n",
    "best_model = RandomForestClassifier(\n",
    "    n_estimators=best_n_estimators, \n",
    "    max_depth=best_max_depth, \n",
    "    random_state=42\n",
    ")"
   ]
  },
  {
   "cell_type": "code",
   "execution_count": 36,
   "metadata": {},
   "outputs": [
    {
     "data": {
      "text/plain": [
       "RandomForestClassifier(max_depth=14, n_estimators=78, random_state=42)"
      ]
     },
     "execution_count": 36,
     "metadata": {},
     "output_type": "execute_result"
    }
   ],
   "source": [
    "best_model.fit(X_train, y_train)"
   ]
  },
  {
   "cell_type": "code",
   "execution_count": 37,
   "metadata": {},
   "outputs": [
    {
     "data": {
      "text/plain": [
       "['./models/random_forest_pso.joblib']"
      ]
     },
     "execution_count": 37,
     "metadata": {},
     "output_type": "execute_result"
    }
   ],
   "source": [
    "# Guardar el modelo entrenado\n",
    "joblib.dump(best_model, './models/random_forest_pso.joblib')"
   ]
  },
  {
   "cell_type": "markdown",
   "metadata": {},
   "source": [
    "### HistGradientBoosting"
   ]
  },
  {
   "cell_type": "code",
   "execution_count": 38,
   "metadata": {},
   "outputs": [],
   "source": [
    "def objective_function(hyperparameters):\n",
    "    max_iter = int(hyperparameters[0])\n",
    "    max_depth = int(hyperparameters[1])\n",
    "    learning_rate = hyperparameters[2]\n",
    "    min_samples_leaf = int(hyperparameters[3])\n",
    "    max_bins = int(hyperparameters[4])\n",
    "    \n",
    "    model = HistGradientBoostingClassifier(\n",
    "        max_iter=max_iter,\n",
    "        learning_rate=learning_rate,\n",
    "        max_depth=max_depth,\n",
    "        min_samples_leaf=min_samples_leaf,\n",
    "        max_bins=max_bins,\n",
    "        random_state=42\n",
    "    )\n",
    "\n",
    "    model.fit(X_train, y_train)\n",
    "    y_pred = model.predict(X_test)\n",
    "    accuracy = accuracy_score(y_test, y_pred)\n",
    "    return -accuracy  # Minimize the function value (negative accuracy)"
   ]
  },
  {
   "cell_type": "code",
   "execution_count": 39,
   "metadata": {},
   "outputs": [],
   "source": [
    "# Parámetros para PSO\n",
    "bounds = [(100, 200), (3, 15), (0.01, 0.1), (1, 5), (8, 64)] \n",
    "dim = 5 "
   ]
  },
  {
   "cell_type": "code",
   "execution_count": 40,
   "metadata": {},
   "outputs": [
    {
     "name": "stdout",
     "output_type": "stream",
     "text": [
      "Iteración 1/10, Mejor precisión: 0.3299811439346323\n",
      "Iteración 2/10, Mejor precisión: 0.6598226133109854\n",
      "Iteración 3/10, Mejor precisión: 0.6640128500593617\n",
      "Iteración 4/10, Mejor precisión: 0.6645017110133389\n",
      "Iteración 5/10, Mejor precisión: 0.6645017110133389\n",
      "Iteración 6/10, Mejor precisión: 0.6645017110133389\n",
      "Iteración 7/10, Mejor precisión: 0.6645017110133389\n",
      "Iteración 8/10, Mejor precisión: 0.6645715482924786\n",
      "Iteración 9/10, Mejor precisión: 0.6645715482924786\n",
      "Iteración 10/10, Mejor precisión: 0.6645715482924786\n",
      "Mejores hiperparámetros: [1.70963685e+02 4.86906876e+00 1.00000000e-01 3.03569600e+00\n",
      " 6.40000000e+01]\n",
      "Mejor precisión obtenida: 0.6645715482924786\n"
     ]
    }
   ],
   "source": [
    "best_hyperparameters, best_score = particle_swarm_optimization(objective_function, bounds, dim)\n",
    "print(\"Mejores hiperparámetros:\", best_hyperparameters)\n",
    "print(\"Mejor precisión obtenida:\", best_score)"
   ]
  },
  {
   "cell_type": "code",
   "execution_count": 48,
   "metadata": {},
   "outputs": [],
   "source": [
    "max_depth, max_iter, learning_rate, min_samples_leaf, max_bins = best_hyperparameters"
   ]
  },
  {
   "cell_type": "code",
   "execution_count": 51,
   "metadata": {},
   "outputs": [],
   "source": [
    "hist_gradient_boosting_pso = HistGradientBoostingClassifier(\n",
    "    max_iter= int(max_iter),\n",
    "    learning_rate= learning_rate,\n",
    "    max_depth= int(max_depth),\n",
    "    min_samples_leaf = int(min_samples_leaf),\n",
    "    max_bins= int(max_bins),\n",
    "    random_state=42\n",
    ")"
   ]
  },
  {
   "cell_type": "code",
   "execution_count": 52,
   "metadata": {},
   "outputs": [
    {
     "data": {
      "text/plain": [
       "HistGradientBoostingClassifier(max_bins=64, max_depth=170, max_iter=4,\n",
       "                               min_samples_leaf=3, random_state=42)"
      ]
     },
     "execution_count": 52,
     "metadata": {},
     "output_type": "execute_result"
    }
   ],
   "source": [
    "hist_gradient_boosting_pso.fit(X_train, y_train)"
   ]
  },
  {
   "cell_type": "code",
   "execution_count": 55,
   "metadata": {},
   "outputs": [
    {
     "data": {
      "text/plain": [
       "['./models/hist_gradient_boosting_pso.joblib']"
      ]
     },
     "execution_count": 55,
     "metadata": {},
     "output_type": "execute_result"
    }
   ],
   "source": [
    "joblib.dump(hist_gradient_boosting_pso, './models/hist_gradient_boosting_pso.joblib')"
   ]
  },
  {
   "cell_type": "markdown",
   "metadata": {},
   "source": [
    "# Zip Models"
   ]
  },
  {
   "cell_type": "code",
   "execution_count": 41,
   "metadata": {},
   "outputs": [],
   "source": [
    "import zipfile"
   ]
  },
  {
   "cell_type": "code",
   "execution_count": 56,
   "metadata": {},
   "outputs": [],
   "source": [
    "with zipfile.ZipFile('./models/models.zip', 'w') as zipf:\n",
    "    zipf.write('./models/random_forest_pso.joblib')\n",
    "    zipf.write('./models/bayes_search_hist_gradient_boosting.joblib')\n",
    "    zipf.write('./models/hist_gradient_boosting_pso.joblib')\n",
    "    zipf.write('./models/label_encoder.joblib')\n",
    "    zipf.write('./models/pca_model.joblib')"
   ]
  }
 ],
 "metadata": {
  "kernelspec": {
   "display_name": "TFlow",
   "language": "python",
   "name": "python3"
  },
  "language_info": {
   "codemirror_mode": {
    "name": "ipython",
    "version": 3
   },
   "file_extension": ".py",
   "mimetype": "text/x-python",
   "name": "python",
   "nbconvert_exporter": "python",
   "pygments_lexer": "ipython3",
   "version": "3.7.12"
  }
 },
 "nbformat": 4,
 "nbformat_minor": 2
}
