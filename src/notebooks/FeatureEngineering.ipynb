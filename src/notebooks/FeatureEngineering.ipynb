{
 "cells": [
  {
   "cell_type": "markdown",
   "metadata": {},
   "source": [
    "# Import Libraries"
   ]
  },
  {
   "cell_type": "code",
   "execution_count": 60,
   "metadata": {},
   "outputs": [],
   "source": [
    "import pandas as pd\n",
    "import numpy as np\n",
    "\n",
    "# Visualization\n",
    "import matplotlib.pyplot as plt\n",
    "import seaborn as sns\n",
    "import plotly.express as px\n",
    "import plotly.graph_objs as go\n",
    "from plotly.subplots import make_subplots\n",
    "from plotly.offline import iplot\n",
    "from termcolor import colored\n",
    "from statsmodels.graphics.tsaplots import plot_acf\n",
    "\n",
    "# Preprocessing\n",
    "from sklearn.preprocessing import MinMaxScaler, RobustScaler\n",
    "from sklearn.preprocessing import LabelEncoder\n",
    "from sklearn.pipeline import Pipeline, make_pipeline\n",
    "from sklearn.compose import ColumnTransformer, make_column_selector, make_column_transformer\n",
    "from category_encoders import OrdinalEncoder\n",
    "from sklearn.feature_selection import mutual_info_classif\n",
    "from sklearn.decomposition import PCA\n",
    "\n",
    "# Color pallet and theme\n",
    "import matplotlib.colors"
   ]
  },
  {
   "cell_type": "markdown",
   "metadata": {},
   "source": [
    "# Configuration"
   ]
  },
  {
   "cell_type": "code",
   "execution_count": 61,
   "metadata": {},
   "outputs": [
    {
     "data": {
      "image/png": "[encoded data removed]",
      "text/plain": [
       "<Figure size 500x100 with 1 Axes>"
      ]
     },
     "metadata": {},
     "output_type": "display_data"
    },
    {
     "data": {
      "image/png": "[encoded data removed]",
      "text/plain": [
       "<Figure size 500x100 with 1 Axes>"
      ]
     },
     "metadata": {},
     "output_type": "display_data"
    },
    {
     "data": {
      "image/png": "[encoded data removed]",
      "text/plain": [
       "<Figure size 500x100 with 1 Axes>"
      ]
     },
     "metadata": {},
     "output_type": "display_data"
    },
    {
     "data": {
      "image/png": "[encoded data removed]",
      "text/plain": [
       "<Figure size 400x100 with 1 Axes>"
      ]
     },
     "metadata": {},
     "output_type": "display_data"
    }
   ],
   "source": [
    "# Colors 1\n",
    "colors = [\"#283149\", \"#404B69\", \"#DBEDF3\", \"#DBDBDB\", \"#FFFFFF\"]\n",
    "colorsInv = [\"#FFFFFF\", \"#DBDBDB\", \"#DBEDF3\", \"#404B69\", \"#283149\"]\n",
    "palette1 = sns.color_palette(colors)\n",
    "\n",
    "# Colors 2\n",
    "colors2 = [\"#1F2041\", \"#4B3F72\", \"#FFC857\", \"#FFEFAF\", \"#F3F4ED\"]\n",
    "colorsInv2 = [\"#F3F4ED\", \"#FFEFAF\", \"#FFC857\", \"#4B3F72\", \"#1F2041\"]\n",
    "palette2 = sns.color_palette(colors2)\n",
    "\n",
    "# Colors 3\n",
    "colors3 = [\"#424242\", \"#229799\", \"#48CFCB\", \"#A2DFF7\", \"#F5F5F5\"]  \n",
    "colorsInv3 = [\"#F5F5F5\", \"#A2DFF7\", \"#48CFCB\", \"#229799\", \"#424242\"]\n",
    "palette3 = sns.color_palette(colors3)\n",
    "\n",
    "# Colors 4\n",
    "colors4 = ['#404B69', '#5CDB95', '#F7DC6F', '#ED4C67']\n",
    "colorsInv4 = ['#ED4C67', '#F7DC6F', '#5CDB95', '#404B69']\n",
    "palette4 = sns.color_palette(colors4)\n",
    "\n",
    "cmap = matplotlib.colors.ListedColormap(colorsInv)\n",
    "cmap2 = matplotlib.colors.ListedColormap(colorsInv2)\n",
    "cmap3 = matplotlib.colors.ListedColormap(colorsInv3)\n",
    "\n",
    "sns.palplot(sns.color_palette(colors))\n",
    "\n",
    "sns.palplot(sns.color_palette(colors2))\n",
    "\n",
    "sns.palplot(sns.color_palette(colors3))\n",
    "\n",
    "sns.palplot(sns.color_palette(colors4))\n",
    "\n",
    "pd.set_option('display.max_columns', 40)"
   ]
  },
  {
   "cell_type": "markdown",
   "metadata": {},
   "source": [
    "# Load Dataset"
   ]
  },
  {
   "cell_type": "code",
   "execution_count": 62,
   "metadata": {},
   "outputs": [],
   "source": [
    "games = pd.read_csv('../data/games_clean.csv')"
   ]
  },
  {
   "cell_type": "code",
   "execution_count": 63,
   "metadata": {},
   "outputs": [],
   "source": [
    "games['Release date'] = pd.to_datetime(games['Release date'])"
   ]
  },
  {
   "cell_type": "code",
   "execution_count": 64,
   "metadata": {},
   "outputs": [],
   "source": [
    "games['Mac'] = games['Mac'].astype(int)"
   ]
  },
  {
   "cell_type": "code",
   "execution_count": 65,
   "metadata": {},
   "outputs": [],
   "source": [
    "games['Windows'] = games['Windows'].astype(int)"
   ]
  },
  {
   "cell_type": "code",
   "execution_count": 66,
   "metadata": {},
   "outputs": [],
   "source": [
    "games['Linux'] = games['Linux'].astype(int)"
   ]
  },
  {
   "cell_type": "code",
   "execution_count": 67,
   "metadata": {},
   "outputs": [
    {
     "data": {
      "text/plain": [
       "Index(['Release date', 'Estimated owners', 'Peak CCU', 'Price', 'DLC count',\n",
       "       'Supported languages', 'Windows', 'Mac', 'Linux', 'Metacritic score',\n",
       "       'User score', 'Positive', 'Negative', 'Achievements', 'Recommendations',\n",
       "       'Average playtime forever', 'Average playtime two weeks',\n",
       "       'Median playtime forever', 'Median playtime two weeks', 'Genres',\n",
       "       '+15'],\n",
       "      dtype='object')"
      ]
     },
     "execution_count": 67,
     "metadata": {},
     "output_type": "execute_result"
    }
   ],
   "source": [
    "games.columns"
   ]
  },
  {
   "cell_type": "code",
   "execution_count": 68,
   "metadata": {},
   "outputs": [
    {
     "data": {
      "text/html": [
       "<div>\n",
       "<style scoped>\n",
       "    .dataframe tbody tr th:only-of-type {\n",
       "        vertical-align: middle;\n",
       "    }\n",
       "\n",
       "    .dataframe tbody tr th {\n",
       "        vertical-align: top;\n",
       "    }\n",
       "\n",
       "    .dataframe thead th {\n",
       "        text-align: right;\n",
       "    }\n",
       "</style>\n",
       "<table border=\"1\" class=\"dataframe\">\n",
       "  <thead>\n",
       "    <tr style=\"text-align: right;\">\n",
       "      <th></th>\n",
       "      <th>Release date</th>\n",
       "      <th>Estimated owners</th>\n",
       "      <th>Peak CCU</th>\n",
       "      <th>Price</th>\n",
       "      <th>DLC count</th>\n",
       "      <th>Supported languages</th>\n",
       "      <th>Windows</th>\n",
       "      <th>Mac</th>\n",
       "      <th>Linux</th>\n",
       "      <th>Metacritic score</th>\n",
       "      <th>User score</th>\n",
       "      <th>Positive</th>\n",
       "      <th>Negative</th>\n",
       "      <th>Achievements</th>\n",
       "      <th>Recommendations</th>\n",
       "      <th>Average playtime forever</th>\n",
       "      <th>Average playtime two weeks</th>\n",
       "      <th>Median playtime forever</th>\n",
       "      <th>Median playtime two weeks</th>\n",
       "      <th>Genres</th>\n",
       "      <th>+15</th>\n",
       "    </tr>\n",
       "  </thead>\n",
       "  <tbody>\n",
       "    <tr>\n",
       "      <th>0</th>\n",
       "      <td>2021-02-26</td>\n",
       "      <td>&gt; 20000</td>\n",
       "      <td>68</td>\n",
       "      <td>0.00</td>\n",
       "      <td>0</td>\n",
       "      <td>['English']</td>\n",
       "      <td>1</td>\n",
       "      <td>0</td>\n",
       "      <td>0</td>\n",
       "      <td>0</td>\n",
       "      <td>0</td>\n",
       "      <td>87</td>\n",
       "      <td>49</td>\n",
       "      <td>0</td>\n",
       "      <td>0</td>\n",
       "      <td>0</td>\n",
       "      <td>0</td>\n",
       "      <td>0</td>\n",
       "      <td>0</td>\n",
       "      <td>Adventure,Casual,Free to Play,Massively Multip...</td>\n",
       "      <td>0</td>\n",
       "    </tr>\n",
       "    <tr>\n",
       "      <th>1</th>\n",
       "      <td>2014-11-11</td>\n",
       "      <td>&gt; 20000</td>\n",
       "      <td>0</td>\n",
       "      <td>3.99</td>\n",
       "      <td>0</td>\n",
       "      <td>['English', 'Polish', 'French', 'Italian', 'Ge...</td>\n",
       "      <td>1</td>\n",
       "      <td>1</td>\n",
       "      <td>1</td>\n",
       "      <td>0</td>\n",
       "      <td>0</td>\n",
       "      <td>225</td>\n",
       "      <td>45</td>\n",
       "      <td>32</td>\n",
       "      <td>0</td>\n",
       "      <td>703</td>\n",
       "      <td>0</td>\n",
       "      <td>782</td>\n",
       "      <td>0</td>\n",
       "      <td>Action,Adventure,Indie</td>\n",
       "      <td>0</td>\n",
       "    </tr>\n",
       "    <tr>\n",
       "      <th>2</th>\n",
       "      <td>2019-10-02</td>\n",
       "      <td>&gt; 20000</td>\n",
       "      <td>5</td>\n",
       "      <td>23.49</td>\n",
       "      <td>0</td>\n",
       "      <td>['English', 'French', 'German', 'Polish', 'Rus...</td>\n",
       "      <td>1</td>\n",
       "      <td>0</td>\n",
       "      <td>0</td>\n",
       "      <td>62</td>\n",
       "      <td>0</td>\n",
       "      <td>589</td>\n",
       "      <td>212</td>\n",
       "      <td>34</td>\n",
       "      <td>427</td>\n",
       "      <td>67</td>\n",
       "      <td>0</td>\n",
       "      <td>93</td>\n",
       "      <td>0</td>\n",
       "      <td>Indie,RPG</td>\n",
       "      <td>0</td>\n",
       "    </tr>\n",
       "    <tr>\n",
       "      <th>3</th>\n",
       "      <td>2016-07-01</td>\n",
       "      <td>&gt; 20000</td>\n",
       "      <td>0</td>\n",
       "      <td>0.00</td>\n",
       "      <td>1</td>\n",
       "      <td>['English']</td>\n",
       "      <td>1</td>\n",
       "      <td>1</td>\n",
       "      <td>0</td>\n",
       "      <td>0</td>\n",
       "      <td>0</td>\n",
       "      <td>147</td>\n",
       "      <td>58</td>\n",
       "      <td>0</td>\n",
       "      <td>0</td>\n",
       "      <td>224</td>\n",
       "      <td>0</td>\n",
       "      <td>257</td>\n",
       "      <td>0</td>\n",
       "      <td>Strategy</td>\n",
       "      <td>0</td>\n",
       "    </tr>\n",
       "    <tr>\n",
       "      <th>4</th>\n",
       "      <td>2018-04-06</td>\n",
       "      <td>&gt; 20000</td>\n",
       "      <td>0</td>\n",
       "      <td>2.99</td>\n",
       "      <td>0</td>\n",
       "      <td>['English']</td>\n",
       "      <td>1</td>\n",
       "      <td>1</td>\n",
       "      <td>1</td>\n",
       "      <td>0</td>\n",
       "      <td>0</td>\n",
       "      <td>36</td>\n",
       "      <td>11</td>\n",
       "      <td>19</td>\n",
       "      <td>0</td>\n",
       "      <td>11</td>\n",
       "      <td>0</td>\n",
       "      <td>11</td>\n",
       "      <td>0</td>\n",
       "      <td>Casual,Indie</td>\n",
       "      <td>0</td>\n",
       "    </tr>\n",
       "  </tbody>\n",
       "</table>\n",
       "</div>"
      ],
      "text/plain": [
       "  Release date Estimated owners  Peak CCU  Price  DLC count  \\\n",
       "0   2021-02-26          > 20000        68   0.00          0   \n",
       "1   2014-11-11          > 20000         0   3.99          0   \n",
       "2   2019-10-02          > 20000         5  23.49          0   \n",
       "3   2016-07-01          > 20000         0   0.00          1   \n",
       "4   2018-04-06          > 20000         0   2.99          0   \n",
       "\n",
       "                                 Supported languages  Windows  Mac  Linux  \\\n",
       "0                                        ['English']        1    0      0   \n",
       "1  ['English', 'Polish', 'French', 'Italian', 'Ge...        1    1      1   \n",
       "2  ['English', 'French', 'German', 'Polish', 'Rus...        1    0      0   \n",
       "3                                        ['English']        1    1      0   \n",
       "4                                        ['English']        1    1      1   \n",
       "\n",
       "   Metacritic score  User score  Positive  Negative  Achievements  \\\n",
       "0                 0           0        87        49             0   \n",
       "1                 0           0       225        45            32   \n",
       "2                62           0       589       212            34   \n",
       "3                 0           0       147        58             0   \n",
       "4                 0           0        36        11            19   \n",
       "\n",
       "   Recommendations  Average playtime forever  Average playtime two weeks  \\\n",
       "0                0                         0                           0   \n",
       "1                0                       703                           0   \n",
       "2              427                        67                           0   \n",
       "3                0                       224                           0   \n",
       "4                0                        11                           0   \n",
       "\n",
       "   Median playtime forever  Median playtime two weeks  \\\n",
       "0                        0                          0   \n",
       "1                      782                          0   \n",
       "2                       93                          0   \n",
       "3                      257                          0   \n",
       "4                       11                          0   \n",
       "\n",
       "                                              Genres  +15  \n",
       "0  Adventure,Casual,Free to Play,Massively Multip...    0  \n",
       "1                             Action,Adventure,Indie    0  \n",
       "2                                          Indie,RPG    0  \n",
       "3                                           Strategy    0  \n",
       "4                                       Casual,Indie    0  "
      ]
     },
     "execution_count": 68,
     "metadata": {},
     "output_type": "execute_result"
    }
   ],
   "source": [
    "games.head()"
   ]
  },
  {
   "cell_type": "markdown",
   "metadata": {},
   "source": [
    "# Feature Engineering"
   ]
  },
  {
   "cell_type": "markdown",
   "metadata": {},
   "source": [
    "## Functions"
   ]
  },
  {
   "cell_type": "code",
   "execution_count": 69,
   "metadata": {},
   "outputs": [],
   "source": [
    "def scores_class(features : pd.DataFrame, target : pd.Series, discrete_features : str):\n",
    "  score_classify = mutual_info_classif(features, target, discrete_features=discrete_features)\n",
    "  scores = pd.DataFrame({\n",
    "    'Feature': features.columns,\n",
    "    'MI Score (Classify)': score_classify\n",
    "  })\n",
    "  return scores.sort_values(by = 'MI Score (Classify)', ascending = False)\n",
    "\n",
    "def count_languages(word : str):\n",
    "  word.replace(\"'\", '')\n",
    "  word.replace(\"[\", '').replace(\"]\", '')\n",
    "  return len(word.split(','))"
   ]
  },
  {
   "cell_type": "markdown",
   "metadata": {},
   "source": [
    "## Encode - Feature Categorical"
   ]
  },
  {
   "cell_type": "code",
   "execution_count": 70,
   "metadata": {},
   "outputs": [
    {
     "name": "stdout",
     "output_type": "stream",
     "text": [
      "33\n"
     ]
    }
   ],
   "source": [
    "categories = []\n",
    "for i, row in games.iterrows():\n",
    "    if type(row['Genres'].split(',')) == list:\n",
    "        for cat in row['Genres'].split(','): categories.append(cat)\n",
    "\n",
    "print(len(set(categories)))"
   ]
  },
  {
   "cell_type": "code",
   "execution_count": 71,
   "metadata": {},
   "outputs": [
    {
     "data": {
      "text/html": [
       "<div>\n",
       "<style scoped>\n",
       "    .dataframe tbody tr th:only-of-type {\n",
       "        vertical-align: middle;\n",
       "    }\n",
       "\n",
       "    .dataframe tbody tr th {\n",
       "        vertical-align: top;\n",
       "    }\n",
       "\n",
       "    .dataframe thead th {\n",
       "        text-align: right;\n",
       "    }\n",
       "</style>\n",
       "<table border=\"1\" class=\"dataframe\">\n",
       "  <thead>\n",
       "    <tr style=\"text-align: right;\">\n",
       "      <th></th>\n",
       "      <th>Utilities</th>\n",
       "      <th>Audio Production</th>\n",
       "      <th>Photo Editing</th>\n",
       "      <th>Education</th>\n",
       "      <th>RPG</th>\n",
       "      <th>Early Access</th>\n",
       "      <th>Indie</th>\n",
       "      <th>Movie</th>\n",
       "      <th>Game Development</th>\n",
       "      <th>Massively Multiplayer</th>\n",
       "      <th>Tutorial</th>\n",
       "      <th>360 Video</th>\n",
       "      <th>Documentary</th>\n",
       "      <th>Sexual Content</th>\n",
       "      <th>Casual</th>\n",
       "      <th>Web Publishing</th>\n",
       "      <th>Nudity</th>\n",
       "      <th>Animation &amp; Modeling</th>\n",
       "      <th>Free to Play</th>\n",
       "      <th>Software Training</th>\n",
       "      <th>Strategy</th>\n",
       "      <th>Design &amp; Illustration</th>\n",
       "      <th>Violent</th>\n",
       "      <th>Racing</th>\n",
       "      <th>Sports</th>\n",
       "      <th>Video Production</th>\n",
       "      <th>Adventure</th>\n",
       "      <th>Accounting</th>\n",
       "      <th>Action</th>\n",
       "      <th>Short</th>\n",
       "      <th>Episodic</th>\n",
       "      <th>Simulation</th>\n",
       "      <th>Gore</th>\n",
       "    </tr>\n",
       "  </thead>\n",
       "  <tbody>\n",
       "    <tr>\n",
       "      <th>0</th>\n",
       "      <td>0</td>\n",
       "      <td>0</td>\n",
       "      <td>0</td>\n",
       "      <td>0</td>\n",
       "      <td>1</td>\n",
       "      <td>0</td>\n",
       "      <td>0</td>\n",
       "      <td>0</td>\n",
       "      <td>0</td>\n",
       "      <td>1</td>\n",
       "      <td>0</td>\n",
       "      <td>0</td>\n",
       "      <td>0</td>\n",
       "      <td>0</td>\n",
       "      <td>1</td>\n",
       "      <td>0</td>\n",
       "      <td>0</td>\n",
       "      <td>0</td>\n",
       "      <td>1</td>\n",
       "      <td>0</td>\n",
       "      <td>1</td>\n",
       "      <td>0</td>\n",
       "      <td>0</td>\n",
       "      <td>0</td>\n",
       "      <td>0</td>\n",
       "      <td>0</td>\n",
       "      <td>1</td>\n",
       "      <td>0</td>\n",
       "      <td>0</td>\n",
       "      <td>0</td>\n",
       "      <td>0</td>\n",
       "      <td>0</td>\n",
       "      <td>0</td>\n",
       "    </tr>\n",
       "    <tr>\n",
       "      <th>1</th>\n",
       "      <td>0</td>\n",
       "      <td>0</td>\n",
       "      <td>0</td>\n",
       "      <td>0</td>\n",
       "      <td>0</td>\n",
       "      <td>0</td>\n",
       "      <td>1</td>\n",
       "      <td>0</td>\n",
       "      <td>0</td>\n",
       "      <td>0</td>\n",
       "      <td>0</td>\n",
       "      <td>0</td>\n",
       "      <td>0</td>\n",
       "      <td>0</td>\n",
       "      <td>0</td>\n",
       "      <td>0</td>\n",
       "      <td>0</td>\n",
       "      <td>0</td>\n",
       "      <td>0</td>\n",
       "      <td>0</td>\n",
       "      <td>0</td>\n",
       "      <td>0</td>\n",
       "      <td>0</td>\n",
       "      <td>0</td>\n",
       "      <td>0</td>\n",
       "      <td>0</td>\n",
       "      <td>1</td>\n",
       "      <td>0</td>\n",
       "      <td>1</td>\n",
       "      <td>0</td>\n",
       "      <td>0</td>\n",
       "      <td>0</td>\n",
       "      <td>0</td>\n",
       "    </tr>\n",
       "    <tr>\n",
       "      <th>2</th>\n",
       "      <td>0</td>\n",
       "      <td>0</td>\n",
       "      <td>0</td>\n",
       "      <td>0</td>\n",
       "      <td>1</td>\n",
       "      <td>0</td>\n",
       "      <td>1</td>\n",
       "      <td>0</td>\n",
       "      <td>0</td>\n",
       "      <td>0</td>\n",
       "      <td>0</td>\n",
       "      <td>0</td>\n",
       "      <td>0</td>\n",
       "      <td>0</td>\n",
       "      <td>0</td>\n",
       "      <td>0</td>\n",
       "      <td>0</td>\n",
       "      <td>0</td>\n",
       "      <td>0</td>\n",
       "      <td>0</td>\n",
       "      <td>0</td>\n",
       "      <td>0</td>\n",
       "      <td>0</td>\n",
       "      <td>0</td>\n",
       "      <td>0</td>\n",
       "      <td>0</td>\n",
       "      <td>0</td>\n",
       "      <td>0</td>\n",
       "      <td>0</td>\n",
       "      <td>0</td>\n",
       "      <td>0</td>\n",
       "      <td>0</td>\n",
       "      <td>0</td>\n",
       "    </tr>\n",
       "    <tr>\n",
       "      <th>3</th>\n",
       "      <td>0</td>\n",
       "      <td>0</td>\n",
       "      <td>0</td>\n",
       "      <td>0</td>\n",
       "      <td>0</td>\n",
       "      <td>0</td>\n",
       "      <td>0</td>\n",
       "      <td>0</td>\n",
       "      <td>0</td>\n",
       "      <td>0</td>\n",
       "      <td>0</td>\n",
       "      <td>0</td>\n",
       "      <td>0</td>\n",
       "      <td>0</td>\n",
       "      <td>0</td>\n",
       "      <td>0</td>\n",
       "      <td>0</td>\n",
       "      <td>0</td>\n",
       "      <td>0</td>\n",
       "      <td>0</td>\n",
       "      <td>1</td>\n",
       "      <td>0</td>\n",
       "      <td>0</td>\n",
       "      <td>0</td>\n",
       "      <td>0</td>\n",
       "      <td>0</td>\n",
       "      <td>0</td>\n",
       "      <td>0</td>\n",
       "      <td>0</td>\n",
       "      <td>0</td>\n",
       "      <td>0</td>\n",
       "      <td>0</td>\n",
       "      <td>0</td>\n",
       "    </tr>\n",
       "    <tr>\n",
       "      <th>4</th>\n",
       "      <td>0</td>\n",
       "      <td>0</td>\n",
       "      <td>0</td>\n",
       "      <td>0</td>\n",
       "      <td>0</td>\n",
       "      <td>0</td>\n",
       "      <td>1</td>\n",
       "      <td>0</td>\n",
       "      <td>0</td>\n",
       "      <td>0</td>\n",
       "      <td>0</td>\n",
       "      <td>0</td>\n",
       "      <td>0</td>\n",
       "      <td>0</td>\n",
       "      <td>1</td>\n",
       "      <td>0</td>\n",
       "      <td>0</td>\n",
       "      <td>0</td>\n",
       "      <td>0</td>\n",
       "      <td>0</td>\n",
       "      <td>0</td>\n",
       "      <td>0</td>\n",
       "      <td>0</td>\n",
       "      <td>0</td>\n",
       "      <td>0</td>\n",
       "      <td>0</td>\n",
       "      <td>0</td>\n",
       "      <td>0</td>\n",
       "      <td>0</td>\n",
       "      <td>0</td>\n",
       "      <td>0</td>\n",
       "      <td>0</td>\n",
       "      <td>0</td>\n",
       "    </tr>\n",
       "  </tbody>\n",
       "</table>\n",
       "</div>"
      ],
      "text/plain": [
       "   Utilities  Audio Production  Photo Editing  Education  RPG  Early Access  \\\n",
       "0          0                 0              0          0    1             0   \n",
       "1          0                 0              0          0    0             0   \n",
       "2          0                 0              0          0    1             0   \n",
       "3          0                 0              0          0    0             0   \n",
       "4          0                 0              0          0    0             0   \n",
       "\n",
       "   Indie  Movie  Game Development  Massively Multiplayer  Tutorial  360 Video  \\\n",
       "0      0      0                 0                      1         0          0   \n",
       "1      1      0                 0                      0         0          0   \n",
       "2      1      0                 0                      0         0          0   \n",
       "3      0      0                 0                      0         0          0   \n",
       "4      1      0                 0                      0         0          0   \n",
       "\n",
       "   Documentary  Sexual Content  Casual  Web Publishing  Nudity  \\\n",
       "0            0               0       1               0       0   \n",
       "1            0               0       0               0       0   \n",
       "2            0               0       0               0       0   \n",
       "3            0               0       0               0       0   \n",
       "4            0               0       1               0       0   \n",
       "\n",
       "   Animation & Modeling  Free to Play  Software Training  Strategy  \\\n",
       "0                     0             1                  0         1   \n",
       "1                     0             0                  0         0   \n",
       "2                     0             0                  0         0   \n",
       "3                     0             0                  0         1   \n",
       "4                     0             0                  0         0   \n",
       "\n",
       "   Design & Illustration  Violent  Racing  Sports  Video Production  \\\n",
       "0                      0        0       0       0                 0   \n",
       "1                      0        0       0       0                 0   \n",
       "2                      0        0       0       0                 0   \n",
       "3                      0        0       0       0                 0   \n",
       "4                      0        0       0       0                 0   \n",
       "\n",
       "   Adventure  Accounting  Action  Short  Episodic  Simulation  Gore  \n",
       "0          1           0       0      0         0           0     0  \n",
       "1          1           0       1      0         0           0     0  \n",
       "2          0           0       0      0         0           0     0  \n",
       "3          0           0       0      0         0           0     0  \n",
       "4          0           0       0      0         0           0     0  "
      ]
     },
     "execution_count": 71,
     "metadata": {},
     "output_type": "execute_result"
    }
   ],
   "source": [
    "one_hot_encode = pd.DataFrame()\n",
    "\n",
    "for category in set(categories):\n",
    "    cat = []\n",
    "    for _, row in games.iterrows():\n",
    "        cat.append(np.int64(category in row['Genres'].split(',')))\n",
    "    one_hot_encode[category] = cat\n",
    "\n",
    "one_hot_encode.head()"
   ]
  },
  {
   "cell_type": "code",
   "execution_count": 72,
   "metadata": {},
   "outputs": [],
   "source": [
    "games = pd.concat((games, one_hot_encode), axis = 1)"
   ]
  },
  {
   "cell_type": "code",
   "execution_count": 73,
   "metadata": {},
   "outputs": [],
   "source": [
    "games = games.drop(columns= ['Genres'])"
   ]
  },
  {
   "cell_type": "code",
   "execution_count": 74,
   "metadata": {},
   "outputs": [],
   "source": [
    "label_encoder = LabelEncoder()\n",
    "games['Estimated owners'] = label_encoder.fit_transform(games['Estimated owners'])"
   ]
  },
  {
   "cell_type": "markdown",
   "metadata": {},
   "source": [
    "## New Features"
   ]
  },
  {
   "cell_type": "code",
   "execution_count": 75,
   "metadata": {},
   "outputs": [],
   "source": [
    "# Count the number of operating systems the game is available on\n",
    "games['Platform_count'] = games[['Windows', 'Mac', 'Linux']].sum(axis = 1)"
   ]
  },
  {
   "cell_type": "code",
   "execution_count": 76,
   "metadata": {},
   "outputs": [],
   "source": [
    "# Number of achievements per hour of playtime\n",
    "games['Achievements_per_hour'] = games.apply(\n",
    "    lambda x : \n",
    "        x['Achievements'] \n",
    "        if x['Average playtime forever'] == 0 \n",
    "        else x['Achievements'] / x['Average playtime forever'],\n",
    "    axis = 1\n",
    ")"
   ]
  },
  {
   "cell_type": "code",
   "execution_count": 77,
   "metadata": {},
   "outputs": [],
   "source": [
    "# Amount of genres the game is available in\n",
    "games['Genre_count'] = games[list(set(categories))].sum(axis = 1)"
   ]
  },
  {
   "cell_type": "code",
   "execution_count": 78,
   "metadata": {},
   "outputs": [],
   "source": [
    "# Ratio of recent playtime to total playtime\n",
    "games['Recent_playtime_ratio'] = games.apply(\n",
    "    lambda x : \n",
    "        x['Average playtime two weeks'] \n",
    "        if x['Average playtime forever'] == 0 \n",
    "        else x['Average playtime two weeks'] / x['Average playtime forever'],\n",
    "    axis = 1\n",
    ")"
   ]
  },
  {
   "cell_type": "code",
   "execution_count": 79,
   "metadata": {},
   "outputs": [],
   "source": [
    "# Count the number of languages the game is available in\n",
    "games['Language_count'] = games['Supported languages'].apply(count_languages)"
   ]
  },
  {
   "cell_type": "code",
   "execution_count": 80,
   "metadata": {},
   "outputs": [],
   "source": [
    "# Ratio of quantity of operating systems the game is available on\n",
    "games['OS_ratio'] = (games[['Windows', 'Mac', 'Linux']].sum(axis = 1) / 3).astype(float)"
   ]
  },
  {
   "cell_type": "code",
   "execution_count": 81,
   "metadata": {},
   "outputs": [],
   "source": [
    "# Antiquity of the game\n",
    "games['Antiquity'] = (pd.to_datetime('today') - games['Release date']).dt.days"
   ]
  },
  {
   "cell_type": "code",
   "execution_count": 82,
   "metadata": {},
   "outputs": [],
   "source": [
    "# Recommendations user based on the genre\n",
    "games['Recommendation_per_genre'] = games['Recommendations'] / games['Genre_count']"
   ]
  },
  {
   "cell_type": "code",
   "execution_count": 83,
   "metadata": {},
   "outputs": [],
   "source": [
    "# games['Ratio_Recommendation_EstimatedOwner'] = games['Recommendations'] / (games['Estimated owners'] + 1)"
   ]
  },
  {
   "cell_type": "code",
   "execution_count": 84,
   "metadata": {},
   "outputs": [],
   "source": [
    "games.drop(columns = ['Supported languages', 'Release date'], inplace = True)"
   ]
  },
  {
   "cell_type": "markdown",
   "metadata": {},
   "source": [
    "## Visualization"
   ]
  },
  {
   "cell_type": "code",
   "execution_count": 85,
   "metadata": {},
   "outputs": [],
   "source": [
    "ignore_columns = categories + ['Estimated owners', 'Windows', 'Mac', 'Linux', '+15']"
   ]
  },
  {
   "cell_type": "code",
   "execution_count": 86,
   "metadata": {},
   "outputs": [],
   "source": [
    "games_num = games.select_dtypes(include = np.number).drop(columns = ignore_columns)"
   ]
  },
  {
   "cell_type": "code",
   "execution_count": 87,
   "metadata": {},
   "outputs": [
    {
     "data": {
      "image/png": "[encoded data removed]",
      "text/plain": [
       "<Figure size 2000x2000 with 25 Axes>"
      ]
     },
     "metadata": {},
     "output_type": "display_data"
    }
   ],
   "source": [
    "games_num.plot(kind = 'box', subplots = True, layout = (5, 5), figsize = (20, 20))\n",
    "plt.show()"
   ]
  },
  {
   "cell_type": "markdown",
   "metadata": {},
   "source": [
    "## Normalization"
   ]
  },
  {
   "cell_type": "code",
   "execution_count": 88,
   "metadata": {},
   "outputs": [],
   "source": [
    "games_labels = games['Estimated owners'].copy()\n",
    "games = games.drop('Estimated owners', axis = 1)"
   ]
  },
  {
   "cell_type": "markdown",
   "metadata": {},
   "source": [
    "### Min-Max Scaler"
   ]
  },
  {
   "cell_type": "code",
   "execution_count": 89,
   "metadata": {},
   "outputs": [],
   "source": [
    "minmax_columns = ['Price', 'OS_ratio', 'Platform_count']"
   ]
  },
  {
   "cell_type": "code",
   "execution_count": 90,
   "metadata": {},
   "outputs": [],
   "source": [
    "minmax_scaler = MinMaxScaler()\n",
    "games_minmax_scaled = minmax_scaler.fit_transform(games[minmax_columns])"
   ]
  },
  {
   "cell_type": "code",
   "execution_count": 91,
   "metadata": {},
   "outputs": [],
   "source": [
    "minmax_df = pd.DataFrame(games_minmax_scaled, \n",
    "                          columns= minmax_scaler.get_feature_names_out())"
   ]
  },
  {
   "cell_type": "markdown",
   "metadata": {},
   "source": [
    "### Robust Scaler"
   ]
  },
  {
   "cell_type": "code",
   "execution_count": 92,
   "metadata": {},
   "outputs": [],
   "source": [
    "robust_columns = games_num.columns.to_list()"
   ]
  },
  {
   "cell_type": "code",
   "execution_count": 93,
   "metadata": {},
   "outputs": [],
   "source": [
    "robust_scaler = RobustScaler()\n",
    "games_robust_scaled = robust_scaler.fit_transform(games[robust_columns].drop(columns = minmax_columns))"
   ]
  },
  {
   "cell_type": "code",
   "execution_count": 94,
   "metadata": {},
   "outputs": [],
   "source": [
    "robust_df = pd.DataFrame(games_robust_scaled, \n",
    "                         columns = robust_scaler.get_feature_names_out())"
   ]
  },
  {
   "cell_type": "code",
   "execution_count": 95,
   "metadata": {},
   "outputs": [],
   "source": [
    "df_result = pd.concat((robust_df, minmax_df, games.drop(columns = robust_columns + minmax_columns)), axis = 1)"
   ]
  },
  {
   "cell_type": "markdown",
   "metadata": {},
   "source": [
    "### Mutual Information"
   ]
  },
  {
   "cell_type": "code",
   "execution_count": 96,
   "metadata": {},
   "outputs": [],
   "source": [
    "scores = scores_class(df_result, games_labels, discrete_features = 'auto')"
   ]
  },
  {
   "cell_type": "code",
   "execution_count": 97,
   "metadata": {},
   "outputs": [
    {
     "data": {
      "text/html": [
       "<div>\n",
       "<style scoped>\n",
       "    .dataframe tbody tr th:only-of-type {\n",
       "        vertical-align: middle;\n",
       "    }\n",
       "\n",
       "    .dataframe tbody tr th {\n",
       "        vertical-align: top;\n",
       "    }\n",
       "\n",
       "    .dataframe thead th {\n",
       "        text-align: right;\n",
       "    }\n",
       "</style>\n",
       "<table border=\"1\" class=\"dataframe\">\n",
       "  <thead>\n",
       "    <tr style=\"text-align: right;\">\n",
       "      <th></th>\n",
       "      <th>Feature</th>\n",
       "      <th>MI Score (Classify)</th>\n",
       "    </tr>\n",
       "  </thead>\n",
       "  <tbody>\n",
       "    <tr>\n",
       "      <th>4</th>\n",
       "      <td>Positive</td>\n",
       "      <td>0.400436</td>\n",
       "    </tr>\n",
       "    <tr>\n",
       "      <th>5</th>\n",
       "      <td>Negative</td>\n",
       "      <td>0.347185</td>\n",
       "    </tr>\n",
       "    <tr>\n",
       "      <th>16</th>\n",
       "      <td>Antiquity</td>\n",
       "      <td>0.248139</td>\n",
       "    </tr>\n",
       "    <tr>\n",
       "      <th>8</th>\n",
       "      <td>Average playtime forever</td>\n",
       "      <td>0.188322</td>\n",
       "    </tr>\n",
       "    <tr>\n",
       "      <th>10</th>\n",
       "      <td>Median playtime forever</td>\n",
       "      <td>0.183172</td>\n",
       "    </tr>\n",
       "    <tr>\n",
       "      <th>18</th>\n",
       "      <td>Price</td>\n",
       "      <td>0.178736</td>\n",
       "    </tr>\n",
       "    <tr>\n",
       "      <th>7</th>\n",
       "      <td>Recommendations</td>\n",
       "      <td>0.162128</td>\n",
       "    </tr>\n",
       "    <tr>\n",
       "      <th>17</th>\n",
       "      <td>Recommendation_per_genre</td>\n",
       "      <td>0.161876</td>\n",
       "    </tr>\n",
       "    <tr>\n",
       "      <th>0</th>\n",
       "      <td>Peak CCU</td>\n",
       "      <td>0.133716</td>\n",
       "    </tr>\n",
       "    <tr>\n",
       "      <th>12</th>\n",
       "      <td>Achievements_per_hour</td>\n",
       "      <td>0.126743</td>\n",
       "    </tr>\n",
       "    <tr>\n",
       "      <th>2</th>\n",
       "      <td>Metacritic score</td>\n",
       "      <td>0.049305</td>\n",
       "    </tr>\n",
       "    <tr>\n",
       "      <th>43</th>\n",
       "      <td>Free to Play</td>\n",
       "      <td>0.046487</td>\n",
       "    </tr>\n",
       "    <tr>\n",
       "      <th>6</th>\n",
       "      <td>Achievements</td>\n",
       "      <td>0.042575</td>\n",
       "    </tr>\n",
       "    <tr>\n",
       "      <th>15</th>\n",
       "      <td>Language_count</td>\n",
       "      <td>0.040301</td>\n",
       "    </tr>\n",
       "    <tr>\n",
       "      <th>14</th>\n",
       "      <td>Recent_playtime_ratio</td>\n",
       "      <td>0.029976</td>\n",
       "    </tr>\n",
       "    <tr>\n",
       "      <th>11</th>\n",
       "      <td>Median playtime two weeks</td>\n",
       "      <td>0.029509</td>\n",
       "    </tr>\n",
       "    <tr>\n",
       "      <th>1</th>\n",
       "      <td>DLC count</td>\n",
       "      <td>0.028427</td>\n",
       "    </tr>\n",
       "    <tr>\n",
       "      <th>9</th>\n",
       "      <td>Average playtime two weeks</td>\n",
       "      <td>0.027652</td>\n",
       "    </tr>\n",
       "    <tr>\n",
       "      <th>39</th>\n",
       "      <td>Casual</td>\n",
       "      <td>0.021925</td>\n",
       "    </tr>\n",
       "    <tr>\n",
       "      <th>20</th>\n",
       "      <td>Platform_count</td>\n",
       "      <td>0.016390</td>\n",
       "    </tr>\n",
       "    <tr>\n",
       "      <th>19</th>\n",
       "      <td>OS_ratio</td>\n",
       "      <td>0.014920</td>\n",
       "    </tr>\n",
       "    <tr>\n",
       "      <th>22</th>\n",
       "      <td>Mac</td>\n",
       "      <td>0.010983</td>\n",
       "    </tr>\n",
       "    <tr>\n",
       "      <th>29</th>\n",
       "      <td>RPG</td>\n",
       "      <td>0.009294</td>\n",
       "    </tr>\n",
       "    <tr>\n",
       "      <th>21</th>\n",
       "      <td>Windows</td>\n",
       "      <td>0.006926</td>\n",
       "    </tr>\n",
       "    <tr>\n",
       "      <th>51</th>\n",
       "      <td>Adventure</td>\n",
       "      <td>0.006924</td>\n",
       "    </tr>\n",
       "    <tr>\n",
       "      <th>31</th>\n",
       "      <td>Indie</td>\n",
       "      <td>0.006883</td>\n",
       "    </tr>\n",
       "    <tr>\n",
       "      <th>34</th>\n",
       "      <td>Massively Multiplayer</td>\n",
       "      <td>0.005766</td>\n",
       "    </tr>\n",
       "    <tr>\n",
       "      <th>45</th>\n",
       "      <td>Strategy</td>\n",
       "      <td>0.005629</td>\n",
       "    </tr>\n",
       "    <tr>\n",
       "      <th>13</th>\n",
       "      <td>Genre_count</td>\n",
       "      <td>0.005488</td>\n",
       "    </tr>\n",
       "    <tr>\n",
       "      <th>46</th>\n",
       "      <td>Design &amp; Illustration</td>\n",
       "      <td>0.005391</td>\n",
       "    </tr>\n",
       "    <tr>\n",
       "      <th>24</th>\n",
       "      <td>+15</td>\n",
       "      <td>0.004244</td>\n",
       "    </tr>\n",
       "    <tr>\n",
       "      <th>23</th>\n",
       "      <td>Linux</td>\n",
       "      <td>0.004115</td>\n",
       "    </tr>\n",
       "    <tr>\n",
       "      <th>47</th>\n",
       "      <td>Violent</td>\n",
       "      <td>0.003117</td>\n",
       "    </tr>\n",
       "    <tr>\n",
       "      <th>55</th>\n",
       "      <td>Episodic</td>\n",
       "      <td>0.001601</td>\n",
       "    </tr>\n",
       "    <tr>\n",
       "      <th>41</th>\n",
       "      <td>Nudity</td>\n",
       "      <td>0.001547</td>\n",
       "    </tr>\n",
       "    <tr>\n",
       "      <th>42</th>\n",
       "      <td>Animation &amp; Modeling</td>\n",
       "      <td>0.001492</td>\n",
       "    </tr>\n",
       "    <tr>\n",
       "      <th>30</th>\n",
       "      <td>Early Access</td>\n",
       "      <td>0.001471</td>\n",
       "    </tr>\n",
       "    <tr>\n",
       "      <th>40</th>\n",
       "      <td>Web Publishing</td>\n",
       "      <td>0.001139</td>\n",
       "    </tr>\n",
       "    <tr>\n",
       "      <th>25</th>\n",
       "      <td>Utilities</td>\n",
       "      <td>0.001128</td>\n",
       "    </tr>\n",
       "    <tr>\n",
       "      <th>53</th>\n",
       "      <td>Action</td>\n",
       "      <td>0.001028</td>\n",
       "    </tr>\n",
       "    <tr>\n",
       "      <th>50</th>\n",
       "      <td>Video Production</td>\n",
       "      <td>0.000900</td>\n",
       "    </tr>\n",
       "    <tr>\n",
       "      <th>48</th>\n",
       "      <td>Racing</td>\n",
       "      <td>0.000834</td>\n",
       "    </tr>\n",
       "    <tr>\n",
       "      <th>56</th>\n",
       "      <td>Simulation</td>\n",
       "      <td>0.000756</td>\n",
       "    </tr>\n",
       "    <tr>\n",
       "      <th>35</th>\n",
       "      <td>Tutorial</td>\n",
       "      <td>0.000674</td>\n",
       "    </tr>\n",
       "    <tr>\n",
       "      <th>44</th>\n",
       "      <td>Software Training</td>\n",
       "      <td>0.000394</td>\n",
       "    </tr>\n",
       "    <tr>\n",
       "      <th>54</th>\n",
       "      <td>Short</td>\n",
       "      <td>0.000179</td>\n",
       "    </tr>\n",
       "    <tr>\n",
       "      <th>49</th>\n",
       "      <td>Sports</td>\n",
       "      <td>0.000000</td>\n",
       "    </tr>\n",
       "    <tr>\n",
       "      <th>52</th>\n",
       "      <td>Accounting</td>\n",
       "      <td>0.000000</td>\n",
       "    </tr>\n",
       "    <tr>\n",
       "      <th>26</th>\n",
       "      <td>Audio Production</td>\n",
       "      <td>0.000000</td>\n",
       "    </tr>\n",
       "    <tr>\n",
       "      <th>38</th>\n",
       "      <td>Sexual Content</td>\n",
       "      <td>0.000000</td>\n",
       "    </tr>\n",
       "    <tr>\n",
       "      <th>37</th>\n",
       "      <td>Documentary</td>\n",
       "      <td>0.000000</td>\n",
       "    </tr>\n",
       "    <tr>\n",
       "      <th>27</th>\n",
       "      <td>Photo Editing</td>\n",
       "      <td>0.000000</td>\n",
       "    </tr>\n",
       "    <tr>\n",
       "      <th>28</th>\n",
       "      <td>Education</td>\n",
       "      <td>0.000000</td>\n",
       "    </tr>\n",
       "    <tr>\n",
       "      <th>32</th>\n",
       "      <td>Movie</td>\n",
       "      <td>0.000000</td>\n",
       "    </tr>\n",
       "    <tr>\n",
       "      <th>3</th>\n",
       "      <td>User score</td>\n",
       "      <td>0.000000</td>\n",
       "    </tr>\n",
       "    <tr>\n",
       "      <th>33</th>\n",
       "      <td>Game Development</td>\n",
       "      <td>0.000000</td>\n",
       "    </tr>\n",
       "    <tr>\n",
       "      <th>36</th>\n",
       "      <td>360 Video</td>\n",
       "      <td>0.000000</td>\n",
       "    </tr>\n",
       "    <tr>\n",
       "      <th>57</th>\n",
       "      <td>Gore</td>\n",
       "      <td>0.000000</td>\n",
       "    </tr>\n",
       "  </tbody>\n",
       "</table>\n",
       "</div>"
      ],
      "text/plain": [
       "                       Feature  MI Score (Classify)\n",
       "4                     Positive             0.400436\n",
       "5                     Negative             0.347185\n",
       "16                   Antiquity             0.248139\n",
       "8     Average playtime forever             0.188322\n",
       "10     Median playtime forever             0.183172\n",
       "18                       Price             0.178736\n",
       "7              Recommendations             0.162128\n",
       "17    Recommendation_per_genre             0.161876\n",
       "0                     Peak CCU             0.133716\n",
       "12       Achievements_per_hour             0.126743\n",
       "2             Metacritic score             0.049305\n",
       "43                Free to Play             0.046487\n",
       "6                 Achievements             0.042575\n",
       "15              Language_count             0.040301\n",
       "14       Recent_playtime_ratio             0.029976\n",
       "11   Median playtime two weeks             0.029509\n",
       "1                    DLC count             0.028427\n",
       "9   Average playtime two weeks             0.027652\n",
       "39                      Casual             0.021925\n",
       "20              Platform_count             0.016390\n",
       "19                    OS_ratio             0.014920\n",
       "22                         Mac             0.010983\n",
       "29                         RPG             0.009294\n",
       "21                     Windows             0.006926\n",
       "51                   Adventure             0.006924\n",
       "31                       Indie             0.006883\n",
       "34       Massively Multiplayer             0.005766\n",
       "45                    Strategy             0.005629\n",
       "13                 Genre_count             0.005488\n",
       "46       Design & Illustration             0.005391\n",
       "24                         +15             0.004244\n",
       "23                       Linux             0.004115\n",
       "47                     Violent             0.003117\n",
       "55                    Episodic             0.001601\n",
       "41                      Nudity             0.001547\n",
       "42        Animation & Modeling             0.001492\n",
       "30                Early Access             0.001471\n",
       "40              Web Publishing             0.001139\n",
       "25                   Utilities             0.001128\n",
       "53                      Action             0.001028\n",
       "50            Video Production             0.000900\n",
       "48                      Racing             0.000834\n",
       "56                  Simulation             0.000756\n",
       "35                    Tutorial             0.000674\n",
       "44           Software Training             0.000394\n",
       "54                       Short             0.000179\n",
       "49                      Sports             0.000000\n",
       "52                  Accounting             0.000000\n",
       "26            Audio Production             0.000000\n",
       "38              Sexual Content             0.000000\n",
       "37                 Documentary             0.000000\n",
       "27               Photo Editing             0.000000\n",
       "28                   Education             0.000000\n",
       "32                       Movie             0.000000\n",
       "3                   User score             0.000000\n",
       "33            Game Development             0.000000\n",
       "36                   360 Video             0.000000\n",
       "57                        Gore             0.000000"
      ]
     },
     "execution_count": 97,
     "metadata": {},
     "output_type": "execute_result"
    }
   ],
   "source": [
    "scores"
   ]
  },
  {
   "cell_type": "code",
   "execution_count": 98,
   "metadata": {},
   "outputs": [],
   "source": [
    "drop_columns = scores[scores['MI Score (Classify)'] < 0.005]"
   ]
  },
  {
   "cell_type": "code",
   "execution_count": 99,
   "metadata": {},
   "outputs": [],
   "source": [
    "df_result.drop(columns = drop_columns['Feature'].values, inplace = True)"
   ]
  },
  {
   "cell_type": "code",
   "execution_count": 100,
   "metadata": {},
   "outputs": [
    {
     "data": {
      "text/plain": [
       "Index(['Peak CCU', 'DLC count', 'Metacritic score', 'Positive', 'Negative',\n",
       "       'Achievements', 'Recommendations', 'Average playtime forever',\n",
       "       'Average playtime two weeks', 'Median playtime forever',\n",
       "       'Median playtime two weeks', 'Achievements_per_hour', 'Genre_count',\n",
       "       'Recent_playtime_ratio', 'Language_count', 'Antiquity',\n",
       "       'Recommendation_per_genre', 'Price', 'OS_ratio', 'Platform_count',\n",
       "       'Windows', 'Mac', 'RPG', 'Indie', 'Massively Multiplayer', 'Casual',\n",
       "       'Free to Play', 'Strategy', 'Design & Illustration', 'Adventure'],\n",
       "      dtype='object')"
      ]
     },
     "execution_count": 100,
     "metadata": {},
     "output_type": "execute_result"
    }
   ],
   "source": [
    "df_result.columns"
   ]
  },
  {
   "cell_type": "markdown",
   "metadata": {},
   "source": [
    "### PCA"
   ]
  },
  {
   "cell_type": "code",
   "execution_count": 101,
   "metadata": {},
   "outputs": [],
   "source": [
    "pca = PCA(n_components = 5)\n",
    "principal_components = pca.fit_transform(df_result)\n",
    "\n",
    "pca_df = pd.DataFrame(data=principal_components, columns=['PCA1', 'PCA2', 'PCA3', 'PCA4', 'PCA5'])"
   ]
  },
  {
   "cell_type": "code",
   "execution_count": 102,
   "metadata": {},
   "outputs": [
    {
     "data": {
      "text/plain": [
       "array([5.09311489e+08, 2.84260833e+07, 1.49282143e+07, 3.96092952e+06,\n",
       "       1.88359783e+05])"
      ]
     },
     "execution_count": 102,
     "metadata": {},
     "output_type": "execute_result"
    }
   ],
   "source": [
    "# Obtener las columnas originales utilizadas por el PCA\n",
    "pca.explained_variance_"
   ]
  },
  {
   "cell_type": "code",
   "execution_count": 103,
   "metadata": {},
   "outputs": [
    {
     "data": {
      "text/plain": [
       "0.9997726344898982"
      ]
     },
     "execution_count": 103,
     "metadata": {},
     "output_type": "execute_result"
    }
   ],
   "source": [
    "sum(pca.explained_variance_ratio_)"
   ]
  },
  {
   "cell_type": "code",
   "execution_count": 104,
   "metadata": {},
   "outputs": [
    {
     "data": {
      "text/html": [
       "<div>\n",
       "<style scoped>\n",
       "    .dataframe tbody tr th:only-of-type {\n",
       "        vertical-align: middle;\n",
       "    }\n",
       "\n",
       "    .dataframe tbody tr th {\n",
       "        vertical-align: top;\n",
       "    }\n",
       "\n",
       "    .dataframe thead th {\n",
       "        text-align: right;\n",
       "    }\n",
       "</style>\n",
       "<table border=\"1\" class=\"dataframe\">\n",
       "  <thead>\n",
       "    <tr style=\"text-align: right;\">\n",
       "      <th></th>\n",
       "      <th>PCA1</th>\n",
       "      <th>PCA2</th>\n",
       "      <th>PCA3</th>\n",
       "      <th>PCA4</th>\n",
       "      <th>PCA5</th>\n",
       "    </tr>\n",
       "  </thead>\n",
       "  <tbody>\n",
       "    <tr>\n",
       "      <th>0</th>\n",
       "      <td>-1020.990137</td>\n",
       "      <td>41.262743</td>\n",
       "      <td>54.893273</td>\n",
       "      <td>-148.076043</td>\n",
       "      <td>30.816470</td>\n",
       "    </tr>\n",
       "    <tr>\n",
       "      <th>1</th>\n",
       "      <td>-1021.016055</td>\n",
       "      <td>3.083712</td>\n",
       "      <td>11.656653</td>\n",
       "      <td>897.058961</td>\n",
       "      <td>-84.973230</td>\n",
       "    </tr>\n",
       "    <tr>\n",
       "      <th>2</th>\n",
       "      <td>-556.332070</td>\n",
       "      <td>-49.066487</td>\n",
       "      <td>-37.848893</td>\n",
       "      <td>-36.309681</td>\n",
       "      <td>31.535324</td>\n",
       "    </tr>\n",
       "    <tr>\n",
       "      <th>3</th>\n",
       "      <td>-1027.174701</td>\n",
       "      <td>-10.257326</td>\n",
       "      <td>17.538178</td>\n",
       "      <td>191.851811</td>\n",
       "      <td>-2.330485</td>\n",
       "    </tr>\n",
       "    <tr>\n",
       "      <th>4</th>\n",
       "      <td>-1029.999848</td>\n",
       "      <td>-16.337031</td>\n",
       "      <td>20.277566</td>\n",
       "      <td>-131.962845</td>\n",
       "      <td>27.468040</td>\n",
       "    </tr>\n",
       "  </tbody>\n",
       "</table>\n",
       "</div>"
      ],
      "text/plain": [
       "          PCA1       PCA2       PCA3        PCA4       PCA5\n",
       "0 -1020.990137  41.262743  54.893273 -148.076043  30.816470\n",
       "1 -1021.016055   3.083712  11.656653  897.058961 -84.973230\n",
       "2  -556.332070 -49.066487 -37.848893  -36.309681  31.535324\n",
       "3 -1027.174701 -10.257326  17.538178  191.851811  -2.330485\n",
       "4 -1029.999848 -16.337031  20.277566 -131.962845  27.468040"
      ]
     },
     "execution_count": 104,
     "metadata": {},
     "output_type": "execute_result"
    }
   ],
   "source": [
    "pca_df.head(5)"
   ]
  },
  {
   "cell_type": "code",
   "execution_count": 105,
   "metadata": {},
   "outputs": [],
   "source": [
    "# Calculate percentage variation\n",
    "per_var = np.round(pca.explained_variance_ratio_ * 100, decimals=1)\n",
    "labels = ['PC' + str(x) for x in range(1, len(per_var) + 1)]"
   ]
  },
  {
   "cell_type": "code",
   "execution_count": 106,
   "metadata": {},
   "outputs": [
    {
     "data": {
      "image/png": "[encoded data removed]",
      "text/plain": [
       "<Figure size 1200x400 with 1 Axes>"
      ]
     },
     "metadata": {},
     "output_type": "display_data"
    }
   ],
   "source": [
    "# Variance explained by each dimension\n",
    "fig, ax = plt.subplots(figsize=(12, 4))\n",
    "bars = ax.bar(x=range(1, len(per_var) + 1), height=per_var, tick_label=labels, color = colors, edgecolor='black', hatch='//')\n",
    "plt.ylabel('Percentage of Explained Variance')\n",
    "plt.xlabel('Principal Component')\n",
    "for i, bar in enumerate(bars):\n",
    "    ax.text(bar.get_x() + bar.get_width() / 2, bar.get_height(),\n",
    "            f'{per_var[i]}%', ha='center', va='bottom', color='black', fontweight='bold')\n",
    "plt.show()"
   ]
  },
  {
   "cell_type": "code",
   "execution_count": 107,
   "metadata": {},
   "outputs": [],
   "source": [
    "df_result = pd.concat((df_result, pca_df, games_labels), axis = 1)"
   ]
  },
  {
   "cell_type": "markdown",
   "metadata": {},
   "source": [
    "# Save dataset"
   ]
  },
  {
   "cell_type": "code",
   "execution_count": 108,
   "metadata": {},
   "outputs": [],
   "source": [
    "df_result.to_csv('../data/games_normalized_clean.csv', index = False)"
   ]
  },
  {
   "cell_type": "code",
   "execution_count": 109,
   "metadata": {},
   "outputs": [
    {
     "data": {
      "text/plain": [
       "['../models/pca_model.joblib']"
      ]
     },
     "execution_count": 109,
     "metadata": {},
     "output_type": "execute_result"
    }
   ],
   "source": [
    "from joblib import dump\n",
    "\n",
    "# Exportar el PCA\n",
    "dump(pca, '../models/pca_model.joblib')"
   ]
  },
  {
   "cell_type": "code",
   "execution_count": 110,
   "metadata": {},
   "outputs": [
    {
     "data": {
      "text/plain": [
       "['../models/robust_scaler.joblib']"
      ]
     },
     "execution_count": 110,
     "metadata": {},
     "output_type": "execute_result"
    }
   ],
   "source": [
    "# Exportar el MinMaxScaler\n",
    "dump(minmax_scaler, '../models/minmax_scaler.joblib')\n",
    "\n",
    "# Exportar el RobustScaler\n",
    "dump(robust_scaler, '../models/robust_scaler.joblib')"
   ]
  }
 ],
 "metadata": {
  "kernelspec": {
   "display_name": "tf_steam",
   "language": "python",
   "name": "python3"
  },
  "language_info": {
   "codemirror_mode": {
    "name": "ipython",
    "version": 3
   },
   "file_extension": ".py",
   "mimetype": "text/x-python",
   "name": "python",
   "nbconvert_exporter": "python",
   "pygments_lexer": "ipython3",
   "version": "3.8.20"
  }
 },
 "nbformat": 4,
 "nbformat_minor": 2
}
