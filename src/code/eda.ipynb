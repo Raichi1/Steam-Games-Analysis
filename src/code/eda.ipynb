{
 "cells": [
  {
   "cell_type": "markdown",
   "metadata": {},
   "source": [
    "# Import Dataset"
   ]
  },
  {
   "cell_type": "code",
   "execution_count": 1,
   "metadata": {
    "vscode": {
     "languageId": "powershell"
    }
   },
   "outputs": [
    {
     "name": "stdout",
     "output_type": "stream",
     "text": [
      "Collecting kaggle\n",
      "  Downloading kaggle-1.6.17.tar.gz (82 kB)\n",
      "  Preparing metadata (setup.py): started\n",
      "  Preparing metadata (setup.py): finished with status 'done'\n",
      "Requirement already satisfied: six>=1.10 in c:\\users\\hp\\miniconda3\\envs\\ml\\lib\\site-packages (from kaggle) (1.16.0)\n",
      "Collecting certifi>=2023.7.22 (from kaggle)\n",
      "  Downloading certifi-2024.8.30-py3-none-any.whl.metadata (2.2 kB)\n",
      "Requirement already satisfied: python-dateutil in c:\\users\\hp\\miniconda3\\envs\\ml\\lib\\site-packages (from kaggle) (2.9.0.post0)\n",
      "Collecting requests (from kaggle)\n",
      "  Downloading requests-2.32.3-py3-none-any.whl.metadata (4.6 kB)\n",
      "Collecting tqdm (from kaggle)\n",
      "  Downloading tqdm-4.66.5-py3-none-any.whl.metadata (57 kB)\n",
      "Collecting python-slugify (from kaggle)\n",
      "  Downloading python_slugify-8.0.4-py2.py3-none-any.whl.metadata (8.5 kB)\n",
      "Collecting urllib3 (from kaggle)\n",
      "  Downloading urllib3-2.2.3-py3-none-any.whl.metadata (6.5 kB)\n",
      "Collecting bleach (from kaggle)\n",
      "  Downloading bleach-6.1.0-py3-none-any.whl.metadata (30 kB)\n",
      "Collecting webencodings (from bleach->kaggle)\n",
      "  Downloading webencodings-0.5.1-py2.py3-none-any.whl.metadata (2.1 kB)\n",
      "Collecting text-unidecode>=1.3 (from python-slugify->kaggle)\n",
      "  Downloading text_unidecode-1.3-py2.py3-none-any.whl.metadata (2.4 kB)\n",
      "Collecting charset-normalizer<4,>=2 (from requests->kaggle)\n",
      "  Downloading charset_normalizer-3.3.2-cp310-cp310-win_amd64.whl.metadata (34 kB)\n",
      "Collecting idna<4,>=2.5 (from requests->kaggle)\n",
      "  Downloading idna-3.10-py3-none-any.whl.metadata (10 kB)\n",
      "Requirement already satisfied: colorama in c:\\users\\hp\\miniconda3\\envs\\ml\\lib\\site-packages (from tqdm->kaggle) (0.4.6)\n",
      "Downloading certifi-2024.8.30-py3-none-any.whl (167 kB)\n",
      "Downloading bleach-6.1.0-py3-none-any.whl (162 kB)\n",
      "Downloading python_slugify-8.0.4-py2.py3-none-any.whl (10 kB)\n",
      "Downloading requests-2.32.3-py3-none-any.whl (64 kB)\n",
      "Downloading urllib3-2.2.3-py3-none-any.whl (126 kB)\n",
      "Downloading tqdm-4.66.5-py3-none-any.whl (78 kB)\n",
      "Downloading charset_normalizer-3.3.2-cp310-cp310-win_amd64.whl (100 kB)\n",
      "Downloading idna-3.10-py3-none-any.whl (70 kB)\n",
      "Downloading text_unidecode-1.3-py2.py3-none-any.whl (78 kB)\n",
      "Downloading webencodings-0.5.1-py2.py3-none-any.whl (11 kB)\n",
      "Building wheels for collected packages: kaggle\n",
      "  Building wheel for kaggle (setup.py): started\n",
      "  Building wheel for kaggle (setup.py): finished with status 'done'\n",
      "  Created wheel for kaggle: filename=kaggle-1.6.17-py3-none-any.whl size=105797 sha256=c1f1ad004942aa55bd659f0504d9af8e77776b631b916718e22688e0aad322f0\n",
      "  Stored in directory: c:\\users\\hp\\appdata\\local\\pip\\cache\\wheels\\9f\\af\\22\\bf406f913dc7506a485e60dce8143741abd0a92a19337d83a3\n",
      "Successfully built kaggle\n",
      "Installing collected packages: webencodings, text-unidecode, urllib3, tqdm, python-slugify, idna, charset-normalizer, certifi, bleach, requests, kaggle\n",
      "Successfully installed bleach-6.1.0 certifi-2024.8.30 charset-normalizer-3.3.2 idna-3.10 kaggle-1.6.17 python-slugify-8.0.4 requests-2.32.3 text-unidecode-1.3 tqdm-4.66.5 urllib3-2.2.3 webencodings-0.5.1\n"
     ]
    }
   ],
   "source": [
    "!pip install kaggle"
   ]
  },
  {
   "cell_type": "code",
   "execution_count": 2,
   "metadata": {
    "vscode": {
     "languageId": "powershell"
    }
   },
   "outputs": [],
   "source": [
    "data_directory = '.../data'"
   ]
  },
  {
   "cell_type": "code",
   "execution_count": 3,
   "metadata": {
    "vscode": {
     "languageId": "powershell"
    }
   },
   "outputs": [
    {
     "name": "stdout",
     "output_type": "stream",
     "text": [
      "Dataset URL: https://www.kaggle.com/datasets/mexwell/steamgames\n",
      "License(s): other\n"
     ]
    },
    {
     "name": "stderr",
     "output_type": "stream",
     "text": [
      "Traceback (most recent call last):\n",
      "  File \"C:\\Users\\HP\\miniconda3\\envs\\ML\\lib\\runpy.py\", line 196, in _run_module_as_main\n",
      "    return _run_code(code, main_globals, None,\n",
      "  File \"C:\\Users\\HP\\miniconda3\\envs\\ML\\lib\\runpy.py\", line 86, in _run_code\n",
      "    exec(code, run_globals)\n",
      "  File \"C:\\Users\\HP\\miniconda3\\envs\\ML\\Scripts\\kaggle.exe\\__main__.py\", line 7, in <module>\n",
      "  File \"C:\\Users\\HP\\miniconda3\\envs\\ML\\lib\\site-packages\\kaggle\\cli.py\", line 63, in main\n",
      "    out = args.func(**command_args)\n",
      "  File \"C:\\Users\\HP\\miniconda3\\envs\\ML\\lib\\site-packages\\kaggle\\api\\kaggle_api_extended.py\", line 1586, in dataset_download_cli\n",
      "    self.dataset_download_files(dataset,\n",
      "  File \"C:\\Users\\HP\\miniconda3\\envs\\ML\\lib\\site-packages\\kaggle\\api\\kaggle_api_extended.py\", line 1510, in dataset_download_files\n",
      "    self.download_file(response, outfile, quiet, not force)\n",
      "  File \"C:\\Users\\HP\\miniconda3\\envs\\ML\\lib\\site-packages\\kaggle\\api\\kaggle_api_extended.py\", line 1928, in download_file\n",
      "    os.makedirs(outpath)\n",
      "  File \"C:\\Users\\HP\\miniconda3\\envs\\ML\\lib\\os.py\", line 225, in makedirs\n",
      "    mkdir(name, mode)\n",
      "FileNotFoundError: [WinError 3] El sistema no puede encontrar la ruta especificada: '.../data'\n"
     ]
    }
   ],
   "source": [
    "!kaggle datasets download -d mexwell/steamgames -p {data_directory}"
   ]
  },
  {
   "cell_type": "markdown",
   "metadata": {},
   "source": [
    "# Unzip Dataset"
   ]
  },
  {
   "cell_type": "code",
   "execution_count": 1,
   "metadata": {},
   "outputs": [],
   "source": [
    "from dotenv import load_dotenv\n",
    "import zipfile\n",
    "import os\n",
    "\n",
    "load_dotenv(\".../.env\")\n",
    "\n",
    "zip_file_path = os.path.join(os.getenv('DATA_DIRECTORY'), \"steamgames.zip\")\n",
    "extract_to_directory = os.getenv('DATA_DIRECTORY')\n",
    "\n",
    "os.makedirs(extract_to_directory, exist_ok=True)\n",
    "\n",
    "with zipfile.ZipFile(zip_file_path, 'r') as zip_ref:\n",
    "    zip_ref.extractall(extract_to_directory)"
   ]
  },
  {
   "cell_type": "markdown",
   "metadata": {},
   "source": [
    "# Import Libraries"
   ]
  },
  {
   "cell_type": "code",
   "execution_count": 1,
   "metadata": {},
   "outputs": [],
   "source": [
    "import matplotlib.pyplot as plt\n",
    "import seaborn as sns\n",
    "import pandas as pd\n",
    "import numpy as np"
   ]
  },
  {
   "cell_type": "markdown",
   "metadata": {},
   "source": [
    "# Configutation"
   ]
  },
  {
   "cell_type": "code",
   "execution_count": 2,
   "metadata": {},
   "outputs": [],
   "source": [
    "pd.set_option('display.max_columns', 40)"
   ]
  },
  {
   "cell_type": "markdown",
   "metadata": {},
   "source": [
    "# Load Dataset"
   ]
  },
  {
   "cell_type": "code",
   "execution_count": 3,
   "metadata": {},
   "outputs": [],
   "source": [
    "games = pd.read_csv('../data/games.csv')"
   ]
  },
  {
   "cell_type": "code",
   "execution_count": 5,
   "metadata": {},
   "outputs": [
    {
     "name": "stdout",
     "output_type": "stream",
     "text": [
      "<class 'pandas.core.frame.DataFrame'>\n",
      "RangeIndex: 71716 entries, 0 to 71715\n",
      "Data columns (total 39 columns):\n",
      " #   Column                      Non-Null Count  Dtype  \n",
      "---  ------                      --------------  -----  \n",
      " 0   AppID                       71716 non-null  int64  \n",
      " 1   Name                        71715 non-null  object \n",
      " 2   Release date                71716 non-null  object \n",
      " 3   Estimated owners            71716 non-null  object \n",
      " 4   Peak CCU                    71716 non-null  int64  \n",
      " 5   Required age                71716 non-null  int64  \n",
      " 6   Price                       71716 non-null  float64\n",
      " 7   DLC count                   71716 non-null  int64  \n",
      " 8   About the game              69280 non-null  object \n",
      " 9   Supported languages         71716 non-null  object \n",
      " 10  Full audio languages        71716 non-null  object \n",
      " 11  Reviews                     9167 non-null   object \n",
      " 12  Header image                71716 non-null  object \n",
      " 13  Website                     35073 non-null  object \n",
      " 14  Support url                 36250 non-null  object \n",
      " 15  Support email               60596 non-null  object \n",
      " 16  Windows                     71716 non-null  bool   \n",
      " 17  Mac                         71716 non-null  bool   \n",
      " 18  Linux                       71716 non-null  bool   \n",
      " 19  Metacritic score            71716 non-null  int64  \n",
      " 20  Metacritic url              3778 non-null   object \n",
      " 21  User score                  71716 non-null  int64  \n",
      " 22  Positive                    71716 non-null  int64  \n",
      " 23  Negative                    71716 non-null  int64  \n",
      " 24  Score rank                  42 non-null     float64\n",
      " 25  Achievements                71716 non-null  int64  \n",
      " 26  Recommendations             71716 non-null  int64  \n",
      " 27  Notes                       10442 non-null  object \n",
      " 28  Average playtime forever    71716 non-null  int64  \n",
      " 29  Average playtime two weeks  71716 non-null  int64  \n",
      " 30  Median playtime forever     71716 non-null  int64  \n",
      " 31  Median playtime two weeks   71716 non-null  int64  \n",
      " 32  Developers                  69255 non-null  object \n",
      " 33  Publishers                  68996 non-null  object \n",
      " 34  Categories                  68309 non-null  object \n",
      " 35  Genres                      69277 non-null  object \n",
      " 36  Tags                        57702 non-null  object \n",
      " 37  Screenshots                 70387 non-null  object \n",
      " 38  Movies                      66668 non-null  object \n",
      "dtypes: bool(3), float64(2), int64(14), object(20)\n",
      "memory usage: 19.9+ MB\n"
     ]
    }
   ],
   "source": [
    "games.info()"
   ]
  },
  {
   "cell_type": "code",
   "execution_count": 6,
   "metadata": {},
   "outputs": [
    {
     "data": {
      "text/html": [
       "<div>\n",
       "<style scoped>\n",
       "    .dataframe tbody tr th:only-of-type {\n",
       "        vertical-align: middle;\n",
       "    }\n",
       "\n",
       "    .dataframe tbody tr th {\n",
       "        vertical-align: top;\n",
       "    }\n",
       "\n",
       "    .dataframe thead th {\n",
       "        text-align: right;\n",
       "    }\n",
       "</style>\n",
       "<table border=\"1\" class=\"dataframe\">\n",
       "  <thead>\n",
       "    <tr style=\"text-align: right;\">\n",
       "      <th></th>\n",
       "      <th>AppID</th>\n",
       "      <th>Name</th>\n",
       "      <th>Release date</th>\n",
       "      <th>Estimated owners</th>\n",
       "      <th>Peak CCU</th>\n",
       "      <th>Required age</th>\n",
       "      <th>Price</th>\n",
       "      <th>DLC count</th>\n",
       "      <th>About the game</th>\n",
       "      <th>Supported languages</th>\n",
       "      <th>Full audio languages</th>\n",
       "      <th>Reviews</th>\n",
       "      <th>Header image</th>\n",
       "      <th>Website</th>\n",
       "      <th>Support url</th>\n",
       "      <th>Support email</th>\n",
       "      <th>Windows</th>\n",
       "      <th>Mac</th>\n",
       "      <th>Linux</th>\n",
       "      <th>Metacritic score</th>\n",
       "      <th>Metacritic url</th>\n",
       "      <th>User score</th>\n",
       "      <th>Positive</th>\n",
       "      <th>Negative</th>\n",
       "      <th>Score rank</th>\n",
       "      <th>Achievements</th>\n",
       "      <th>Recommendations</th>\n",
       "      <th>Notes</th>\n",
       "      <th>Average playtime forever</th>\n",
       "      <th>Average playtime two weeks</th>\n",
       "      <th>Median playtime forever</th>\n",
       "      <th>Median playtime two weeks</th>\n",
       "      <th>Developers</th>\n",
       "      <th>Publishers</th>\n",
       "      <th>Categories</th>\n",
       "      <th>Genres</th>\n",
       "      <th>Tags</th>\n",
       "      <th>Screenshots</th>\n",
       "      <th>Movies</th>\n",
       "    </tr>\n",
       "  </thead>\n",
       "  <tbody>\n",
       "    <tr>\n",
       "      <th>0</th>\n",
       "      <td>20200</td>\n",
       "      <td>Galactic Bowling</td>\n",
       "      <td>Oct 21, 2008</td>\n",
       "      <td>0 - 20000</td>\n",
       "      <td>0</td>\n",
       "      <td>0</td>\n",
       "      <td>19.99</td>\n",
       "      <td>0</td>\n",
       "      <td>Galactic Bowling is an exaggerated and stylize...</td>\n",
       "      <td>['English']</td>\n",
       "      <td>[]</td>\n",
       "      <td>NaN</td>\n",
       "      <td>https://cdn.akamai.steamstatic.com/steam/apps/...</td>\n",
       "      <td>http://www.galacticbowling.net</td>\n",
       "      <td>NaN</td>\n",
       "      <td>NaN</td>\n",
       "      <td>True</td>\n",
       "      <td>False</td>\n",
       "      <td>False</td>\n",
       "      <td>0</td>\n",
       "      <td>NaN</td>\n",
       "      <td>0</td>\n",
       "      <td>6</td>\n",
       "      <td>11</td>\n",
       "      <td>NaN</td>\n",
       "      <td>30</td>\n",
       "      <td>0</td>\n",
       "      <td>NaN</td>\n",
       "      <td>0</td>\n",
       "      <td>0</td>\n",
       "      <td>0</td>\n",
       "      <td>0</td>\n",
       "      <td>Perpetual FX Creative</td>\n",
       "      <td>Perpetual FX Creative</td>\n",
       "      <td>Single-player,Multi-player,Steam Achievements,...</td>\n",
       "      <td>Casual,Indie,Sports</td>\n",
       "      <td>Indie,Casual,Sports,Bowling</td>\n",
       "      <td>https://cdn.akamai.steamstatic.com/steam/apps/...</td>\n",
       "      <td>http://cdn.akamai.steamstatic.com/steam/apps/2...</td>\n",
       "    </tr>\n",
       "    <tr>\n",
       "      <th>1</th>\n",
       "      <td>655370</td>\n",
       "      <td>Train Bandit</td>\n",
       "      <td>Oct 12, 2017</td>\n",
       "      <td>0 - 20000</td>\n",
       "      <td>0</td>\n",
       "      <td>0</td>\n",
       "      <td>0.99</td>\n",
       "      <td>0</td>\n",
       "      <td>THE LAW!! Looks to be a showdown atop a train....</td>\n",
       "      <td>['English', 'French', 'Italian', 'German', 'Sp...</td>\n",
       "      <td>[]</td>\n",
       "      <td>NaN</td>\n",
       "      <td>https://cdn.akamai.steamstatic.com/steam/apps/...</td>\n",
       "      <td>http://trainbandit.com</td>\n",
       "      <td>NaN</td>\n",
       "      <td>support@rustymoyher.com</td>\n",
       "      <td>True</td>\n",
       "      <td>True</td>\n",
       "      <td>False</td>\n",
       "      <td>0</td>\n",
       "      <td>NaN</td>\n",
       "      <td>0</td>\n",
       "      <td>53</td>\n",
       "      <td>5</td>\n",
       "      <td>NaN</td>\n",
       "      <td>12</td>\n",
       "      <td>0</td>\n",
       "      <td>NaN</td>\n",
       "      <td>0</td>\n",
       "      <td>0</td>\n",
       "      <td>0</td>\n",
       "      <td>0</td>\n",
       "      <td>Rusty Moyher</td>\n",
       "      <td>Wild Rooster</td>\n",
       "      <td>Single-player,Steam Achievements,Full controll...</td>\n",
       "      <td>Action,Indie</td>\n",
       "      <td>Indie,Action,Pixel Graphics,2D,Retro,Arcade,Sc...</td>\n",
       "      <td>https://cdn.akamai.steamstatic.com/steam/apps/...</td>\n",
       "      <td>http://cdn.akamai.steamstatic.com/steam/apps/2...</td>\n",
       "    </tr>\n",
       "    <tr>\n",
       "      <th>2</th>\n",
       "      <td>1732930</td>\n",
       "      <td>Jolt Project</td>\n",
       "      <td>Nov 17, 2021</td>\n",
       "      <td>0 - 20000</td>\n",
       "      <td>0</td>\n",
       "      <td>0</td>\n",
       "      <td>4.99</td>\n",
       "      <td>0</td>\n",
       "      <td>Jolt Project: The army now has a new robotics ...</td>\n",
       "      <td>['English', 'Portuguese - Brazil']</td>\n",
       "      <td>[]</td>\n",
       "      <td>NaN</td>\n",
       "      <td>https://cdn.akamai.steamstatic.com/steam/apps/...</td>\n",
       "      <td>NaN</td>\n",
       "      <td>NaN</td>\n",
       "      <td>ramoncampiaof31@gmail.com</td>\n",
       "      <td>True</td>\n",
       "      <td>False</td>\n",
       "      <td>False</td>\n",
       "      <td>0</td>\n",
       "      <td>NaN</td>\n",
       "      <td>0</td>\n",
       "      <td>0</td>\n",
       "      <td>0</td>\n",
       "      <td>NaN</td>\n",
       "      <td>0</td>\n",
       "      <td>0</td>\n",
       "      <td>NaN</td>\n",
       "      <td>0</td>\n",
       "      <td>0</td>\n",
       "      <td>0</td>\n",
       "      <td>0</td>\n",
       "      <td>Campião Games</td>\n",
       "      <td>Campião Games</td>\n",
       "      <td>Single-player</td>\n",
       "      <td>Action,Adventure,Indie,Strategy</td>\n",
       "      <td>NaN</td>\n",
       "      <td>https://cdn.akamai.steamstatic.com/steam/apps/...</td>\n",
       "      <td>http://cdn.akamai.steamstatic.com/steam/apps/2...</td>\n",
       "    </tr>\n",
       "    <tr>\n",
       "      <th>3</th>\n",
       "      <td>1355720</td>\n",
       "      <td>Henosis™</td>\n",
       "      <td>Jul 23, 2020</td>\n",
       "      <td>0 - 20000</td>\n",
       "      <td>0</td>\n",
       "      <td>0</td>\n",
       "      <td>5.99</td>\n",
       "      <td>0</td>\n",
       "      <td>HENOSIS™ is a mysterious 2D Platform Puzzler w...</td>\n",
       "      <td>['English', 'French', 'Italian', 'German', 'Sp...</td>\n",
       "      <td>[]</td>\n",
       "      <td>NaN</td>\n",
       "      <td>https://cdn.akamai.steamstatic.com/steam/apps/...</td>\n",
       "      <td>https://henosisgame.com/</td>\n",
       "      <td>https://henosisgame.com/</td>\n",
       "      <td>info@henosisgame.com</td>\n",
       "      <td>True</td>\n",
       "      <td>True</td>\n",
       "      <td>True</td>\n",
       "      <td>0</td>\n",
       "      <td>NaN</td>\n",
       "      <td>0</td>\n",
       "      <td>3</td>\n",
       "      <td>0</td>\n",
       "      <td>NaN</td>\n",
       "      <td>0</td>\n",
       "      <td>0</td>\n",
       "      <td>NaN</td>\n",
       "      <td>0</td>\n",
       "      <td>0</td>\n",
       "      <td>0</td>\n",
       "      <td>0</td>\n",
       "      <td>Odd Critter Games</td>\n",
       "      <td>Odd Critter Games</td>\n",
       "      <td>Single-player,Full controller support</td>\n",
       "      <td>Adventure,Casual,Indie</td>\n",
       "      <td>2D Platformer,Atmospheric,Surreal,Mystery,Puzz...</td>\n",
       "      <td>https://cdn.akamai.steamstatic.com/steam/apps/...</td>\n",
       "      <td>http://cdn.akamai.steamstatic.com/steam/apps/2...</td>\n",
       "    </tr>\n",
       "    <tr>\n",
       "      <th>4</th>\n",
       "      <td>1139950</td>\n",
       "      <td>Two Weeks in Painland</td>\n",
       "      <td>Feb 3, 2020</td>\n",
       "      <td>0 - 20000</td>\n",
       "      <td>0</td>\n",
       "      <td>0</td>\n",
       "      <td>0.00</td>\n",
       "      <td>0</td>\n",
       "      <td>ABOUT THE GAME Play as a hacker who has arrang...</td>\n",
       "      <td>['English', 'Spanish - Spain']</td>\n",
       "      <td>[]</td>\n",
       "      <td>NaN</td>\n",
       "      <td>https://cdn.akamai.steamstatic.com/steam/apps/...</td>\n",
       "      <td>https://www.unusual-games.com/home/</td>\n",
       "      <td>https://www.unusual-games.com/contact/</td>\n",
       "      <td>welistentoyou@unusual-games.com</td>\n",
       "      <td>True</td>\n",
       "      <td>True</td>\n",
       "      <td>False</td>\n",
       "      <td>0</td>\n",
       "      <td>NaN</td>\n",
       "      <td>0</td>\n",
       "      <td>50</td>\n",
       "      <td>8</td>\n",
       "      <td>NaN</td>\n",
       "      <td>17</td>\n",
       "      <td>0</td>\n",
       "      <td>This Game may contain content not appropriate ...</td>\n",
       "      <td>0</td>\n",
       "      <td>0</td>\n",
       "      <td>0</td>\n",
       "      <td>0</td>\n",
       "      <td>Unusual Games</td>\n",
       "      <td>Unusual Games</td>\n",
       "      <td>Single-player,Steam Achievements</td>\n",
       "      <td>Adventure,Indie</td>\n",
       "      <td>Indie,Adventure,Nudity,Violent,Sexual Content,...</td>\n",
       "      <td>https://cdn.akamai.steamstatic.com/steam/apps/...</td>\n",
       "      <td>http://cdn.akamai.steamstatic.com/steam/apps/2...</td>\n",
       "    </tr>\n",
       "  </tbody>\n",
       "</table>\n",
       "</div>"
      ],
      "text/plain": [
       "     AppID                   Name  Release date Estimated owners  Peak CCU  \\\n",
       "0    20200       Galactic Bowling  Oct 21, 2008        0 - 20000         0   \n",
       "1   655370           Train Bandit  Oct 12, 2017        0 - 20000         0   \n",
       "2  1732930           Jolt Project  Nov 17, 2021        0 - 20000         0   \n",
       "3  1355720               Henosis™  Jul 23, 2020        0 - 20000         0   \n",
       "4  1139950  Two Weeks in Painland   Feb 3, 2020        0 - 20000         0   \n",
       "\n",
       "   Required age  Price  DLC count  \\\n",
       "0             0  19.99          0   \n",
       "1             0   0.99          0   \n",
       "2             0   4.99          0   \n",
       "3             0   5.99          0   \n",
       "4             0   0.00          0   \n",
       "\n",
       "                                      About the game  \\\n",
       "0  Galactic Bowling is an exaggerated and stylize...   \n",
       "1  THE LAW!! Looks to be a showdown atop a train....   \n",
       "2  Jolt Project: The army now has a new robotics ...   \n",
       "3  HENOSIS™ is a mysterious 2D Platform Puzzler w...   \n",
       "4  ABOUT THE GAME Play as a hacker who has arrang...   \n",
       "\n",
       "                                 Supported languages Full audio languages  \\\n",
       "0                                        ['English']                   []   \n",
       "1  ['English', 'French', 'Italian', 'German', 'Sp...                   []   \n",
       "2                 ['English', 'Portuguese - Brazil']                   []   \n",
       "3  ['English', 'French', 'Italian', 'German', 'Sp...                   []   \n",
       "4                     ['English', 'Spanish - Spain']                   []   \n",
       "\n",
       "  Reviews                                       Header image  \\\n",
       "0     NaN  https://cdn.akamai.steamstatic.com/steam/apps/...   \n",
       "1     NaN  https://cdn.akamai.steamstatic.com/steam/apps/...   \n",
       "2     NaN  https://cdn.akamai.steamstatic.com/steam/apps/...   \n",
       "3     NaN  https://cdn.akamai.steamstatic.com/steam/apps/...   \n",
       "4     NaN  https://cdn.akamai.steamstatic.com/steam/apps/...   \n",
       "\n",
       "                               Website  \\\n",
       "0       http://www.galacticbowling.net   \n",
       "1               http://trainbandit.com   \n",
       "2                                  NaN   \n",
       "3             https://henosisgame.com/   \n",
       "4  https://www.unusual-games.com/home/   \n",
       "\n",
       "                              Support url                    Support email  \\\n",
       "0                                     NaN                              NaN   \n",
       "1                                     NaN          support@rustymoyher.com   \n",
       "2                                     NaN        ramoncampiaof31@gmail.com   \n",
       "3                https://henosisgame.com/             info@henosisgame.com   \n",
       "4  https://www.unusual-games.com/contact/  welistentoyou@unusual-games.com   \n",
       "\n",
       "   Windows    Mac  Linux  Metacritic score Metacritic url  User score  \\\n",
       "0     True  False  False                 0            NaN           0   \n",
       "1     True   True  False                 0            NaN           0   \n",
       "2     True  False  False                 0            NaN           0   \n",
       "3     True   True   True                 0            NaN           0   \n",
       "4     True   True  False                 0            NaN           0   \n",
       "\n",
       "   Positive  Negative  Score rank  Achievements  Recommendations  \\\n",
       "0         6        11         NaN            30                0   \n",
       "1        53         5         NaN            12                0   \n",
       "2         0         0         NaN             0                0   \n",
       "3         3         0         NaN             0                0   \n",
       "4        50         8         NaN            17                0   \n",
       "\n",
       "                                               Notes  \\\n",
       "0                                                NaN   \n",
       "1                                                NaN   \n",
       "2                                                NaN   \n",
       "3                                                NaN   \n",
       "4  This Game may contain content not appropriate ...   \n",
       "\n",
       "   Average playtime forever  Average playtime two weeks  \\\n",
       "0                         0                           0   \n",
       "1                         0                           0   \n",
       "2                         0                           0   \n",
       "3                         0                           0   \n",
       "4                         0                           0   \n",
       "\n",
       "   Median playtime forever  Median playtime two weeks             Developers  \\\n",
       "0                        0                          0  Perpetual FX Creative   \n",
       "1                        0                          0           Rusty Moyher   \n",
       "2                        0                          0          Campião Games   \n",
       "3                        0                          0      Odd Critter Games   \n",
       "4                        0                          0          Unusual Games   \n",
       "\n",
       "              Publishers                                         Categories  \\\n",
       "0  Perpetual FX Creative  Single-player,Multi-player,Steam Achievements,...   \n",
       "1           Wild Rooster  Single-player,Steam Achievements,Full controll...   \n",
       "2          Campião Games                                      Single-player   \n",
       "3      Odd Critter Games              Single-player,Full controller support   \n",
       "4          Unusual Games                   Single-player,Steam Achievements   \n",
       "\n",
       "                            Genres  \\\n",
       "0              Casual,Indie,Sports   \n",
       "1                     Action,Indie   \n",
       "2  Action,Adventure,Indie,Strategy   \n",
       "3           Adventure,Casual,Indie   \n",
       "4                  Adventure,Indie   \n",
       "\n",
       "                                                Tags  \\\n",
       "0                        Indie,Casual,Sports,Bowling   \n",
       "1  Indie,Action,Pixel Graphics,2D,Retro,Arcade,Sc...   \n",
       "2                                                NaN   \n",
       "3  2D Platformer,Atmospheric,Surreal,Mystery,Puzz...   \n",
       "4  Indie,Adventure,Nudity,Violent,Sexual Content,...   \n",
       "\n",
       "                                         Screenshots  \\\n",
       "0  https://cdn.akamai.steamstatic.com/steam/apps/...   \n",
       "1  https://cdn.akamai.steamstatic.com/steam/apps/...   \n",
       "2  https://cdn.akamai.steamstatic.com/steam/apps/...   \n",
       "3  https://cdn.akamai.steamstatic.com/steam/apps/...   \n",
       "4  https://cdn.akamai.steamstatic.com/steam/apps/...   \n",
       "\n",
       "                                              Movies  \n",
       "0  http://cdn.akamai.steamstatic.com/steam/apps/2...  \n",
       "1  http://cdn.akamai.steamstatic.com/steam/apps/2...  \n",
       "2  http://cdn.akamai.steamstatic.com/steam/apps/2...  \n",
       "3  http://cdn.akamai.steamstatic.com/steam/apps/2...  \n",
       "4  http://cdn.akamai.steamstatic.com/steam/apps/2...  "
      ]
     },
     "execution_count": 6,
     "metadata": {},
     "output_type": "execute_result"
    }
   ],
   "source": [
    "games.head(5)"
   ]
  },
  {
   "cell_type": "markdown",
   "metadata": {},
   "source": [
    "# Exploratory Data Analysis (EDA)"
   ]
  },
  {
   "cell_type": "markdown",
   "metadata": {},
   "source": [
    "## Functions"
   ]
  },
  {
   "cell_type": "code",
   "execution_count": 122,
   "metadata": {},
   "outputs": [],
   "source": [
    "def calculate_limits(df: pd.DataFrame, column : str):\n",
    "  # Calculate quantiles\n",
    "  q1 = df[column].quantile(0.25)\n",
    "  q3 = df[column].quantile(0.75)\n",
    "\n",
    "  # Calculate IQR\n",
    "  RIQ = q3 - q1\n",
    "\n",
    "  # Calculate lower and upper limits\n",
    "  lower_limit = max(q1 - 1.5 * RIQ, 0)\n",
    "  upper_limit = min(q3 + 1.5 * RIQ, df[column].max())\n",
    "\n",
    "  return lower_limit, upper_limit\n",
    "\n",
    "def replace_outliers(df : pd.DataFrame, columns : list):\n",
    "  for column in columns:\n",
    "    lower_limit, upper_limit = calculate_limits(df, column)\n",
    "\n",
    "    # Replace outliers\n",
    "    df[column] = np.where(\n",
    "    df[column] < lower_limit,\n",
    "    lower_limit,\n",
    "    np.where(\n",
    "        df[column] > upper_limit,\n",
    "        upper_limit,\n",
    "        df[column]\n",
    "        )\n",
    "    )\n",
    "  \n",
    "def count_outliers(df : pd.DataFrame, column: str):\n",
    "  lower_limit, upper_limit = calculate_limits(df, column)\n",
    "  return df[(df[column] < lower_limit) | (df[column] > upper_limit)].iloc[:, 0].count()\n",
    "\n",
    "def plot_hist_box(df : pd.DataFrame, column : str):\n",
    "  fig, (ax1, ax2) = plt.subplots(1, 2, figsize=(15,5))\n",
    "\n",
    "  sns.histplot(games[column], kde = True, ax = ax1)\n",
    "  sns.boxplot(x = games[column], ax = ax2)\n",
    "\n",
    "def plot_hist(series : pd.Series, bins : int, size : tuple, kde: bool):\n",
    "  plt.figure(figsize = size)\n",
    "\n",
    "  sns.histplot(series, kde = kde, bins = bins)\n",
    "\n",
    "def plot_box(series : pd.Series, size : tuple):\n",
    "  plt.figure(figsize = size)\n",
    "\n",
    "  sns.boxplot(x = series)"
   ]
  },
  {
   "cell_type": "markdown",
   "metadata": {},
   "source": [
    "## Data Inspection"
   ]
  },
  {
   "cell_type": "code",
   "execution_count": 5,
   "metadata": {},
   "outputs": [
    {
     "data": {
      "text/html": [
       "<div>\n",
       "<style scoped>\n",
       "    .dataframe tbody tr th:only-of-type {\n",
       "        vertical-align: middle;\n",
       "    }\n",
       "\n",
       "    .dataframe tbody tr th {\n",
       "        vertical-align: top;\n",
       "    }\n",
       "\n",
       "    .dataframe thead th {\n",
       "        text-align: right;\n",
       "    }\n",
       "</style>\n",
       "<table border=\"1\" class=\"dataframe\">\n",
       "  <thead>\n",
       "    <tr style=\"text-align: right;\">\n",
       "      <th></th>\n",
       "      <th>count</th>\n",
       "      <th>mean</th>\n",
       "      <th>std</th>\n",
       "      <th>min</th>\n",
       "      <th>25%</th>\n",
       "      <th>50%</th>\n",
       "      <th>75%</th>\n",
       "      <th>max</th>\n",
       "    </tr>\n",
       "  </thead>\n",
       "  <tbody>\n",
       "    <tr>\n",
       "      <th>AppID</th>\n",
       "      <td>71716.0</td>\n",
       "      <td>1.199222e+06</td>\n",
       "      <td>598223.776787</td>\n",
       "      <td>10.0</td>\n",
       "      <td>700535.00</td>\n",
       "      <td>1176745.00</td>\n",
       "      <td>1692255.00</td>\n",
       "      <td>2379920.0</td>\n",
       "    </tr>\n",
       "    <tr>\n",
       "      <th>Peak CCU</th>\n",
       "      <td>71716.0</td>\n",
       "      <td>1.407612e+02</td>\n",
       "      <td>5797.005513</td>\n",
       "      <td>0.0</td>\n",
       "      <td>0.00</td>\n",
       "      <td>0.00</td>\n",
       "      <td>1.00</td>\n",
       "      <td>872138.0</td>\n",
       "    </tr>\n",
       "    <tr>\n",
       "      <th>Required age</th>\n",
       "      <td>71716.0</td>\n",
       "      <td>3.434938e-01</td>\n",
       "      <td>2.362128</td>\n",
       "      <td>0.0</td>\n",
       "      <td>0.00</td>\n",
       "      <td>0.00</td>\n",
       "      <td>0.00</td>\n",
       "      <td>21.0</td>\n",
       "    </tr>\n",
       "    <tr>\n",
       "      <th>Price</th>\n",
       "      <td>71716.0</td>\n",
       "      <td>7.223055e+00</td>\n",
       "      <td>11.072051</td>\n",
       "      <td>0.0</td>\n",
       "      <td>0.99</td>\n",
       "      <td>4.99</td>\n",
       "      <td>9.99</td>\n",
       "      <td>999.0</td>\n",
       "    </tr>\n",
       "    <tr>\n",
       "      <th>DLC count</th>\n",
       "      <td>71716.0</td>\n",
       "      <td>6.153857e-01</td>\n",
       "      <td>14.932853</td>\n",
       "      <td>0.0</td>\n",
       "      <td>0.00</td>\n",
       "      <td>0.00</td>\n",
       "      <td>0.00</td>\n",
       "      <td>2366.0</td>\n",
       "    </tr>\n",
       "    <tr>\n",
       "      <th>Metacritic score</th>\n",
       "      <td>71716.0</td>\n",
       "      <td>3.834207e+00</td>\n",
       "      <td>16.437707</td>\n",
       "      <td>0.0</td>\n",
       "      <td>0.00</td>\n",
       "      <td>0.00</td>\n",
       "      <td>0.00</td>\n",
       "      <td>97.0</td>\n",
       "    </tr>\n",
       "    <tr>\n",
       "      <th>User score</th>\n",
       "      <td>71716.0</td>\n",
       "      <td>4.496904e-02</td>\n",
       "      <td>1.901272</td>\n",
       "      <td>0.0</td>\n",
       "      <td>0.00</td>\n",
       "      <td>0.00</td>\n",
       "      <td>0.00</td>\n",
       "      <td>100.0</td>\n",
       "    </tr>\n",
       "    <tr>\n",
       "      <th>Positive</th>\n",
       "      <td>71716.0</td>\n",
       "      <td>1.114753e+03</td>\n",
       "      <td>26522.457248</td>\n",
       "      <td>0.0</td>\n",
       "      <td>1.00</td>\n",
       "      <td>9.00</td>\n",
       "      <td>59.00</td>\n",
       "      <td>5764420.0</td>\n",
       "    </tr>\n",
       "    <tr>\n",
       "      <th>Negative</th>\n",
       "      <td>71716.0</td>\n",
       "      <td>1.821155e+02</td>\n",
       "      <td>4975.205765</td>\n",
       "      <td>0.0</td>\n",
       "      <td>0.00</td>\n",
       "      <td>3.00</td>\n",
       "      <td>18.00</td>\n",
       "      <td>895978.0</td>\n",
       "    </tr>\n",
       "    <tr>\n",
       "      <th>Score rank</th>\n",
       "      <td>42.0</td>\n",
       "      <td>9.890476e+01</td>\n",
       "      <td>0.878178</td>\n",
       "      <td>97.0</td>\n",
       "      <td>98.00</td>\n",
       "      <td>99.00</td>\n",
       "      <td>100.00</td>\n",
       "      <td>100.0</td>\n",
       "    </tr>\n",
       "    <tr>\n",
       "      <th>Achievements</th>\n",
       "      <td>71716.0</td>\n",
       "      <td>2.164198e+01</td>\n",
       "      <td>185.583590</td>\n",
       "      <td>0.0</td>\n",
       "      <td>0.00</td>\n",
       "      <td>1.00</td>\n",
       "      <td>19.00</td>\n",
       "      <td>9821.0</td>\n",
       "    </tr>\n",
       "    <tr>\n",
       "      <th>Recommendations</th>\n",
       "      <td>71716.0</td>\n",
       "      <td>8.981185e+02</td>\n",
       "      <td>19476.270588</td>\n",
       "      <td>0.0</td>\n",
       "      <td>0.00</td>\n",
       "      <td>0.00</td>\n",
       "      <td>0.00</td>\n",
       "      <td>3441592.0</td>\n",
       "    </tr>\n",
       "    <tr>\n",
       "      <th>Average playtime forever</th>\n",
       "      <td>71716.0</td>\n",
       "      <td>1.191587e+02</td>\n",
       "      <td>1230.102924</td>\n",
       "      <td>0.0</td>\n",
       "      <td>0.00</td>\n",
       "      <td>0.00</td>\n",
       "      <td>0.00</td>\n",
       "      <td>145727.0</td>\n",
       "    </tr>\n",
       "    <tr>\n",
       "      <th>Average playtime two weeks</th>\n",
       "      <td>71716.0</td>\n",
       "      <td>1.173469e+01</td>\n",
       "      <td>203.818348</td>\n",
       "      <td>0.0</td>\n",
       "      <td>0.00</td>\n",
       "      <td>0.00</td>\n",
       "      <td>0.00</td>\n",
       "      <td>19159.0</td>\n",
       "    </tr>\n",
       "    <tr>\n",
       "      <th>Median playtime forever</th>\n",
       "      <td>71716.0</td>\n",
       "      <td>1.068737e+02</td>\n",
       "      <td>1641.336319</td>\n",
       "      <td>0.0</td>\n",
       "      <td>0.00</td>\n",
       "      <td>0.00</td>\n",
       "      <td>0.00</td>\n",
       "      <td>208473.0</td>\n",
       "    </tr>\n",
       "    <tr>\n",
       "      <th>Median playtime two weeks</th>\n",
       "      <td>71716.0</td>\n",
       "      <td>1.258083e+01</td>\n",
       "      <td>221.150372</td>\n",
       "      <td>0.0</td>\n",
       "      <td>0.00</td>\n",
       "      <td>0.00</td>\n",
       "      <td>0.00</td>\n",
       "      <td>19159.0</td>\n",
       "    </tr>\n",
       "  </tbody>\n",
       "</table>\n",
       "</div>"
      ],
      "text/plain": [
       "                              count          mean            std   min  \\\n",
       "AppID                       71716.0  1.199222e+06  598223.776787  10.0   \n",
       "Peak CCU                    71716.0  1.407612e+02    5797.005513   0.0   \n",
       "Required age                71716.0  3.434938e-01       2.362128   0.0   \n",
       "Price                       71716.0  7.223055e+00      11.072051   0.0   \n",
       "DLC count                   71716.0  6.153857e-01      14.932853   0.0   \n",
       "Metacritic score            71716.0  3.834207e+00      16.437707   0.0   \n",
       "User score                  71716.0  4.496904e-02       1.901272   0.0   \n",
       "Positive                    71716.0  1.114753e+03   26522.457248   0.0   \n",
       "Negative                    71716.0  1.821155e+02    4975.205765   0.0   \n",
       "Score rank                     42.0  9.890476e+01       0.878178  97.0   \n",
       "Achievements                71716.0  2.164198e+01     185.583590   0.0   \n",
       "Recommendations             71716.0  8.981185e+02   19476.270588   0.0   \n",
       "Average playtime forever    71716.0  1.191587e+02    1230.102924   0.0   \n",
       "Average playtime two weeks  71716.0  1.173469e+01     203.818348   0.0   \n",
       "Median playtime forever     71716.0  1.068737e+02    1641.336319   0.0   \n",
       "Median playtime two weeks   71716.0  1.258083e+01     221.150372   0.0   \n",
       "\n",
       "                                  25%         50%         75%        max  \n",
       "AppID                       700535.00  1176745.00  1692255.00  2379920.0  \n",
       "Peak CCU                         0.00        0.00        1.00   872138.0  \n",
       "Required age                     0.00        0.00        0.00       21.0  \n",
       "Price                            0.99        4.99        9.99      999.0  \n",
       "DLC count                        0.00        0.00        0.00     2366.0  \n",
       "Metacritic score                 0.00        0.00        0.00       97.0  \n",
       "User score                       0.00        0.00        0.00      100.0  \n",
       "Positive                         1.00        9.00       59.00  5764420.0  \n",
       "Negative                         0.00        3.00       18.00   895978.0  \n",
       "Score rank                      98.00       99.00      100.00      100.0  \n",
       "Achievements                     0.00        1.00       19.00     9821.0  \n",
       "Recommendations                  0.00        0.00        0.00  3441592.0  \n",
       "Average playtime forever         0.00        0.00        0.00   145727.0  \n",
       "Average playtime two weeks       0.00        0.00        0.00    19159.0  \n",
       "Median playtime forever          0.00        0.00        0.00   208473.0  \n",
       "Median playtime two weeks        0.00        0.00        0.00    19159.0  "
      ]
     },
     "execution_count": 5,
     "metadata": {},
     "output_type": "execute_result"
    }
   ],
   "source": [
    "# Descriptive statistics for numerical columns\n",
    "games.select_dtypes(include = [\"int64\", \"float64\"]).describe().T"
   ]
  },
  {
   "cell_type": "code",
   "execution_count": 6,
   "metadata": {},
   "outputs": [
    {
     "data": {
      "text/html": [
       "<div>\n",
       "<style scoped>\n",
       "    .dataframe tbody tr th:only-of-type {\n",
       "        vertical-align: middle;\n",
       "    }\n",
       "\n",
       "    .dataframe tbody tr th {\n",
       "        vertical-align: top;\n",
       "    }\n",
       "\n",
       "    .dataframe thead th {\n",
       "        text-align: right;\n",
       "    }\n",
       "</style>\n",
       "<table border=\"1\" class=\"dataframe\">\n",
       "  <thead>\n",
       "    <tr style=\"text-align: right;\">\n",
       "      <th></th>\n",
       "      <th>count</th>\n",
       "      <th>unique</th>\n",
       "      <th>top</th>\n",
       "      <th>freq</th>\n",
       "    </tr>\n",
       "  </thead>\n",
       "  <tbody>\n",
       "    <tr>\n",
       "      <th>Name</th>\n",
       "      <td>71715</td>\n",
       "      <td>71170</td>\n",
       "      <td>Shadow of the Tomb Raider: Definitive Edition</td>\n",
       "      <td>20</td>\n",
       "    </tr>\n",
       "    <tr>\n",
       "      <th>Release date</th>\n",
       "      <td>71716</td>\n",
       "      <td>4170</td>\n",
       "      <td>Dec 1, 2022</td>\n",
       "      <td>97</td>\n",
       "    </tr>\n",
       "    <tr>\n",
       "      <th>Estimated owners</th>\n",
       "      <td>71716</td>\n",
       "      <td>14</td>\n",
       "      <td>0 - 20000</td>\n",
       "      <td>47372</td>\n",
       "    </tr>\n",
       "    <tr>\n",
       "      <th>About the game</th>\n",
       "      <td>69280</td>\n",
       "      <td>68942</td>\n",
       "      <td>Help the beautiful girls to immerse themselves...</td>\n",
       "      <td>53</td>\n",
       "    </tr>\n",
       "    <tr>\n",
       "      <th>Supported languages</th>\n",
       "      <td>71716</td>\n",
       "      <td>9663</td>\n",
       "      <td>['English']</td>\n",
       "      <td>37560</td>\n",
       "    </tr>\n",
       "    <tr>\n",
       "      <th>Full audio languages</th>\n",
       "      <td>71716</td>\n",
       "      <td>1935</td>\n",
       "      <td>[]</td>\n",
       "      <td>41313</td>\n",
       "    </tr>\n",
       "    <tr>\n",
       "      <th>Reviews</th>\n",
       "      <td>9167</td>\n",
       "      <td>9074</td>\n",
       "      <td>“The most ambitious in the modern trilogy” 9/1...</td>\n",
       "      <td>20</td>\n",
       "    </tr>\n",
       "    <tr>\n",
       "      <th>Header image</th>\n",
       "      <td>71716</td>\n",
       "      <td>71612</td>\n",
       "      <td>https://cdn.akamai.steamstatic.com/steam/apps/...</td>\n",
       "      <td>20</td>\n",
       "    </tr>\n",
       "    <tr>\n",
       "      <th>Website</th>\n",
       "      <td>35073</td>\n",
       "      <td>28855</td>\n",
       "      <td>https://www.facebook.com/8FloorGames/</td>\n",
       "      <td>242</td>\n",
       "    </tr>\n",
       "    <tr>\n",
       "      <th>Support url</th>\n",
       "      <td>36250</td>\n",
       "      <td>23995</td>\n",
       "      <td>https://www.facebook.com/8FloorGames</td>\n",
       "      <td>270</td>\n",
       "    </tr>\n",
       "    <tr>\n",
       "      <th>Support email</th>\n",
       "      <td>60596</td>\n",
       "      <td>35871</td>\n",
       "      <td>info@bigfishgames.com</td>\n",
       "      <td>325</td>\n",
       "    </tr>\n",
       "    <tr>\n",
       "      <th>Metacritic url</th>\n",
       "      <td>3778</td>\n",
       "      <td>3683</td>\n",
       "      <td>https://www.metacritic.com/game/pc/shadow-of-t...</td>\n",
       "      <td>20</td>\n",
       "    </tr>\n",
       "    <tr>\n",
       "      <th>Notes</th>\n",
       "      <td>10442</td>\n",
       "      <td>8499</td>\n",
       "      <td>This Game may contain content not appropriate ...</td>\n",
       "      <td>94</td>\n",
       "    </tr>\n",
       "    <tr>\n",
       "      <th>Developers</th>\n",
       "      <td>69255</td>\n",
       "      <td>42614</td>\n",
       "      <td>Choice of Games</td>\n",
       "      <td>148</td>\n",
       "    </tr>\n",
       "    <tr>\n",
       "      <th>Publishers</th>\n",
       "      <td>68996</td>\n",
       "      <td>36814</td>\n",
       "      <td>Big Fish Games</td>\n",
       "      <td>460</td>\n",
       "    </tr>\n",
       "    <tr>\n",
       "      <th>Categories</th>\n",
       "      <td>68309</td>\n",
       "      <td>5236</td>\n",
       "      <td>Single-player</td>\n",
       "      <td>19890</td>\n",
       "    </tr>\n",
       "    <tr>\n",
       "      <th>Genres</th>\n",
       "      <td>69277</td>\n",
       "      <td>2201</td>\n",
       "      <td>Casual,Indie</td>\n",
       "      <td>4142</td>\n",
       "    </tr>\n",
       "    <tr>\n",
       "      <th>Tags</th>\n",
       "      <td>57702</td>\n",
       "      <td>50998</td>\n",
       "      <td>Indie,Casual</td>\n",
       "      <td>293</td>\n",
       "    </tr>\n",
       "    <tr>\n",
       "      <th>Screenshots</th>\n",
       "      <td>70387</td>\n",
       "      <td>70283</td>\n",
       "      <td>https://cdn.akamai.steamstatic.com/steam/apps/...</td>\n",
       "      <td>20</td>\n",
       "    </tr>\n",
       "    <tr>\n",
       "      <th>Movies</th>\n",
       "      <td>66668</td>\n",
       "      <td>66601</td>\n",
       "      <td>http://cdn.akamai.steamstatic.com/steam/apps/2...</td>\n",
       "      <td>20</td>\n",
       "    </tr>\n",
       "  </tbody>\n",
       "</table>\n",
       "</div>"
      ],
      "text/plain": [
       "                      count unique  \\\n",
       "Name                  71715  71170   \n",
       "Release date          71716   4170   \n",
       "Estimated owners      71716     14   \n",
       "About the game        69280  68942   \n",
       "Supported languages   71716   9663   \n",
       "Full audio languages  71716   1935   \n",
       "Reviews                9167   9074   \n",
       "Header image          71716  71612   \n",
       "Website               35073  28855   \n",
       "Support url           36250  23995   \n",
       "Support email         60596  35871   \n",
       "Metacritic url         3778   3683   \n",
       "Notes                 10442   8499   \n",
       "Developers            69255  42614   \n",
       "Publishers            68996  36814   \n",
       "Categories            68309   5236   \n",
       "Genres                69277   2201   \n",
       "Tags                  57702  50998   \n",
       "Screenshots           70387  70283   \n",
       "Movies                66668  66601   \n",
       "\n",
       "                                                                    top   freq  \n",
       "Name                      Shadow of the Tomb Raider: Definitive Edition     20  \n",
       "Release date                                                Dec 1, 2022     97  \n",
       "Estimated owners                                              0 - 20000  47372  \n",
       "About the game        Help the beautiful girls to immerse themselves...     53  \n",
       "Supported languages                                         ['English']  37560  \n",
       "Full audio languages                                                 []  41313  \n",
       "Reviews               “The most ambitious in the modern trilogy” 9/1...     20  \n",
       "Header image          https://cdn.akamai.steamstatic.com/steam/apps/...     20  \n",
       "Website                           https://www.facebook.com/8FloorGames/    242  \n",
       "Support url                        https://www.facebook.com/8FloorGames    270  \n",
       "Support email                                     info@bigfishgames.com    325  \n",
       "Metacritic url        https://www.metacritic.com/game/pc/shadow-of-t...     20  \n",
       "Notes                 This Game may contain content not appropriate ...     94  \n",
       "Developers                                              Choice of Games    148  \n",
       "Publishers                                               Big Fish Games    460  \n",
       "Categories                                                Single-player  19890  \n",
       "Genres                                                     Casual,Indie   4142  \n",
       "Tags                                                       Indie,Casual    293  \n",
       "Screenshots           https://cdn.akamai.steamstatic.com/steam/apps/...     20  \n",
       "Movies                http://cdn.akamai.steamstatic.com/steam/apps/2...     20  "
      ]
     },
     "execution_count": 6,
     "metadata": {},
     "output_type": "execute_result"
    }
   ],
   "source": [
    "# Descriptive statistics for categorical columns\n",
    "games.select_dtypes(include = \"object\").describe().T"
   ]
  },
  {
   "cell_type": "markdown",
   "metadata": {},
   "source": [
    "## Data Cleaning"
   ]
  },
  {
   "cell_type": "code",
   "execution_count": 7,
   "metadata": {},
   "outputs": [],
   "source": [
    "# Drop column AppID\n",
    "games.drop(columns = ['AppID'], inplace = True)"
   ]
  },
  {
   "cell_type": "code",
   "execution_count": 8,
   "metadata": {},
   "outputs": [],
   "source": [
    "# Columns that will not be used for analysis\n",
    "not_useful_columns = ['Name', 'About the game', 'Supported languages', 'Full audio languages',\n",
    "                      'Header image', 'Support email', 'Developers', 'Publishers', 'Categories',\n",
    "                      'Tags', 'Screenshots', 'Movies']"
   ]
  },
  {
   "cell_type": "code",
   "execution_count": 9,
   "metadata": {},
   "outputs": [],
   "source": [
    "games.drop(columns = not_useful_columns, inplace = True)"
   ]
  },
  {
   "cell_type": "code",
   "execution_count": 10,
   "metadata": {},
   "outputs": [],
   "source": [
    "# Check for missing values on based on percentage\n",
    "null_percentage = (games.isnull().sum() / games.shape[0]) * 100 "
   ]
  },
  {
   "cell_type": "code",
   "execution_count": 11,
   "metadata": {},
   "outputs": [],
   "source": [
    "# Columns with more than 15% missing values\n",
    "cols_del = null_percentage[null_percentage > 15]"
   ]
  },
  {
   "cell_type": "code",
   "execution_count": 12,
   "metadata": {},
   "outputs": [
    {
     "data": {
      "text/plain": [
       "Reviews           87.217636\n",
       "Website           51.094595\n",
       "Support url       49.453400\n",
       "Metacritic url    94.731998\n",
       "Score rank        99.941436\n",
       "Notes             85.439790\n",
       "dtype: float64"
      ]
     },
     "execution_count": 12,
     "metadata": {},
     "output_type": "execute_result"
    }
   ],
   "source": [
    "cols_del"
   ]
  },
  {
   "cell_type": "code",
   "execution_count": 13,
   "metadata": {},
   "outputs": [],
   "source": [
    "# Drop columns with more than 15% missing values\n",
    "games = games.drop(columns = list(cols_del.index))"
   ]
  },
  {
   "cell_type": "code",
   "execution_count": 14,
   "metadata": {},
   "outputs": [
    {
     "name": "stdout",
     "output_type": "stream",
     "text": [
      "<class 'pandas.core.frame.DataFrame'>\n",
      "RangeIndex: 71716 entries, 0 to 71715\n",
      "Data columns (total 20 columns):\n",
      " #   Column                      Non-Null Count  Dtype  \n",
      "---  ------                      --------------  -----  \n",
      " 0   Release date                71716 non-null  object \n",
      " 1   Estimated owners            71716 non-null  object \n",
      " 2   Peak CCU                    71716 non-null  int64  \n",
      " 3   Required age                71716 non-null  int64  \n",
      " 4   Price                       71716 non-null  float64\n",
      " 5   DLC count                   71716 non-null  int64  \n",
      " 6   Windows                     71716 non-null  bool   \n",
      " 7   Mac                         71716 non-null  bool   \n",
      " 8   Linux                       71716 non-null  bool   \n",
      " 9   Metacritic score            71716 non-null  int64  \n",
      " 10  User score                  71716 non-null  int64  \n",
      " 11  Positive                    71716 non-null  int64  \n",
      " 12  Negative                    71716 non-null  int64  \n",
      " 13  Achievements                71716 non-null  int64  \n",
      " 14  Recommendations             71716 non-null  int64  \n",
      " 15  Average playtime forever    71716 non-null  int64  \n",
      " 16  Average playtime two weeks  71716 non-null  int64  \n",
      " 17  Median playtime forever     71716 non-null  int64  \n",
      " 18  Median playtime two weeks   71716 non-null  int64  \n",
      " 19  Genres                      69277 non-null  object \n",
      "dtypes: bool(3), float64(1), int64(13), object(3)\n",
      "memory usage: 9.5+ MB\n"
     ]
    }
   ],
   "source": [
    "games.info()"
   ]
  },
  {
   "cell_type": "code",
   "execution_count": 15,
   "metadata": {},
   "outputs": [
    {
     "name": "stderr",
     "output_type": "stream",
     "text": [
      "C:\\Users\\HP\\AppData\\Local\\Temp\\ipykernel_9264\\2096294092.py:1: FutureWarning: A value is trying to be set on a copy of a DataFrame or Series through chained assignment using an inplace method.\n",
      "The behavior will change in pandas 3.0. This inplace method will never work because the intermediate object on which we are setting values always behaves as a copy.\n",
      "\n",
      "For example, when doing 'df[col].method(value, inplace=True)', try using 'df.method({col: value}, inplace=True)' or df[col] = df[col].method(value) instead, to perform the operation inplace on the original object.\n",
      "\n",
      "\n",
      "  games['Genres'].fillna(value=games['Genres'].mode()[0], inplace = True)\n"
     ]
    }
   ],
   "source": [
    "games['Genres'].fillna(value=games['Genres'].mode()[0], inplace = True)"
   ]
  },
  {
   "cell_type": "code",
   "execution_count": 43,
   "metadata": {},
   "outputs": [],
   "source": [
    "games['Release date'] = pd.to_datetime(games['Release date'], format=\"%b %d, %Y\", errors = 'coerce')"
   ]
  },
  {
   "cell_type": "code",
   "execution_count": 48,
   "metadata": {},
   "outputs": [],
   "source": [
    "games.dropna(axis= 0, inplace = True)"
   ]
  },
  {
   "cell_type": "markdown",
   "metadata": {},
   "source": [
    "## Visualization"
   ]
  },
  {
   "cell_type": "markdown",
   "metadata": {},
   "source": [
    "### Price"
   ]
  },
  {
   "cell_type": "code",
   "execution_count": 16,
   "metadata": {},
   "outputs": [
    {
     "data": {
      "image/png": "[encoded data removed]",
      "text/plain": [
       "<Figure size 1500x500 with 2 Axes>"
      ]
     },
     "metadata": {},
     "output_type": "display_data"
    }
   ],
   "source": [
    "plot_hist_box(games, 'Price')"
   ]
  },
  {
   "cell_type": "code",
   "execution_count": 66,
   "metadata": {},
   "outputs": [
    {
     "data": {
      "text/plain": [
       "3343"
      ]
     },
     "execution_count": 66,
     "metadata": {},
     "output_type": "execute_result"
    }
   ],
   "source": [
    "# Number of outliers in 'Price'\n",
    "count_outliers(games, 'Price')"
   ]
  },
  {
   "cell_type": "markdown",
   "metadata": {},
   "source": [
    "### Peak CCU"
   ]
  },
  {
   "cell_type": "code",
   "execution_count": 24,
   "metadata": {},
   "outputs": [
    {
     "data": {
      "text/plain": [
       "count     71716.000000\n",
       "mean        140.761197\n",
       "std        5797.005513\n",
       "min           0.000000\n",
       "25%           0.000000\n",
       "50%           0.000000\n",
       "75%           1.000000\n",
       "max      872138.000000\n",
       "Name: Peak CCU, dtype: float64"
      ]
     },
     "execution_count": 24,
     "metadata": {},
     "output_type": "execute_result"
    }
   ],
   "source": [
    "games['Peak CCU'].describe()"
   ]
  },
  {
   "cell_type": "code",
   "execution_count": 65,
   "metadata": {},
   "outputs": [
    {
     "data": {
      "text/plain": [
       "11034"
      ]
     },
     "execution_count": 65,
     "metadata": {},
     "output_type": "execute_result"
    }
   ],
   "source": [
    "# Number of outliers in 'Peak CCU'\n",
    "count_outliers(games, 'Peak CCU')"
   ]
  },
  {
   "cell_type": "markdown",
   "metadata": {},
   "source": [
    "### Required Age"
   ]
  },
  {
   "cell_type": "code",
   "execution_count": 54,
   "metadata": {},
   "outputs": [
    {
     "data": {
      "image/png": "[encoded data removed]",
      "text/plain": [
       "<Figure size 1500x500 with 2 Axes>"
      ]
     },
     "metadata": {},
     "output_type": "display_data"
    }
   ],
   "source": [
    "plot_hist_box(games, 'Required age')"
   ]
  },
  {
   "cell_type": "code",
   "execution_count": 68,
   "metadata": {},
   "outputs": [
    {
     "data": {
      "text/plain": [
       "1512"
      ]
     },
     "execution_count": 68,
     "metadata": {},
     "output_type": "execute_result"
    }
   ],
   "source": [
    "count_outliers(games, 'Required age')"
   ]
  },
  {
   "cell_type": "markdown",
   "metadata": {},
   "source": [
    "### DLC Count"
   ]
  },
  {
   "cell_type": "code",
   "execution_count": 71,
   "metadata": {},
   "outputs": [
    {
     "data": {
      "image/png": "[encoded data removed]",
      "text/plain": [
       "<Figure size 1500x500 with 2 Axes>"
      ]
     },
     "metadata": {},
     "output_type": "display_data"
    }
   ],
   "source": [
    "plot_hist_box(games, 'DLC count')"
   ]
  },
  {
   "cell_type": "code",
   "execution_count": 72,
   "metadata": {},
   "outputs": [
    {
     "data": {
      "text/plain": [
       "10829"
      ]
     },
     "execution_count": 72,
     "metadata": {},
     "output_type": "execute_result"
    }
   ],
   "source": [
    "count_outliers(games, 'DLC count')"
   ]
  },
  {
   "cell_type": "markdown",
   "metadata": {},
   "source": [
    "### Metacritic Score"
   ]
  },
  {
   "cell_type": "code",
   "execution_count": 76,
   "metadata": {},
   "outputs": [
    {
     "data": {
      "image/png": "[encoded data removed]",
      "text/plain": [
       "<Figure size 1500x500 with 2 Axes>"
      ]
     },
     "metadata": {},
     "output_type": "display_data"
    }
   ],
   "source": [
    "plot_hist_box(games, 'Metacritic score')"
   ]
  },
  {
   "cell_type": "code",
   "execution_count": 77,
   "metadata": {},
   "outputs": [
    {
     "data": {
      "text/plain": [
       "3763"
      ]
     },
     "execution_count": 77,
     "metadata": {},
     "output_type": "execute_result"
    }
   ],
   "source": [
    "count_outliers(games, 'Metacritic score')"
   ]
  },
  {
   "cell_type": "markdown",
   "metadata": {},
   "source": [
    "### User score"
   ]
  },
  {
   "cell_type": "code",
   "execution_count": 78,
   "metadata": {},
   "outputs": [
    {
     "data": {
      "image/png": "[encoded data removed]",
      "text/plain": [
       "<Figure size 1500x500 with 2 Axes>"
      ]
     },
     "metadata": {},
     "output_type": "display_data"
    }
   ],
   "source": [
    "plot_hist_box(games, 'User score')"
   ]
  },
  {
   "cell_type": "code",
   "execution_count": 79,
   "metadata": {},
   "outputs": [
    {
     "data": {
      "text/plain": [
       "42"
      ]
     },
     "execution_count": 79,
     "metadata": {},
     "output_type": "execute_result"
    }
   ],
   "source": [
    "count_outliers(games, 'User score')"
   ]
  },
  {
   "cell_type": "markdown",
   "metadata": {},
   "source": [
    "### Positive"
   ]
  },
  {
   "cell_type": "code",
   "execution_count": 89,
   "metadata": {},
   "outputs": [
    {
     "data": {
      "text/plain": [
       "count    7.159200e+04\n",
       "mean     1.106800e+03\n",
       "std      2.647253e+04\n",
       "min      0.000000e+00\n",
       "25%      1.000000e+00\n",
       "50%      9.000000e+00\n",
       "75%      5.800000e+01\n",
       "max      5.764420e+06\n",
       "Name: Positive, dtype: float64"
      ]
     },
     "execution_count": 89,
     "metadata": {},
     "output_type": "execute_result"
    }
   ],
   "source": [
    "games['Positive'].describe()"
   ]
  },
  {
   "cell_type": "code",
   "execution_count": 90,
   "metadata": {},
   "outputs": [
    {
     "data": {
      "text/plain": [
       "12165"
      ]
     },
     "execution_count": 90,
     "metadata": {},
     "output_type": "execute_result"
    }
   ],
   "source": [
    "count_outliers(games, 'Positive')"
   ]
  },
  {
   "cell_type": "markdown",
   "metadata": {},
   "source": [
    "### Negative"
   ]
  },
  {
   "cell_type": "code",
   "execution_count": 91,
   "metadata": {},
   "outputs": [
    {
     "data": {
      "text/plain": [
       "count     71592.000000\n",
       "mean        181.749818\n",
       "std        4979.096429\n",
       "min           0.000000\n",
       "25%           0.000000\n",
       "50%           3.000000\n",
       "75%          18.000000\n",
       "max      895978.000000\n",
       "Name: Negative, dtype: float64"
      ]
     },
     "execution_count": 91,
     "metadata": {},
     "output_type": "execute_result"
    }
   ],
   "source": [
    "games['Negative'].describe()"
   ]
  },
  {
   "cell_type": "code",
   "execution_count": 92,
   "metadata": {},
   "outputs": [
    {
     "data": {
      "text/plain": [
       "11414"
      ]
     },
     "execution_count": 92,
     "metadata": {},
     "output_type": "execute_result"
    }
   ],
   "source": [
    "count_outliers(games, 'Negative')"
   ]
  },
  {
   "cell_type": "markdown",
   "metadata": {},
   "source": [
    "### Achievements"
   ]
  },
  {
   "cell_type": "code",
   "execution_count": 103,
   "metadata": {},
   "outputs": [
    {
     "data": {
      "image/png": "[encoded data removed]",
      "text/plain": [
       "<Figure size 1500x500 with 1 Axes>"
      ]
     },
     "metadata": {},
     "output_type": "display_data"
    }
   ],
   "source": [
    "plot_hist(games['Achievements'], bins = 100, size = (15, 5), kde = True)"
   ]
  },
  {
   "cell_type": "code",
   "execution_count": 105,
   "metadata": {},
   "outputs": [
    {
     "data": {
      "text/plain": [
       "4958"
      ]
     },
     "execution_count": 105,
     "metadata": {},
     "output_type": "execute_result"
    }
   ],
   "source": [
    "count_outliers(games, 'Achievements')"
   ]
  },
  {
   "cell_type": "markdown",
   "metadata": {},
   "source": [
    "### Recommendations"
   ]
  },
  {
   "cell_type": "code",
   "execution_count": 111,
   "metadata": {},
   "outputs": [
    {
     "data": {
      "image/png": "[encoded data removed]",
      "text/plain": [
       "<Figure size 1500x500 with 1 Axes>"
      ]
     },
     "metadata": {},
     "output_type": "display_data"
    }
   ],
   "source": [
    "plot_hist(games['Recommendations'], bins = 10, kde = True, size = (15, 5))"
   ]
  },
  {
   "cell_type": "code",
   "execution_count": 112,
   "metadata": {},
   "outputs": [
    {
     "data": {
      "image/png": "[encoded data removed]",
      "text/plain": [
       "<Figure size 1500x500 with 1 Axes>"
      ]
     },
     "metadata": {},
     "output_type": "display_data"
    }
   ],
   "source": [
    "plot_box(games['Recommendations'], size = (15,5))"
   ]
  },
  {
   "cell_type": "code",
   "execution_count": 113,
   "metadata": {},
   "outputs": [
    {
     "data": {
      "text/plain": [
       "12793"
      ]
     },
     "execution_count": 113,
     "metadata": {},
     "output_type": "execute_result"
    }
   ],
   "source": [
    "count_outliers(games, 'Recommendations')"
   ]
  },
  {
   "cell_type": "markdown",
   "metadata": {},
   "source": [
    "## Pre-processing"
   ]
  },
  {
   "cell_type": "code",
   "execution_count": 115,
   "metadata": {},
   "outputs": [],
   "source": [
    "outliers = ['Price']"
   ]
  },
  {
   "cell_type": "code",
   "execution_count": 119,
   "metadata": {},
   "outputs": [],
   "source": [
    "replace_outliers(games, outliers)"
   ]
  },
  {
   "cell_type": "code",
   "execution_count": 131,
   "metadata": {},
   "outputs": [],
   "source": [
    "games['+15'] = games['Required age'].apply(lambda x: 1 if x >= 18 else 0)"
   ]
  },
  {
   "cell_type": "code",
   "execution_count": 134,
   "metadata": {},
   "outputs": [],
   "source": [
    "games.drop(columns = ['Required age'], inplace = True)"
   ]
  },
  {
   "cell_type": "code",
   "execution_count": 136,
   "metadata": {},
   "outputs": [
    {
     "name": "stdout",
     "output_type": "stream",
     "text": [
      "<class 'pandas.core.frame.DataFrame'>\n",
      "Index: 71592 entries, 0 to 71715\n",
      "Data columns (total 20 columns):\n",
      " #   Column                      Non-Null Count  Dtype         \n",
      "---  ------                      --------------  -----         \n",
      " 0   Release date                71592 non-null  datetime64[ns]\n",
      " 1   Estimated owners            71592 non-null  object        \n",
      " 2   Peak CCU                    71592 non-null  int64         \n",
      " 3   Price                       71592 non-null  float64       \n",
      " 4   DLC count                   71592 non-null  int64         \n",
      " 5   Windows                     71592 non-null  bool          \n",
      " 6   Mac                         71592 non-null  bool          \n",
      " 7   Linux                       71592 non-null  bool          \n",
      " 8   Metacritic score            71592 non-null  int64         \n",
      " 9   User score                  71592 non-null  int64         \n",
      " 10  Positive                    71592 non-null  int64         \n",
      " 11  Negative                    71592 non-null  int64         \n",
      " 12  Achievements                71592 non-null  int64         \n",
      " 13  Recommendations             71592 non-null  int64         \n",
      " 14  Average playtime forever    71592 non-null  int64         \n",
      " 15  Average playtime two weeks  71592 non-null  int64         \n",
      " 16  Median playtime forever     71592 non-null  int64         \n",
      " 17  Median playtime two weeks   71592 non-null  int64         \n",
      " 18  Genres                      71592 non-null  object        \n",
      " 19  +15                         71592 non-null  int64         \n",
      "dtypes: bool(3), datetime64[ns](1), float64(1), int64(13), object(2)\n",
      "memory usage: 10.0+ MB\n"
     ]
    }
   ],
   "source": [
    "games.info()"
   ]
  },
  {
   "cell_type": "markdown",
   "metadata": {},
   "source": [
    "# Save Dataset"
   ]
  },
  {
   "cell_type": "code",
   "execution_count": 135,
   "metadata": {},
   "outputs": [],
   "source": [
    "games.to_csv('../data/games_clean.csv', index = False)"
   ]
  },
  {
   "cell_type": "markdown",
   "metadata": {},
   "source": [
    "# Conclusiones"
   ]
  },
  {
   "cell_type": "markdown",
   "metadata": {},
   "source": [
    "- Se ha llevado a cabo la visualización de todos los datos de tipo numérico, donde se ha decidido por emplear la normalización en todas ellas excepto por el feature 'Price'."
   ]
  }
 ],
 "metadata": {
  "kernelspec": {
   "display_name": "ML",
   "language": "python",
   "name": "python3"
  },
  "language_info": {
   "codemirror_mode": {
    "name": "ipython",
    "version": 3
   },
   "file_extension": ".py",
   "mimetype": "text/x-python",
   "name": "python",
   "nbconvert_exporter": "python",
   "pygments_lexer": "ipython3",
   "version": "3.10.14"
  }
 },
 "nbformat": 4,
 "nbformat_minor": 2
}
